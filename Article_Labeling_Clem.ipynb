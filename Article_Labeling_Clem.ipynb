{
 "cells": [
  {
   "cell_type": "markdown",
   "metadata": {},
   "source": [
    "## Import Libraries"
   ]
  },
  {
   "cell_type": "code",
   "execution_count": 1,
   "metadata": {
    "colab": {
     "base_uri": "https://localhost:8080/",
     "height": 102
    },
    "id": "8DsmvxQehjID",
    "outputId": "487b0b51-6b35-4c29-9f31-ad8a1a54166c"
   },
   "outputs": [
    {
     "name": "stderr",
     "output_type": "stream",
     "text": [
      "[nltk_data] Downloading package stopwords to\n",
      "[nltk_data]     /Users/clement_turcan/nltk_data...\n",
      "[nltk_data]   Package stopwords is already up-to-date!\n",
      "[nltk_data] Downloading package punkt to\n",
      "[nltk_data]     /Users/clement_turcan/nltk_data...\n",
      "[nltk_data]   Package punkt is already up-to-date!\n"
     ]
    },
    {
     "data": {
      "text/plain": [
       "True"
      ]
     },
     "execution_count": 1,
     "metadata": {},
     "output_type": "execute_result"
    }
   ],
   "source": [
    "# Imports\n",
    "import pandas as pd\n",
    "import numpy as np\n",
    "import json\n",
    "import re\n",
    "from gensim.models import Word2Vec\n",
    "import matplotlib.pyplot as plt\n",
    "import seaborn as sns\n",
    "from tqdm import tqdm\n",
    "import nltk\n",
    "from nltk.corpus import stopwords\n",
    "from nltk.tokenize import word_tokenize\n",
    "nltk.download('stopwords')\n",
    "nltk.download('punkt')"
   ]
  },
  {
   "cell_type": "markdown",
   "metadata": {
    "id": "9YN3tIWZxvJc"
   },
   "source": [
    "## Download Unlabelled articles"
   ]
  },
  {
   "cell_type": "code",
   "execution_count": 2,
   "metadata": {
    "colab": {
     "base_uri": "https://localhost:8080/",
     "height": 341
    },
    "id": "GAPP56K2hnAj",
    "outputId": "c382b05f-f303-4095-b896-3402efdd558a"
   },
   "outputs": [],
   "source": [
    "# Read the json file line by line and append to the dict\n",
    "raw_json_data = []\n",
    "with open('./data/20200420_20200714_business_articles.json') as f:\n",
    "    for line in f:\n",
    "        raw_json_data.append(json.loads(line))"
   ]
  },
  {
   "cell_type": "code",
   "execution_count": 3,
   "metadata": {
    "colab": {
     "base_uri": "https://localhost:8080/",
     "height": 207
    },
    "id": "hbzNVsXfh0qy",
    "outputId": "25fc100c-ea57-4391-e9c6-4019a390b7c3"
   },
   "outputs": [
    {
     "data": {
      "text/plain": [
       "416307"
      ]
     },
     "execution_count": 3,
     "metadata": {},
     "output_type": "execute_result"
    }
   ],
   "source": [
    "len(raw_json_data)"
   ]
  },
  {
   "cell_type": "markdown",
   "metadata": {},
   "source": [
    "## Fetching companies names and related names"
   ]
  },
  {
   "cell_type": "code",
   "execution_count": 4,
   "metadata": {},
   "outputs": [],
   "source": [
    "# Load companies lexical\n",
    "companies = pd.read_excel (r'./data/comapny_name-related_words.xlsx', header = None, names=['text'])\n",
    "# Lower\n",
    "#df['text'] = [str(row).lower() for index, row in df.iterrows()] \n",
    "companies[['companies', \"words\"]] = companies.text.str.split(\";\", expand=True)\n",
    "companies.drop(labels=['text'], axis = 1, inplace=True)\n",
    "companies = companies.groupby('companies')['words'].apply(list).reset_index(name='lexic')"
   ]
  },
  {
   "cell_type": "code",
   "execution_count": 5,
   "metadata": {
    "scrolled": true
   },
   "outputs": [
    {
     "name": "stdout",
     "output_type": "stream",
     "text": [
      "21st Century Fox\n",
      "['Cable television', 'Broadcasting', 'Record label', 'Movie production', 'TV production', 'Rupert Murdoch', 'James Murdoch', 'Lachlan Murdoch', 'Chase Carey', 'Fox Broadcasting Company', '20th Century Fox Television', 'Fox Star Studios', '20th Century Fox', 'Fox Entertainment Group', 'Fox Sports Networks', 'Fox Networks Group', 'Fox Digital Entertainment', 'Sky plc', 'Fox News Channel', 'TrueX', 'National Geographic Channel', '20th Television', 'Blue Sky Studios', 'Fox Television Stations', 'YES Network', 'Endemol Shine Group', 'STAR TV', 'Hulu']\n",
      "None\n"
     ]
    }
   ],
   "source": [
    "# Print company name\n",
    "print(companies.iloc[0][0])\n",
    "# Print company's list of words\n",
    "print(print(companies.iloc[0][1]))"
   ]
  },
  {
   "cell_type": "code",
   "execution_count": 6,
   "metadata": {},
   "outputs": [
    {
     "data": {
      "text/html": [
       "<div>\n",
       "<style scoped>\n",
       "    .dataframe tbody tr th:only-of-type {\n",
       "        vertical-align: middle;\n",
       "    }\n",
       "\n",
       "    .dataframe tbody tr th {\n",
       "        vertical-align: top;\n",
       "    }\n",
       "\n",
       "    .dataframe thead th {\n",
       "        text-align: right;\n",
       "    }\n",
       "</style>\n",
       "<table border=\"1\" class=\"dataframe\">\n",
       "  <thead>\n",
       "    <tr style=\"text-align: right;\">\n",
       "      <th></th>\n",
       "      <th>companies</th>\n",
       "      <th>lexic</th>\n",
       "    </tr>\n",
       "  </thead>\n",
       "  <tbody>\n",
       "    <tr>\n",
       "      <th>0</th>\n",
       "      <td>21st Century Fox</td>\n",
       "      <td>[Cable television, Broadcasting, Record label,...</td>\n",
       "    </tr>\n",
       "    <tr>\n",
       "      <th>1</th>\n",
       "      <td>Activision Blizzard</td>\n",
       "      <td>[Activision, Call of Duty, Diablo, Heroes of t...</td>\n",
       "    </tr>\n",
       "    <tr>\n",
       "      <th>2</th>\n",
       "      <td>Adobe</td>\n",
       "      <td>[Adobe, Adobe Systems, John Warnock, Charles G...</td>\n",
       "    </tr>\n",
       "    <tr>\n",
       "      <th>3</th>\n",
       "      <td>Advanced Micro Devices</td>\n",
       "      <td>[AMD, Processor, graphics, Advanced Micro Devi...</td>\n",
       "    </tr>\n",
       "    <tr>\n",
       "      <th>4</th>\n",
       "      <td>Akamai Technologies</td>\n",
       "      <td>[Akamai, Tom Leighton, Paul Sagan, George Conr...</td>\n",
       "    </tr>\n",
       "  </tbody>\n",
       "</table>\n",
       "</div>"
      ],
      "text/plain": [
       "                companies                                              lexic\n",
       "0        21st Century Fox  [Cable television, Broadcasting, Record label,...\n",
       "1     Activision Blizzard  [Activision, Call of Duty, Diablo, Heroes of t...\n",
       "2                  Adobe   [Adobe, Adobe Systems, John Warnock, Charles G...\n",
       "3  Advanced Micro Devices  [AMD, Processor, graphics, Advanced Micro Devi...\n",
       "4     Akamai Technologies  [Akamai, Tom Leighton, Paul Sagan, George Conr..."
      ]
     },
     "execution_count": 6,
     "metadata": {},
     "output_type": "execute_result"
    }
   ],
   "source": [
    "companies.head()"
   ]
  },
  {
   "cell_type": "code",
   "execution_count": 7,
   "metadata": {},
   "outputs": [
    {
     "data": {
      "text/plain": [
       "4    [Akamai, Tom Leighton, Paul Sagan, George Conr...\n",
       "Name: lexic, dtype: object"
      ]
     },
     "execution_count": 7,
     "metadata": {},
     "output_type": "execute_result"
    }
   ],
   "source": [
    "companies.loc[companies.companies=='Akamai Technologies',:].lexic"
   ]
  },
  {
   "cell_type": "code",
   "execution_count": 8,
   "metadata": {
    "scrolled": true
   },
   "outputs": [
    {
     "name": "stdout",
     "output_type": "stream",
     "text": [
      "There are 52 different companies.\n"
     ]
    }
   ],
   "source": [
    "print('There are {} different companies.'.format(len(companies.iloc[:])))"
   ]
  },
  {
   "cell_type": "markdown",
   "metadata": {},
   "source": [
    "## Extracting url, title & full_text of each article:"
   ]
  },
  {
   "cell_type": "code",
   "execution_count": 9,
   "metadata": {},
   "outputs": [],
   "source": [
    "urls = []\n",
    "plain_texts = []\n",
    "titles = []\n",
    "\n",
    "min_article_size = 2000\n",
    "for article in raw_json_data:\n",
    "    plain_text = article.get('full-text')\n",
    "    title = article.get('title')\n",
    "    url = article.get('link')\n",
    "    if plain_text and (\"Article `download()` failed\" not in plain_text) and (\"Please enable cookies\" not in plain_text) and (len(plain_text)>min_article_size):\n",
    "        plain_texts.append(plain_text)\n",
    "        urls.append(url)\n",
    "        titles.append(title)\n",
    "       "
   ]
  },
  {
   "cell_type": "markdown",
   "metadata": {},
   "source": [
    "#### Some statistics about removed articles"
   ]
  },
  {
   "cell_type": "code",
   "execution_count": 10,
   "metadata": {},
   "outputs": [],
   "source": [
    "# total : total number of articles (100%)\n",
    "# type_1 : percentage  article's length < min_article_size\n",
    "# type_2 : starts with 'Article `download()` failed'\n",
    "# type_3 : starts with 'Please enable cookies'\n",
    "\n",
    "total = len(raw_json_data)\n",
    "type_1 = round(len([line for line in raw_json_data if len(str(line.get('full-text')))<=min_article_size]) / total * 100, 2)\n",
    "type_2 = round(len([line for line in raw_json_data if 'Article `download()` failed' in str(line.get('full-text'))]) / total * 100, 2)\n",
    "type_3 = round(len([line for line in raw_json_data if 'Please enable cookies' in str(line.get('full-text'))]) / total * 100, 2)\n"
   ]
  },
  {
   "cell_type": "code",
   "execution_count": 11,
   "metadata": {},
   "outputs": [
    {
     "data": {
      "text/plain": [
       "'type_1'"
      ]
     },
     "execution_count": 11,
     "metadata": {},
     "output_type": "execute_result"
    }
   ],
   "source": [
    "perc = {'type_1': type_1, 'type_2': type_2, 'type_3': type_3}\n",
    "\n",
    "list(perc.keys())[0]"
   ]
  },
  {
   "cell_type": "code",
   "execution_count": 12,
   "metadata": {},
   "outputs": [
    {
     "data": {
      "image/png": "[encoded data removed]",
      "text/plain": [
       "<Figure size 878.4x468 with 1 Axes>"
      ]
     },
     "metadata": {
      "needs_background": "light"
     },
     "output_type": "display_data"
    }
   ],
   "source": [
    "# Plot removed articles\n",
    "perc = {'type_1': type_1, 'type_2': type_2, 'type_3': type_3}\n",
    "plt.figure(figsize=(12.2, 6.5))\n",
    "plt.bar(perc.keys(), perc.values(), width=0.75)\n",
    "plt.ylim([0,100])\n",
    "plt.ylabel('Percentage (%)')\n",
    "for i, v in enumerate(perc.values()):\n",
    "    plt.text(i - .15, v + 3, str(v) + '%', fontweight='bold')\n",
    "plt.show()"
   ]
  },
  {
   "cell_type": "markdown",
   "metadata": {
    "colab": {
     "base_uri": "https://localhost:8080/",
     "height": 34
    },
    "id": "GTFb8qsHjrgO",
    "outputId": "3bd8d7e0-4e20-4081-e3a8-5313c9c15b14"
   },
   "source": [
    "## Build DataFrame with extracted data"
   ]
  },
  {
   "cell_type": "code",
   "execution_count": 13,
   "metadata": {},
   "outputs": [],
   "source": [
    "dict_a = {'url': urls, 'title': titles, 'plain_text': plain_texts}\n",
    "df_articles = pd.DataFrame(dict_a)"
   ]
  },
  {
   "cell_type": "code",
   "execution_count": 14,
   "metadata": {},
   "outputs": [
    {
     "data": {
      "text/html": [
       "<div>\n",
       "<style scoped>\n",
       "    .dataframe tbody tr th:only-of-type {\n",
       "        vertical-align: middle;\n",
       "    }\n",
       "\n",
       "    .dataframe tbody tr th {\n",
       "        vertical-align: top;\n",
       "    }\n",
       "\n",
       "    .dataframe thead th {\n",
       "        text-align: right;\n",
       "    }\n",
       "</style>\n",
       "<table border=\"1\" class=\"dataframe\">\n",
       "  <thead>\n",
       "    <tr style=\"text-align: right;\">\n",
       "      <th></th>\n",
       "      <th>url</th>\n",
       "      <th>title</th>\n",
       "      <th>plain_text</th>\n",
       "    </tr>\n",
       "  </thead>\n",
       "  <tbody>\n",
       "    <tr>\n",
       "      <th>0</th>\n",
       "      <td>https://www.dailymail.co.uk/tvshowbiz/article-...</td>\n",
       "      <td>MasterChef's Harry Foster hits back at claims ...</td>\n",
       "      <td>Eliminated MasterChef contestant Harry Foster ...</td>\n",
       "    </tr>\n",
       "    <tr>\n",
       "      <th>1</th>\n",
       "      <td>https://www.washingtontimes.com/news/2020/jun/...</td>\n",
       "      <td>Protest arrests logjam tests NYC legal system,...</td>\n",
       "      <td>NEW YORK (AP) - A wave of arrests in the New Y...</td>\n",
       "    </tr>\n",
       "    <tr>\n",
       "      <th>2</th>\n",
       "      <td>https://www.dailymail.co.uk/news/article-83114...</td>\n",
       "      <td>Labour's Anneliese Dodds says she will REFUSE ...</td>\n",
       "      <td>A top shadow minister today said there was not...</td>\n",
       "    </tr>\n",
       "    <tr>\n",
       "      <th>3</th>\n",
       "      <td>http://feeds.reuters.com/~r/Reuters/worldNews/...</td>\n",
       "      <td>Civil unrest rages in Minneapolis over raciall...</td>\n",
       "      <td>MINNEAPOLIS (Reuters) - Peaceful rallies gave ...</td>\n",
       "    </tr>\n",
       "    <tr>\n",
       "      <th>4</th>\n",
       "      <td>https://www.dailymail.co.uk/news/article-82734...</td>\n",
       "      <td>Australia 'beats the cr*p' out of coronavirus ...</td>\n",
       "      <td>Australia is 'beating the c**p' out of coronav...</td>\n",
       "    </tr>\n",
       "  </tbody>\n",
       "</table>\n",
       "</div>"
      ],
      "text/plain": [
       "                                                 url  \\\n",
       "0  https://www.dailymail.co.uk/tvshowbiz/article-...   \n",
       "1  https://www.washingtontimes.com/news/2020/jun/...   \n",
       "2  https://www.dailymail.co.uk/news/article-83114...   \n",
       "3  http://feeds.reuters.com/~r/Reuters/worldNews/...   \n",
       "4  https://www.dailymail.co.uk/news/article-82734...   \n",
       "\n",
       "                                               title  \\\n",
       "0  MasterChef's Harry Foster hits back at claims ...   \n",
       "1  Protest arrests logjam tests NYC legal system,...   \n",
       "2  Labour's Anneliese Dodds says she will REFUSE ...   \n",
       "3  Civil unrest rages in Minneapolis over raciall...   \n",
       "4  Australia 'beats the cr*p' out of coronavirus ...   \n",
       "\n",
       "                                          plain_text  \n",
       "0  Eliminated MasterChef contestant Harry Foster ...  \n",
       "1  NEW YORK (AP) - A wave of arrests in the New Y...  \n",
       "2  A top shadow minister today said there was not...  \n",
       "3  MINNEAPOLIS (Reuters) - Peaceful rallies gave ...  \n",
       "4  Australia is 'beating the c**p' out of coronav...  "
      ]
     },
     "execution_count": 14,
     "metadata": {},
     "output_type": "execute_result"
    }
   ],
   "source": [
    "df_articles.head()"
   ]
  },
  {
   "cell_type": "markdown",
   "metadata": {
    "id": "TxT7vhKrxrci"
   },
   "source": [
    "## Cleaning the articles"
   ]
  },
  {
   "cell_type": "code",
   "execution_count": 109,
   "metadata": {},
   "outputs": [],
   "source": [
    "# Cleaning\n",
    "df_cleaned = df_articles.head(1000).copy(deep= True)\n",
    "df_cleaned['plain_text'] = [re.sub(\"\\n\", ' ', re.sub(\"\\r\", ' ', text)) for text in df_cleaned['plain_text']]\n",
    "df_cleaned['plain_text'] = [re.sub(r\"\\s+\", ' ', re.sub(\"[^a-zA-Z]\", ' ', text)) for text in df_cleaned['plain_text']]\n"
   ]
  },
  {
   "cell_type": "code",
   "execution_count": 110,
   "metadata": {},
   "outputs": [
    {
     "data": {
      "text/plain": [
       "4264"
      ]
     },
     "execution_count": 110,
     "metadata": {},
     "output_type": "execute_result"
    }
   ],
   "source": [
    "len(df_cleaned['plain_text'][1])"
   ]
  },
  {
   "cell_type": "markdown",
   "metadata": {},
   "source": [
    "#### Finding Stop Words & Removing them from plain text"
   ]
  },
  {
   "cell_type": "code",
   "execution_count": 118,
   "metadata": {
    "id": "RHxn8HnquJx7"
   },
   "outputs": [],
   "source": [
    "# Create stopwords list\n",
    "stopW = stopwords.words('english')\n",
    "stopW.append('the')\n",
    "stopW.append('The')\n",
    "stopW.append('in')\n",
    "df_cleaned['plain_text_no_sw'] = df_cleaned['plain_text'].apply(lambda words : ' '.join(word for word in words.split() if word not in stopW))\n"
   ]
  },
  {
   "cell_type": "code",
   "execution_count": 119,
   "metadata": {},
   "outputs": [
    {
     "data": {
      "text/plain": [
       "3216"
      ]
     },
     "execution_count": 119,
     "metadata": {},
     "output_type": "execute_result"
    }
   ],
   "source": [
    "len(df_cleaned['plain_text_no_sw'][1])"
   ]
  },
  {
   "cell_type": "code",
   "execution_count": 120,
   "metadata": {
    "scrolled": true
   },
   "outputs": [
    {
     "data": {
      "text/html": [
       "<div>\n",
       "<style scoped>\n",
       "    .dataframe tbody tr th:only-of-type {\n",
       "        vertical-align: middle;\n",
       "    }\n",
       "\n",
       "    .dataframe tbody tr th {\n",
       "        vertical-align: top;\n",
       "    }\n",
       "\n",
       "    .dataframe thead th {\n",
       "        text-align: right;\n",
       "    }\n",
       "</style>\n",
       "<table border=\"1\" class=\"dataframe\">\n",
       "  <thead>\n",
       "    <tr style=\"text-align: right;\">\n",
       "      <th></th>\n",
       "      <th>url</th>\n",
       "      <th>title</th>\n",
       "      <th>plain_text</th>\n",
       "      <th>plain_text_no_sw</th>\n",
       "    </tr>\n",
       "  </thead>\n",
       "  <tbody>\n",
       "    <tr>\n",
       "      <th>0</th>\n",
       "      <td>https://www.dailymail.co.uk/tvshowbiz/article-...</td>\n",
       "      <td>MasterChef's Harry Foster hits back at claims ...</td>\n",
       "      <td>Eliminated MasterChef contestant Harry Foster ...</td>\n",
       "      <td>Eliminated MasterChef contestant Harry Foster ...</td>\n",
       "    </tr>\n",
       "    <tr>\n",
       "      <th>1</th>\n",
       "      <td>https://www.washingtontimes.com/news/2020/jun/...</td>\n",
       "      <td>Protest arrests logjam tests NYC legal system,...</td>\n",
       "      <td>NEW YORK AP A wave of arrests in the New York ...</td>\n",
       "      <td>NEW YORK AP A wave arrests New York City prote...</td>\n",
       "    </tr>\n",
       "    <tr>\n",
       "      <th>2</th>\n",
       "      <td>https://www.dailymail.co.uk/news/article-83114...</td>\n",
       "      <td>Labour's Anneliese Dodds says she will REFUSE ...</td>\n",
       "      <td>A top shadow minister today said there was not...</td>\n",
       "      <td>A top shadow minister today said enough eviden...</td>\n",
       "    </tr>\n",
       "    <tr>\n",
       "      <th>3</th>\n",
       "      <td>http://feeds.reuters.com/~r/Reuters/worldNews/...</td>\n",
       "      <td>Civil unrest rages in Minneapolis over raciall...</td>\n",
       "      <td>MINNEAPOLIS Reuters Peaceful rallies gave way ...</td>\n",
       "      <td>MINNEAPOLIS Reuters Peaceful rallies gave way ...</td>\n",
       "    </tr>\n",
       "    <tr>\n",
       "      <th>4</th>\n",
       "      <td>https://www.dailymail.co.uk/news/article-82734...</td>\n",
       "      <td>Australia 'beats the cr*p' out of coronavirus ...</td>\n",
       "      <td>Australia is beating the c p out of coronaviru...</td>\n",
       "      <td>Australia beating c p coronavirus six states t...</td>\n",
       "    </tr>\n",
       "  </tbody>\n",
       "</table>\n",
       "</div>"
      ],
      "text/plain": [
       "                                                 url  \\\n",
       "0  https://www.dailymail.co.uk/tvshowbiz/article-...   \n",
       "1  https://www.washingtontimes.com/news/2020/jun/...   \n",
       "2  https://www.dailymail.co.uk/news/article-83114...   \n",
       "3  http://feeds.reuters.com/~r/Reuters/worldNews/...   \n",
       "4  https://www.dailymail.co.uk/news/article-82734...   \n",
       "\n",
       "                                               title  \\\n",
       "0  MasterChef's Harry Foster hits back at claims ...   \n",
       "1  Protest arrests logjam tests NYC legal system,...   \n",
       "2  Labour's Anneliese Dodds says she will REFUSE ...   \n",
       "3  Civil unrest rages in Minneapolis over raciall...   \n",
       "4  Australia 'beats the cr*p' out of coronavirus ...   \n",
       "\n",
       "                                          plain_text  \\\n",
       "0  Eliminated MasterChef contestant Harry Foster ...   \n",
       "1  NEW YORK AP A wave of arrests in the New York ...   \n",
       "2  A top shadow minister today said there was not...   \n",
       "3  MINNEAPOLIS Reuters Peaceful rallies gave way ...   \n",
       "4  Australia is beating the c p out of coronaviru...   \n",
       "\n",
       "                                    plain_text_no_sw  \n",
       "0  Eliminated MasterChef contestant Harry Foster ...  \n",
       "1  NEW YORK AP A wave arrests New York City prote...  \n",
       "2  A top shadow minister today said enough eviden...  \n",
       "3  MINNEAPOLIS Reuters Peaceful rallies gave way ...  \n",
       "4  Australia beating c p coronavirus six states t...  "
      ]
     },
     "execution_count": 120,
     "metadata": {},
     "output_type": "execute_result"
    }
   ],
   "source": [
    "df_cleaned.head()"
   ]
  },
  {
   "cell_type": "markdown",
   "metadata": {},
   "source": [
    "## Labeling articles with company names"
   ]
  },
  {
   "cell_type": "code",
   "execution_count": 121,
   "metadata": {},
   "outputs": [],
   "source": [
    "def labeling(text, companies):\n",
    "    labels = []\n",
    "    for company in companies.companies:\n",
    "        if company.lower() in text.lower():\n",
    "            labels.append(company)\n",
    "        else:\n",
    "            for related_names in companies.loc[companies.companies == company,:].lexic:\n",
    "                for name in related_names:\n",
    "                    if name in text and name not in labels:\n",
    "                        labels.append(company)\n",
    "                        break\n",
    "    return labels\n"
   ]
  },
  {
   "cell_type": "code",
   "execution_count": 122,
   "metadata": {},
   "outputs": [],
   "source": [
    "# Labeling the articles with company names\n",
    "df_cleaned['labels'] = [labeling(text, companies) for text in df_cleaned['plain_text_no_sw']]# if labeling(text, companies)]\n"
   ]
  },
  {
   "cell_type": "markdown",
   "metadata": {},
   "source": [
    "##### Porter and Snoball stemming methods convert some words to non-dictionary words. Such conversion of words restricts the use of porter and snowball stemming methods to search engines, n-gram context, and text classification problems.\n",
    "##### Lemmatization can be used in paragraph/document summarization, word/sentence prediction, sentiment analysis, and others."
   ]
  },
  {
   "cell_type": "code",
   "execution_count": 123,
   "metadata": {},
   "outputs": [],
   "source": [
    "# Stemming\n",
    "snowball_stemmer = nltk.SnowballStemmer('english')\n",
    "df_cleaned['plain_text'] = [snowball_stemmer.stem(text) for text in df_cleaned['plain_text']]"
   ]
  },
  {
   "cell_type": "code",
   "execution_count": 124,
   "metadata": {},
   "outputs": [
    {
     "data": {
      "text/html": [
       "<div>\n",
       "<style scoped>\n",
       "    .dataframe tbody tr th:only-of-type {\n",
       "        vertical-align: middle;\n",
       "    }\n",
       "\n",
       "    .dataframe tbody tr th {\n",
       "        vertical-align: top;\n",
       "    }\n",
       "\n",
       "    .dataframe thead th {\n",
       "        text-align: right;\n",
       "    }\n",
       "</style>\n",
       "<table border=\"1\" class=\"dataframe\">\n",
       "  <thead>\n",
       "    <tr style=\"text-align: right;\">\n",
       "      <th></th>\n",
       "      <th>url</th>\n",
       "      <th>title</th>\n",
       "      <th>plain_text</th>\n",
       "      <th>plain_text_no_sw</th>\n",
       "      <th>labels</th>\n",
       "    </tr>\n",
       "  </thead>\n",
       "  <tbody>\n",
       "    <tr>\n",
       "      <th>0</th>\n",
       "      <td>https://www.dailymail.co.uk/tvshowbiz/article-...</td>\n",
       "      <td>MasterChef's Harry Foster hits back at claims ...</td>\n",
       "      <td>eliminated masterchef contestant harry foster ...</td>\n",
       "      <td>Eliminated MasterChef contestant Harry Foster ...</td>\n",
       "      <td>[]</td>\n",
       "    </tr>\n",
       "    <tr>\n",
       "      <th>1</th>\n",
       "      <td>https://www.washingtontimes.com/news/2020/jun/...</td>\n",
       "      <td>Protest arrests logjam tests NYC legal system,...</td>\n",
       "      <td>new york ap a wave of arrests in the new york ...</td>\n",
       "      <td>NEW YORK AP A wave arrests New York City prote...</td>\n",
       "      <td>[]</td>\n",
       "    </tr>\n",
       "    <tr>\n",
       "      <th>2</th>\n",
       "      <td>https://www.dailymail.co.uk/news/article-83114...</td>\n",
       "      <td>Labour's Anneliese Dodds says she will REFUSE ...</td>\n",
       "      <td>a top shadow minister today said there was not...</td>\n",
       "      <td>A top shadow minister today said enough eviden...</td>\n",
       "      <td>[Advanced Micro Devices]</td>\n",
       "    </tr>\n",
       "    <tr>\n",
       "      <th>3</th>\n",
       "      <td>http://feeds.reuters.com/~r/Reuters/worldNews/...</td>\n",
       "      <td>Civil unrest rages in Minneapolis over raciall...</td>\n",
       "      <td>minneapolis reuters peaceful rallies gave way ...</td>\n",
       "      <td>MINNEAPOLIS Reuters Peaceful rallies gave way ...</td>\n",
       "      <td>[]</td>\n",
       "    </tr>\n",
       "    <tr>\n",
       "      <th>4</th>\n",
       "      <td>https://www.dailymail.co.uk/news/article-82734...</td>\n",
       "      <td>Australia 'beats the cr*p' out of coronavirus ...</td>\n",
       "      <td>australia is beating the c p out of coronaviru...</td>\n",
       "      <td>Australia beating c p coronavirus six states t...</td>\n",
       "      <td>[]</td>\n",
       "    </tr>\n",
       "  </tbody>\n",
       "</table>\n",
       "</div>"
      ],
      "text/plain": [
       "                                                 url  \\\n",
       "0  https://www.dailymail.co.uk/tvshowbiz/article-...   \n",
       "1  https://www.washingtontimes.com/news/2020/jun/...   \n",
       "2  https://www.dailymail.co.uk/news/article-83114...   \n",
       "3  http://feeds.reuters.com/~r/Reuters/worldNews/...   \n",
       "4  https://www.dailymail.co.uk/news/article-82734...   \n",
       "\n",
       "                                               title  \\\n",
       "0  MasterChef's Harry Foster hits back at claims ...   \n",
       "1  Protest arrests logjam tests NYC legal system,...   \n",
       "2  Labour's Anneliese Dodds says she will REFUSE ...   \n",
       "3  Civil unrest rages in Minneapolis over raciall...   \n",
       "4  Australia 'beats the cr*p' out of coronavirus ...   \n",
       "\n",
       "                                          plain_text  \\\n",
       "0  eliminated masterchef contestant harry foster ...   \n",
       "1  new york ap a wave of arrests in the new york ...   \n",
       "2  a top shadow minister today said there was not...   \n",
       "3  minneapolis reuters peaceful rallies gave way ...   \n",
       "4  australia is beating the c p out of coronaviru...   \n",
       "\n",
       "                                    plain_text_no_sw                    labels  \n",
       "0  Eliminated MasterChef contestant Harry Foster ...                        []  \n",
       "1  NEW YORK AP A wave arrests New York City prote...                        []  \n",
       "2  A top shadow minister today said enough eviden...  [Advanced Micro Devices]  \n",
       "3  MINNEAPOLIS Reuters Peaceful rallies gave way ...                        []  \n",
       "4  Australia beating c p coronavirus six states t...                        []  "
      ]
     },
     "execution_count": 124,
     "metadata": {},
     "output_type": "execute_result"
    }
   ],
   "source": [
    "df_cleaned.head()"
   ]
  },
  {
   "cell_type": "code",
   "execution_count": 125,
   "metadata": {},
   "outputs": [],
   "source": [
    "# saving data to csv\n",
    "PATH = \"./data/\"\n",
    "file = \"cleaned_articles_stemmed\"\n",
    "df_cleaned.to_csv(PATH + file + \".csv\",index=False)"
   ]
  },
  {
   "cell_type": "code",
   "execution_count": 126,
   "metadata": {
    "scrolled": true
   },
   "outputs": [
    {
     "ename": "FileNotFoundError",
     "evalue": "[Errno 2] File b'./data/cleaned_articles_200k.csv' does not exist: b'./data/cleaned_articles_200k.csv'",
     "output_type": "error",
     "traceback": [
      "\u001b[0;31m---------------------------------------------------------------------------\u001b[0m",
      "\u001b[0;31mFileNotFoundError\u001b[0m                         Traceback (most recent call last)",
      "\u001b[0;32m<ipython-input-126-9f81666e89ec>\u001b[0m in \u001b[0;36m<module>\u001b[0;34m\u001b[0m\n\u001b[1;32m      2\u001b[0m \u001b[0mPATH\u001b[0m \u001b[0;34m=\u001b[0m \u001b[0;34m\"./data/\"\u001b[0m\u001b[0;34m\u001b[0m\u001b[0;34m\u001b[0m\u001b[0m\n\u001b[1;32m      3\u001b[0m \u001b[0mfile\u001b[0m \u001b[0;34m=\u001b[0m \u001b[0;34m\"cleaned_articles_200k\"\u001b[0m\u001b[0;34m\u001b[0m\u001b[0;34m\u001b[0m\u001b[0m\n\u001b[0;32m----> 4\u001b[0;31m \u001b[0mdf_cleaned\u001b[0m \u001b[0;34m=\u001b[0m \u001b[0mpd\u001b[0m\u001b[0;34m.\u001b[0m\u001b[0mread_csv\u001b[0m\u001b[0;34m(\u001b[0m\u001b[0mPATH\u001b[0m \u001b[0;34m+\u001b[0m \u001b[0mfile\u001b[0m \u001b[0;34m+\u001b[0m \u001b[0;34m\".csv\"\u001b[0m\u001b[0;34m)\u001b[0m\u001b[0;34m\u001b[0m\u001b[0;34m\u001b[0m\u001b[0m\n\u001b[0m",
      "\u001b[0;32m//anaconda3/lib/python3.7/site-packages/pandas/io/parsers.py\u001b[0m in \u001b[0;36mparser_f\u001b[0;34m(filepath_or_buffer, sep, delimiter, header, names, index_col, usecols, squeeze, prefix, mangle_dupe_cols, dtype, engine, converters, true_values, false_values, skipinitialspace, skiprows, skipfooter, nrows, na_values, keep_default_na, na_filter, verbose, skip_blank_lines, parse_dates, infer_datetime_format, keep_date_col, date_parser, dayfirst, cache_dates, iterator, chunksize, compression, thousands, decimal, lineterminator, quotechar, quoting, doublequote, escapechar, comment, encoding, dialect, error_bad_lines, warn_bad_lines, delim_whitespace, low_memory, memory_map, float_precision)\u001b[0m\n\u001b[1;32m    683\u001b[0m         )\n\u001b[1;32m    684\u001b[0m \u001b[0;34m\u001b[0m\u001b[0m\n\u001b[0;32m--> 685\u001b[0;31m         \u001b[0;32mreturn\u001b[0m \u001b[0m_read\u001b[0m\u001b[0;34m(\u001b[0m\u001b[0mfilepath_or_buffer\u001b[0m\u001b[0;34m,\u001b[0m \u001b[0mkwds\u001b[0m\u001b[0;34m)\u001b[0m\u001b[0;34m\u001b[0m\u001b[0;34m\u001b[0m\u001b[0m\n\u001b[0m\u001b[1;32m    686\u001b[0m \u001b[0;34m\u001b[0m\u001b[0m\n\u001b[1;32m    687\u001b[0m     \u001b[0mparser_f\u001b[0m\u001b[0;34m.\u001b[0m\u001b[0m__name__\u001b[0m \u001b[0;34m=\u001b[0m \u001b[0mname\u001b[0m\u001b[0;34m\u001b[0m\u001b[0;34m\u001b[0m\u001b[0m\n",
      "\u001b[0;32m//anaconda3/lib/python3.7/site-packages/pandas/io/parsers.py\u001b[0m in \u001b[0;36m_read\u001b[0;34m(filepath_or_buffer, kwds)\u001b[0m\n\u001b[1;32m    455\u001b[0m \u001b[0;34m\u001b[0m\u001b[0m\n\u001b[1;32m    456\u001b[0m     \u001b[0;31m# Create the parser.\u001b[0m\u001b[0;34m\u001b[0m\u001b[0;34m\u001b[0m\u001b[0;34m\u001b[0m\u001b[0m\n\u001b[0;32m--> 457\u001b[0;31m     \u001b[0mparser\u001b[0m \u001b[0;34m=\u001b[0m \u001b[0mTextFileReader\u001b[0m\u001b[0;34m(\u001b[0m\u001b[0mfp_or_buf\u001b[0m\u001b[0;34m,\u001b[0m \u001b[0;34m**\u001b[0m\u001b[0mkwds\u001b[0m\u001b[0;34m)\u001b[0m\u001b[0;34m\u001b[0m\u001b[0;34m\u001b[0m\u001b[0m\n\u001b[0m\u001b[1;32m    458\u001b[0m \u001b[0;34m\u001b[0m\u001b[0m\n\u001b[1;32m    459\u001b[0m     \u001b[0;32mif\u001b[0m \u001b[0mchunksize\u001b[0m \u001b[0;32mor\u001b[0m \u001b[0miterator\u001b[0m\u001b[0;34m:\u001b[0m\u001b[0;34m\u001b[0m\u001b[0;34m\u001b[0m\u001b[0m\n",
      "\u001b[0;32m//anaconda3/lib/python3.7/site-packages/pandas/io/parsers.py\u001b[0m in \u001b[0;36m__init__\u001b[0;34m(self, f, engine, **kwds)\u001b[0m\n\u001b[1;32m    893\u001b[0m             \u001b[0mself\u001b[0m\u001b[0;34m.\u001b[0m\u001b[0moptions\u001b[0m\u001b[0;34m[\u001b[0m\u001b[0;34m\"has_index_names\"\u001b[0m\u001b[0;34m]\u001b[0m \u001b[0;34m=\u001b[0m \u001b[0mkwds\u001b[0m\u001b[0;34m[\u001b[0m\u001b[0;34m\"has_index_names\"\u001b[0m\u001b[0;34m]\u001b[0m\u001b[0;34m\u001b[0m\u001b[0;34m\u001b[0m\u001b[0m\n\u001b[1;32m    894\u001b[0m \u001b[0;34m\u001b[0m\u001b[0m\n\u001b[0;32m--> 895\u001b[0;31m         \u001b[0mself\u001b[0m\u001b[0;34m.\u001b[0m\u001b[0m_make_engine\u001b[0m\u001b[0;34m(\u001b[0m\u001b[0mself\u001b[0m\u001b[0;34m.\u001b[0m\u001b[0mengine\u001b[0m\u001b[0;34m)\u001b[0m\u001b[0;34m\u001b[0m\u001b[0;34m\u001b[0m\u001b[0m\n\u001b[0m\u001b[1;32m    896\u001b[0m \u001b[0;34m\u001b[0m\u001b[0m\n\u001b[1;32m    897\u001b[0m     \u001b[0;32mdef\u001b[0m \u001b[0mclose\u001b[0m\u001b[0;34m(\u001b[0m\u001b[0mself\u001b[0m\u001b[0;34m)\u001b[0m\u001b[0;34m:\u001b[0m\u001b[0;34m\u001b[0m\u001b[0;34m\u001b[0m\u001b[0m\n",
      "\u001b[0;32m//anaconda3/lib/python3.7/site-packages/pandas/io/parsers.py\u001b[0m in \u001b[0;36m_make_engine\u001b[0;34m(self, engine)\u001b[0m\n\u001b[1;32m   1133\u001b[0m     \u001b[0;32mdef\u001b[0m \u001b[0m_make_engine\u001b[0m\u001b[0;34m(\u001b[0m\u001b[0mself\u001b[0m\u001b[0;34m,\u001b[0m \u001b[0mengine\u001b[0m\u001b[0;34m=\u001b[0m\u001b[0;34m\"c\"\u001b[0m\u001b[0;34m)\u001b[0m\u001b[0;34m:\u001b[0m\u001b[0;34m\u001b[0m\u001b[0;34m\u001b[0m\u001b[0m\n\u001b[1;32m   1134\u001b[0m         \u001b[0;32mif\u001b[0m \u001b[0mengine\u001b[0m \u001b[0;34m==\u001b[0m \u001b[0;34m\"c\"\u001b[0m\u001b[0;34m:\u001b[0m\u001b[0;34m\u001b[0m\u001b[0;34m\u001b[0m\u001b[0m\n\u001b[0;32m-> 1135\u001b[0;31m             \u001b[0mself\u001b[0m\u001b[0;34m.\u001b[0m\u001b[0m_engine\u001b[0m \u001b[0;34m=\u001b[0m \u001b[0mCParserWrapper\u001b[0m\u001b[0;34m(\u001b[0m\u001b[0mself\u001b[0m\u001b[0;34m.\u001b[0m\u001b[0mf\u001b[0m\u001b[0;34m,\u001b[0m \u001b[0;34m**\u001b[0m\u001b[0mself\u001b[0m\u001b[0;34m.\u001b[0m\u001b[0moptions\u001b[0m\u001b[0;34m)\u001b[0m\u001b[0;34m\u001b[0m\u001b[0;34m\u001b[0m\u001b[0m\n\u001b[0m\u001b[1;32m   1136\u001b[0m         \u001b[0;32melse\u001b[0m\u001b[0;34m:\u001b[0m\u001b[0;34m\u001b[0m\u001b[0;34m\u001b[0m\u001b[0m\n\u001b[1;32m   1137\u001b[0m             \u001b[0;32mif\u001b[0m \u001b[0mengine\u001b[0m \u001b[0;34m==\u001b[0m \u001b[0;34m\"python\"\u001b[0m\u001b[0;34m:\u001b[0m\u001b[0;34m\u001b[0m\u001b[0;34m\u001b[0m\u001b[0m\n",
      "\u001b[0;32m//anaconda3/lib/python3.7/site-packages/pandas/io/parsers.py\u001b[0m in \u001b[0;36m__init__\u001b[0;34m(self, src, **kwds)\u001b[0m\n\u001b[1;32m   1915\u001b[0m         \u001b[0mkwds\u001b[0m\u001b[0;34m[\u001b[0m\u001b[0;34m\"usecols\"\u001b[0m\u001b[0;34m]\u001b[0m \u001b[0;34m=\u001b[0m \u001b[0mself\u001b[0m\u001b[0;34m.\u001b[0m\u001b[0musecols\u001b[0m\u001b[0;34m\u001b[0m\u001b[0;34m\u001b[0m\u001b[0m\n\u001b[1;32m   1916\u001b[0m \u001b[0;34m\u001b[0m\u001b[0m\n\u001b[0;32m-> 1917\u001b[0;31m         \u001b[0mself\u001b[0m\u001b[0;34m.\u001b[0m\u001b[0m_reader\u001b[0m \u001b[0;34m=\u001b[0m \u001b[0mparsers\u001b[0m\u001b[0;34m.\u001b[0m\u001b[0mTextReader\u001b[0m\u001b[0;34m(\u001b[0m\u001b[0msrc\u001b[0m\u001b[0;34m,\u001b[0m \u001b[0;34m**\u001b[0m\u001b[0mkwds\u001b[0m\u001b[0;34m)\u001b[0m\u001b[0;34m\u001b[0m\u001b[0;34m\u001b[0m\u001b[0m\n\u001b[0m\u001b[1;32m   1918\u001b[0m         \u001b[0mself\u001b[0m\u001b[0;34m.\u001b[0m\u001b[0munnamed_cols\u001b[0m \u001b[0;34m=\u001b[0m \u001b[0mself\u001b[0m\u001b[0;34m.\u001b[0m\u001b[0m_reader\u001b[0m\u001b[0;34m.\u001b[0m\u001b[0munnamed_cols\u001b[0m\u001b[0;34m\u001b[0m\u001b[0;34m\u001b[0m\u001b[0m\n\u001b[1;32m   1919\u001b[0m \u001b[0;34m\u001b[0m\u001b[0m\n",
      "\u001b[0;32mpandas/_libs/parsers.pyx\u001b[0m in \u001b[0;36mpandas._libs.parsers.TextReader.__cinit__\u001b[0;34m()\u001b[0m\n",
      "\u001b[0;32mpandas/_libs/parsers.pyx\u001b[0m in \u001b[0;36mpandas._libs.parsers.TextReader._setup_parser_source\u001b[0;34m()\u001b[0m\n",
      "\u001b[0;31mFileNotFoundError\u001b[0m: [Errno 2] File b'./data/cleaned_articles_200k.csv' does not exist: b'./data/cleaned_articles_200k.csv'"
     ]
    }
   ],
   "source": [
    "# Getting data from csv\n",
    "PATH = \"./data/\"\n",
    "file = \"cleaned_articles_200k\"\n",
    "df_cleaned = pd.read_csv(PATH + file + \".csv\") "
   ]
  },
  {
   "cell_type": "markdown",
   "metadata": {},
   "source": [
    "#### Some statistics about companies labeling"
   ]
  },
  {
   "cell_type": "code",
   "execution_count": 127,
   "metadata": {},
   "outputs": [],
   "source": [
    "# Count occurences of company naming\n",
    "import operator\n",
    "comp = {company:0 for company in companies.companies}\n",
    "for line in df_cleaned['labels']:\n",
    "    check = any(item in line for item in comp.keys())\n",
    "    if check is True:\n",
    "        List = [item for item in line if item in comp.keys()]\n",
    "        for key in List:\n",
    "            comp[key] = comp.get(key) + 1\n",
    "comp = sorted(comp.items(), key=operator.itemgetter(1), reverse=True)"
   ]
  },
  {
   "cell_type": "code",
   "execution_count": 128,
   "metadata": {},
   "outputs": [
    {
     "data": {
      "image/png": "[encoded data removed]",
      "text/plain": [
       "<Figure size 878.4x468 with 1 Axes>"
      ]
     },
     "metadata": {
      "needs_background": "light"
     },
     "output_type": "display_data"
    }
   ],
   "source": [
    "# Plot the statistics\n",
    "my_dict = {x[0]:x[1] for x in comp if x[1]>0}\n",
    "dict_null_values = len([x for x in comp if x[1]==0])\n",
    "my_dict['Nbr of Companies with no labeling'] = dict_null_values\n",
    "\n",
    "plt.figure(figsize=(12.2, 6.5))\n",
    "plt.bar(my_dict.keys(), my_dict.values(), width=0.75)\n",
    "plt.ylabel('Number of occurences')\n",
    "plt.xticks(rotation=90)\n",
    "plt.show()"
   ]
  },
  {
   "cell_type": "code",
   "execution_count": 129,
   "metadata": {},
   "outputs": [
    {
     "data": {
      "image/png": "[encoded data removed]",
      "text/plain": [
       "<Figure size 878.4x468 with 1 Axes>"
      ]
     },
     "metadata": {
      "needs_background": "light"
     },
     "output_type": "display_data"
    }
   ],
   "source": [
    "one_label_articles = len([x for x in df_cleaned[\"labels\"] if len(x) == 1])\n",
    "various_labels_articles = len([x for x in df_cleaned[\"labels\"] if len(x) > 1])\n",
    "unlabeled_articles = len([x for x in df_cleaned[\"labels\"] if not x])\n",
    "\n",
    "plt.figure(figsize=(12.2, 6.5))\n",
    "plt.bar(['Articles with one label', 'Articles with more than one label', 'Unlabeled articles'], [one_label_articles, various_labels_articles, unlabeled_articles], width=0.75)\n",
    "for i, v in enumerate([one_label_articles, various_labels_articles, unlabeled_articles]):\n",
    "    plt.text(i - 0.1, v + 10, str(v) + ' (' + str(round(v/df_cleaned.shape[0]*100,2)) + '%)', fontweight='bold')\n",
    "plt.show()"
   ]
  },
  {
   "cell_type": "markdown",
   "metadata": {},
   "source": [
    "### Creating combined corpuses for articles about same companies"
   ]
  },
  {
   "cell_type": "code",
   "execution_count": 130,
   "metadata": {},
   "outputs": [],
   "source": [
    "def check_company_in_article(labels, company):\n",
    "    return company in labels\n",
    "\n",
    "def combine_articles(df, company):\n",
    "    corpus = []\n",
    "    combined_articles_w_company = ' '.join(str(x) for x, y in zip(df['plain_text_no_sw'], df['labels']) if check_company_in_article(y, company))\n",
    "    combined_articles_wo_company = ' '.join(str(x) for x, y in zip(df['plain_text_no_sw'], df['labels']) if not check_company_in_article(y, company))\n",
    "    corpus.append(combined_articles_w_company)\n",
    "    corpus.append(combined_articles_wo_company)\n",
    "    return corpus"
   ]
  },
  {
   "cell_type": "code",
   "execution_count": 131,
   "metadata": {},
   "outputs": [
    {
     "data": {
      "text/plain": [
       "22281"
      ]
     },
     "execution_count": 131,
     "metadata": {},
     "output_type": "execute_result"
    }
   ],
   "source": [
    "# Example\n",
    "corpus = combine_articles(df_cleaned, '21st Century Fox')\n",
    "len(corpus[0])\n"
   ]
  },
  {
   "cell_type": "markdown",
   "metadata": {},
   "source": [
    "### implementing Stemming"
   ]
  },
  {
   "cell_type": "markdown",
   "metadata": {},
   "source": [
    "## Tf.Idf \n",
    "\n",
    "#### Get top 20 words for each company (that have articles related to them)"
   ]
  },
  {
   "cell_type": "code",
   "execution_count": 132,
   "metadata": {},
   "outputs": [],
   "source": [
    "# Imports\n",
    "from sklearn.feature_extraction.text import TfidfVectorizer "
   ]
  },
  {
   "cell_type": "code",
   "execution_count": 133,
   "metadata": {
    "scrolled": true
   },
   "outputs": [
    {
     "name": "stderr",
     "output_type": "stream",
     "text": [
      "100%|██████████| 52/52 [00:16<00:00,  3.14it/s]\n"
     ]
    }
   ],
   "source": [
    "# Tf.Idf on Companies that have Associated Articles \n",
    "dict_relavant_words = {}\n",
    "companies_list = list(companies.companies)\n",
    "for company in tqdm(companies_list):\n",
    "    #print(company)\n",
    "    tfidf_vec = TfidfVectorizer(stop_words = {'english'}, ngram_range=(1, 1))\n",
    "    # Corpus is composed of one \"big articles\" with all articles labeled \n",
    "    # with the company and another one composed of the other articles\n",
    "    corpus = combine_articles(df_cleaned, company)\n",
    "\n",
    "    if len(corpus[0])>0:\n",
    "        vector = tfidf_vec.fit_transform(corpus)\n",
    "\n",
    "        # Get the value for the first document of the collection\n",
    "        first_vector_tfidfvectorizer = vector[0]\n",
    "        df = pd.DataFrame(first_vector_tfidfvectorizer.T.todense(), \n",
    "                      index=tfidf_vec.get_feature_names(), \n",
    "                      columns=[\"tfidf\"]) \n",
    "        # Sort the value in ascending order\n",
    "        df = df.sort_values(by=[\"tfidf\"],ascending=False).head(20)\n",
    "        dict_relavant_words[company] = list(df.index)\n"
   ]
  },
  {
   "cell_type": "code",
   "execution_count": 134,
   "metadata": {},
   "outputs": [
    {
     "data": {
      "text/plain": [
       "{'21st Century Fox': ['sports',\n",
       "  'police',\n",
       "  'tv',\n",
       "  'said',\n",
       "  'pay',\n",
       "  'floyd',\n",
       "  'rights',\n",
       "  'adams',\n",
       "  'officers',\n",
       "  'protesters',\n",
       "  'virus',\n",
       "  'black',\n",
       "  'new',\n",
       "  'canadian',\n",
       "  'george',\n",
       "  'sunday',\n",
       "  'post',\n",
       "  'social',\n",
       "  'coronavirus',\n",
       "  'protests'],\n",
       " 'Activision Blizzard': ['paddy',\n",
       "  'car',\n",
       "  'gear',\n",
       "  'top',\n",
       "  'road',\n",
       "  'filming',\n",
       "  'crash',\n",
       "  'back',\n",
       "  'freddie',\n",
       "  'series',\n",
       "  'in',\n",
       "  'pictured',\n",
       "  'chris',\n",
       "  'trike',\n",
       "  'presenters',\n",
       "  'said',\n",
       "  'show',\n",
       "  'park',\n",
       "  'bbc',\n",
       "  'presenter'],\n",
       " 'Advanced Micro Devices': ['black',\n",
       "  'said',\n",
       "  'says',\n",
       "  'employees',\n",
       "  'people',\n",
       "  'would',\n",
       "  'faison',\n",
       "  'company',\n",
       "  'year',\n",
       "  'work',\n",
       "  'children',\n",
       "  'also',\n",
       "  'social',\n",
       "  'government',\n",
       "  'school',\n",
       "  'matter',\n",
       "  'lives',\n",
       "  'public',\n",
       "  'schools',\n",
       "  'racial'],\n",
       " 'Alexion Pharmaceuticals': ['elliott',\n",
       "  'alexion',\n",
       "  'said',\n",
       "  'company',\n",
       "  'price',\n",
       "  'share',\n",
       "  'companys',\n",
       "  'alexions',\n",
       "  'investors',\n",
       "  'letter',\n",
       "  'one',\n",
       "  'billion',\n",
       "  'elliotts',\n",
       "  'hedge',\n",
       "  'drug',\n",
       "  'industry',\n",
       "  'board',\n",
       "  'sale',\n",
       "  'year',\n",
       "  'shares'],\n",
       " 'Alphabet': ['black',\n",
       "  'said',\n",
       "  'year',\n",
       "  'company',\n",
       "  'companies',\n",
       "  'new',\n",
       "  'would',\n",
       "  'also',\n",
       "  'sports',\n",
       "  'tuesday',\n",
       "  'alstom',\n",
       "  'nasdaq',\n",
       "  'says',\n",
       "  'google',\n",
       "  'billion',\n",
       "  'covid',\n",
       "  'economic',\n",
       "  'reuters',\n",
       "  'shares',\n",
       "  'employees'],\n",
       " 'Amazon': ['year',\n",
       "  'million',\n",
       "  'black',\n",
       "  'amazon',\n",
       "  'said',\n",
       "  'company',\n",
       "  'and',\n",
       "  'growth',\n",
       "  'one',\n",
       "  'new',\n",
       "  'quarter',\n",
       "  'first',\n",
       "  'would',\n",
       "  'like',\n",
       "  'also',\n",
       "  'week',\n",
       "  'work',\n",
       "  'billion',\n",
       "  'people',\n",
       "  'time'],\n",
       " 'American Airlines Group': ['and',\n",
       "  'quarter',\n",
       "  'year',\n",
       "  'we',\n",
       "  'so',\n",
       "  'analyst',\n",
       "  'officer',\n",
       "  'chief',\n",
       "  'million',\n",
       "  'think',\n",
       "  'first',\n",
       "  'executive',\n",
       "  'business',\n",
       "  'us',\n",
       "  'financial',\n",
       "  'see',\n",
       "  'president',\n",
       "  'new',\n",
       "  'would',\n",
       "  'call'],\n",
       " 'Amgen': ['elliott',\n",
       "  'alexion',\n",
       "  'said',\n",
       "  'company',\n",
       "  'price',\n",
       "  'share',\n",
       "  'companys',\n",
       "  'alexions',\n",
       "  'investors',\n",
       "  'letter',\n",
       "  'one',\n",
       "  'billion',\n",
       "  'elliotts',\n",
       "  'hedge',\n",
       "  'drug',\n",
       "  'industry',\n",
       "  'board',\n",
       "  'sale',\n",
       "  'year',\n",
       "  'shares'],\n",
       " 'Apple': ['apple',\n",
       "  'black',\n",
       "  'said',\n",
       "  'year',\n",
       "  'samsung',\n",
       "  'quarter',\n",
       "  'also',\n",
       "  'company',\n",
       "  'china',\n",
       "  'samsungs',\n",
       "  'second',\n",
       "  'says',\n",
       "  'new',\n",
       "  'first',\n",
       "  'buffett',\n",
       "  'people',\n",
       "  'last',\n",
       "  'markets',\n",
       "  'coronavirus',\n",
       "  'united'],\n",
       " 'Autodesk': ['said',\n",
       "  'police',\n",
       "  'minneapolis',\n",
       "  'floyd',\n",
       "  'we',\n",
       "  'year',\n",
       "  'and',\n",
       "  'in',\n",
       "  'growth',\n",
       "  'million',\n",
       "  'quarter',\n",
       "  'analyst',\n",
       "  'cannabis',\n",
       "  'officer',\n",
       "  'protesters',\n",
       "  'george',\n",
       "  'friday',\n",
       "  'chief',\n",
       "  'first',\n",
       "  'chauvin'],\n",
       " 'Automatic Data Processing': ['and',\n",
       "  'so',\n",
       "  'year',\n",
       "  'quarter',\n",
       "  'we',\n",
       "  'analyst',\n",
       "  'officer',\n",
       "  'chief',\n",
       "  'think',\n",
       "  'million',\n",
       "  'first',\n",
       "  'executive',\n",
       "  'president',\n",
       "  'business',\n",
       "  'us',\n",
       "  'financial',\n",
       "  'well',\n",
       "  'see',\n",
       "  'call',\n",
       "  'question'],\n",
       " 'CA Technologies': ['billion',\n",
       "  'year',\n",
       "  'alibaba',\n",
       "  'revenue',\n",
       "  'yuan',\n",
       "  'company',\n",
       "  'chinese',\n",
       "  'ma',\n",
       "  'alphabet',\n",
       "  'china',\n",
       "  'worth',\n",
       "  'new',\n",
       "  'wealth',\n",
       "  'list',\n",
       "  'growth',\n",
       "  'million',\n",
       "  'huateng',\n",
       "  'richest',\n",
       "  'quarter',\n",
       "  'commerce'],\n",
       " 'Celgene': ['elliott',\n",
       "  'alexion',\n",
       "  'said',\n",
       "  'company',\n",
       "  'price',\n",
       "  'share',\n",
       "  'companys',\n",
       "  'alexions',\n",
       "  'investors',\n",
       "  'letter',\n",
       "  'one',\n",
       "  'billion',\n",
       "  'elliotts',\n",
       "  'hedge',\n",
       "  'drug',\n",
       "  'industry',\n",
       "  'board',\n",
       "  'sale',\n",
       "  'year',\n",
       "  'shares'],\n",
       " 'Cisco ': ['said',\n",
       "  'ticket',\n",
       "  'police',\n",
       "  'holders',\n",
       "  'may',\n",
       "  'season',\n",
       "  'refunds',\n",
       "  'games',\n",
       "  'people',\n",
       "  'credit',\n",
       "  'game',\n",
       "  'single',\n",
       "  'protesters',\n",
       "  'protests',\n",
       "  'bonus',\n",
       "  'receive',\n",
       "  'minneapolis',\n",
       "  'city',\n",
       "  'floyd',\n",
       "  'available'],\n",
       " 'Cognizant': ['and',\n",
       "  'so',\n",
       "  'we',\n",
       "  'customers',\n",
       "  'year',\n",
       "  'analyst',\n",
       "  'olivier',\n",
       "  'quarter',\n",
       "  'going',\n",
       "  'chief',\n",
       "  'officer',\n",
       "  'pomel',\n",
       "  'million',\n",
       "  'new',\n",
       "  'products',\n",
       "  'see',\n",
       "  'covid',\n",
       "  'thank',\n",
       "  'us',\n",
       "  'also'],\n",
       " 'Comcast': ['sports',\n",
       "  'said',\n",
       "  'police',\n",
       "  'tv',\n",
       "  'airstream',\n",
       "  'like',\n",
       "  'pay',\n",
       "  'floyd',\n",
       "  'people',\n",
       "  'rights',\n",
       "  'adams',\n",
       "  'new',\n",
       "  'says',\n",
       "  'one',\n",
       "  'officers',\n",
       "  'protesters',\n",
       "  'virus',\n",
       "  'also',\n",
       "  'post',\n",
       "  'work'],\n",
       " 'Dish Network': ['sports',\n",
       "  'tv',\n",
       "  'pay',\n",
       "  'fans',\n",
       "  'live',\n",
       "  'like',\n",
       "  'streaming',\n",
       "  'mlb',\n",
       "  'rights',\n",
       "  'nasdaq',\n",
       "  'prices',\n",
       "  'nfl',\n",
       "  'espn',\n",
       "  'bundle',\n",
       "  'bundles',\n",
       "  'companies',\n",
       "  'billion',\n",
       "  'season',\n",
       "  'channels',\n",
       "  'new'],\n",
       " 'EBay': ['elliott',\n",
       "  'alexion',\n",
       "  'said',\n",
       "  'company',\n",
       "  'price',\n",
       "  'companys',\n",
       "  'share',\n",
       "  'alexions',\n",
       "  'one',\n",
       "  'letter',\n",
       "  'billion',\n",
       "  'investors',\n",
       "  'elliotts',\n",
       "  'sale',\n",
       "  'industry',\n",
       "  'drug',\n",
       "  'hedge',\n",
       "  'board',\n",
       "  'year',\n",
       "  'strategy'],\n",
       " 'Facebook': ['said',\n",
       "  'police',\n",
       "  'facebook',\n",
       "  'people',\n",
       "  'black',\n",
       "  'twitter',\n",
       "  'new',\n",
       "  'floyd',\n",
       "  'also',\n",
       "  'year',\n",
       "  'company',\n",
       "  'one',\n",
       "  'in',\n",
       "  'billion',\n",
       "  'time',\n",
       "  'death',\n",
       "  'minneapolis',\n",
       "  'trump',\n",
       "  'he',\n",
       "  'social'],\n",
       " 'Intel': ['said',\n",
       "  'police',\n",
       "  'people',\n",
       "  'coronavirus',\n",
       "  'intelligence',\n",
       "  'new',\n",
       "  'covid',\n",
       "  'virus',\n",
       "  'could',\n",
       "  'one',\n",
       "  'would',\n",
       "  'also',\n",
       "  'officers',\n",
       "  'hong',\n",
       "  'london',\n",
       "  'statue',\n",
       "  'government',\n",
       "  'it',\n",
       "  'but',\n",
       "  'may'],\n",
       " 'Liberty Interactive': ['and',\n",
       "  'so',\n",
       "  'year',\n",
       "  'quarter',\n",
       "  'we',\n",
       "  'analyst',\n",
       "  'officer',\n",
       "  'chief',\n",
       "  'think',\n",
       "  'million',\n",
       "  'first',\n",
       "  'executive',\n",
       "  'president',\n",
       "  'business',\n",
       "  'us',\n",
       "  'financial',\n",
       "  'well',\n",
       "  'see',\n",
       "  'call',\n",
       "  'question'],\n",
       " 'McKesson ': ['antibody',\n",
       "  'elliott',\n",
       "  'said',\n",
       "  'plasma',\n",
       "  'alexion',\n",
       "  'antibodies',\n",
       "  'convalescent',\n",
       "  'treatments',\n",
       "  'use',\n",
       "  'company',\n",
       "  'blood',\n",
       "  'could',\n",
       "  'research',\n",
       "  'monoclonal',\n",
       "  'share',\n",
       "  'companys',\n",
       "  'price',\n",
       "  'therapies',\n",
       "  'patients',\n",
       "  'treatment'],\n",
       " 'Microsoft': ['said',\n",
       "  'new',\n",
       "  'police',\n",
       "  'year',\n",
       "  'floyd',\n",
       "  'las',\n",
       "  'vegas',\n",
       "  'but',\n",
       "  'coronavirus',\n",
       "  'it',\n",
       "  'people',\n",
       "  'also',\n",
       "  'state',\n",
       "  'apple',\n",
       "  'strip',\n",
       "  'covid',\n",
       "  'friday',\n",
       "  'minneapolis',\n",
       "  'george',\n",
       "  'may'],\n",
       " 'Netflix': ['sports',\n",
       "  'apple',\n",
       "  'tv',\n",
       "  'new',\n",
       "  'like',\n",
       "  'pay',\n",
       "  'inc',\n",
       "  'could',\n",
       "  'minis',\n",
       "  'response',\n",
       "  'month',\n",
       "  'also',\n",
       "  'companies',\n",
       "  'nasdaq',\n",
       "  'may',\n",
       "  'day',\n",
       "  'one',\n",
       "  'trump',\n",
       "  'streaming',\n",
       "  'points'],\n",
       " 'Paypal': ['tesla',\n",
       "  'musk',\n",
       "  'said',\n",
       "  'space',\n",
       "  'launch',\n",
       "  'nasa',\n",
       "  'california',\n",
       "  'spacex',\n",
       "  'vehicle',\n",
       "  'first',\n",
       "  'factory',\n",
       "  'trump',\n",
       "  'county',\n",
       "  'rocket',\n",
       "  'astronauts',\n",
       "  'quarter',\n",
       "  'coronavirus',\n",
       "  'company',\n",
       "  'elon',\n",
       "  'hurley'],\n",
       " 'Starbucks': ['said',\n",
       "  'investors',\n",
       "  'peets',\n",
       "  'jde',\n",
       "  'year',\n",
       "  'police',\n",
       "  'domino',\n",
       "  'starbucks',\n",
       "  'deal',\n",
       "  'stores',\n",
       "  'back',\n",
       "  'coffee',\n",
       "  'million',\n",
       "  'expected',\n",
       "  'it',\n",
       "  'as',\n",
       "  'source',\n",
       "  'egberts',\n",
       "  'ipos',\n",
       "  'roadshows'],\n",
       " 'Stericycle': ['and',\n",
       "  'quarter',\n",
       "  'year',\n",
       "  'we',\n",
       "  'so',\n",
       "  'analyst',\n",
       "  'chief',\n",
       "  'officer',\n",
       "  'million',\n",
       "  'think',\n",
       "  'first',\n",
       "  'executive',\n",
       "  'business',\n",
       "  'us',\n",
       "  'financial',\n",
       "  'see',\n",
       "  'president',\n",
       "  'new',\n",
       "  'call',\n",
       "  'well'],\n",
       " 'Tesla Motors': ['tesla',\n",
       "  'musk',\n",
       "  'said',\n",
       "  'space',\n",
       "  'first',\n",
       "  'quarter',\n",
       "  'vehicle',\n",
       "  'launch',\n",
       "  'california',\n",
       "  'nasa',\n",
       "  'spacex',\n",
       "  'factory',\n",
       "  'company',\n",
       "  'new',\n",
       "  'coronavirus',\n",
       "  'year',\n",
       "  'trump',\n",
       "  'production',\n",
       "  'county',\n",
       "  'rocket']}"
      ]
     },
     "execution_count": 134,
     "metadata": {},
     "output_type": "execute_result"
    }
   ],
   "source": [
    "dict_relavant_words"
   ]
  },
  {
   "cell_type": "code",
   "execution_count": 135,
   "metadata": {},
   "outputs": [],
   "source": [
    "# save dictionary\n",
    "PATH = \"./data/\"\n",
    "file = \"dict_relavant_words_stemmed\"\n",
    "a_file = open(PATH + file + \".json\", \"w\")\n",
    "json.dump(dict_relavant_words, a_file)\n",
    "a_file.close()"
   ]
  },
  {
   "cell_type": "markdown",
   "metadata": {},
   "source": [
    "## Tokenizing the text (to be modified)"
   ]
  },
  {
   "cell_type": "code",
   "execution_count": null,
   "metadata": {},
   "outputs": [],
   "source": [
    "#tokenized_text = []\n",
    "#for i, article in enumerate(clean_articles):\n",
    " #   token_article = word_tokenize(article)\n",
    "  #  token_article_wo_stopwords = [word for word in token_article if word not in stopW]\n",
    "   # tokenized_text.append(token_article_wo_stopwords)"
   ]
  },
  {
   "cell_type": "code",
   "execution_count": null,
   "metadata": {
    "id": "M7h4qggton9C",
    "scrolled": true
   },
   "outputs": [],
   "source": [
    "tokenized_text"
   ]
  },
  {
   "cell_type": "code",
   "execution_count": null,
   "metadata": {
    "id": "e1kL64LYpazy"
   },
   "outputs": [],
   "source": [
    "# Create the Word2Vec Model\n",
    "word2vec = Word2Vec(tokenized_text, min_count=2)\n",
    "sim_words = word2vec.wv.most_similar('australia')\n",
    "sim_words"
   ]
  },
  {
   "cell_type": "code",
   "execution_count": null,
   "metadata": {},
   "outputs": [],
   "source": [
    "# Build a TfidfVectorizer model\n",
    "from sklearn.feature_extraction.text import TfidfVectorizer\n",
    "\n",
    "def identity_tokenizer(text):\n",
    "  return text\n",
    "\n",
    "tfidf_vec = TfidfVectorizer(tokenizer=identity_tokenizer ,lowercase=False)\n",
    "X = tfidf_vec.fit_transform(tokenized_text)"
   ]
  },
  {
   "cell_type": "code",
   "execution_count": null,
   "metadata": {},
   "outputs": [],
   "source": [
    "# Print the tfidf values for the first doc (article)\n",
    "first_article_tfidf = X[0]\n",
    "\n",
    "# Place tf-idf values in a pandas DataFrame \n",
    "df = pd.DataFrame(first_article_tfidf.T.todense(), \n",
    "                  index=tfidf_vec.get_feature_names(), \n",
    "                  columns=[\"tfidf\"]) \n",
    "# Sort the value in ascending order\n",
    "df = df.sort_values(by=[\"tfidf\"],ascending=False)\n",
    "# Show top 5 most important words in the article in relation to the corpus\n",
    "df.head()"
   ]
  },
  {
   "cell_type": "code",
   "execution_count": null,
   "metadata": {},
   "outputs": [],
   "source": []
  },
  {
   "cell_type": "code",
   "execution_count": null,
   "metadata": {},
   "outputs": [],
   "source": []
  },
  {
   "cell_type": "code",
   "execution_count": null,
   "metadata": {},
   "outputs": [],
   "source": []
  },
  {
   "cell_type": "code",
   "execution_count": null,
   "metadata": {},
   "outputs": [],
   "source": []
  },
  {
   "cell_type": "code",
   "execution_count": null,
   "metadata": {},
   "outputs": [],
   "source": []
  },
  {
   "cell_type": "code",
   "execution_count": null,
   "metadata": {},
   "outputs": [],
   "source": []
  }
 ],
 "metadata": {
  "colab": {
   "name": "Article_Labeling_Clem.ipynb",
   "provenance": []
  },
  "kernelspec": {
   "display_name": "Python 3",
   "language": "python",
   "name": "python3"
  },
  "language_info": {
   "codemirror_mode": {
    "name": "ipython",
    "version": 3
   },
   "file_extension": ".py",
   "mimetype": "text/x-python",
   "name": "python",
   "nbconvert_exporter": "python",
   "pygments_lexer": "ipython3",
   "version": "3.7.3"
  }
 },
 "nbformat": 4,
 "nbformat_minor": 1
}
