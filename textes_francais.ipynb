{
 "cells": [
  {
   "cell_type": "markdown",
   "metadata": {},
   "source": [
    "# Classification de textes Francais par entreprise"
   ]
  },
  {
   "cell_type": "markdown",
   "metadata": {},
   "source": [
    "# Fetching labelised corpus"
   ]
  },
  {
   "cell_type": "code",
   "execution_count": 61,
   "metadata": {},
   "outputs": [],
   "source": [
    "# imports\n",
    "import pandas as pd\n",
    "import numpy as np\n",
    "import json\n",
    "from tqdm import tqdm\n",
    "from copy import deepcopy\n",
    "import ast\n",
    "from scipy import stats\n",
    "import re\n",
    "import matplotlib.pyplot as plt"
   ]
  },
  {
   "cell_type": "code",
   "execution_count": 62,
   "metadata": {},
   "outputs": [],
   "source": [
    "# fetching data\n",
    "PATH = \"./data/ArticleCompany_2020-11-17/\"\n",
    "coprus = \"corpus_check_long_SIREN_UPDATED2\"\n",
    "names = \"siren_name_map_clean\"\n",
    "\n",
    "with open(PATH + names +\".json\") as json_file: \n",
    "    dict_names = json.load(json_file) \n",
    "\n",
    "with open(PATH + coprus +\".json\") as json_file: \n",
    "    corpus_list = json.load(json_file) "
   ]
  },
  {
   "cell_type": "code",
   "execution_count": 63,
   "metadata": {},
   "outputs": [
    {
     "name": "stdout",
     "output_type": "stream",
     "text": [
      "The siren list is: <class 'str'>\n",
      "NOW the type of the siren list is: <class 'list'>\n"
     ]
    }
   ],
   "source": [
    "# Convert labels from string to list\n",
    "print (\"The siren list is:\",type(corpus_list[0][\"siren\"]))\n",
    "for document in corpus_list:\n",
    "    document[\"siren\"] = ast.literal_eval(document[\"siren\"]) # convert list in string format to list\n",
    "    for i in range(len(document[\"siren\"])): # Convert each int siren to string \n",
    "        document[\"siren\"][i] = str(document[\"siren\"][i])\n",
    "print (\"NOW the type of the siren list is:\",type(corpus_list[0][\"siren\"]))"
   ]
  },
  {
   "cell_type": "markdown",
   "metadata": {},
   "source": [
    "# Cleaning corpus data"
   ]
  },
  {
   "cell_type": "code",
   "execution_count": 64,
   "metadata": {},
   "outputs": [
    {
     "name": "stdout",
     "output_type": "stream",
     "text": [
      "Index of removed article: 29805   \n",
      "Index of removed article: 30158     \n"
     ]
    }
   ],
   "source": [
    "# Removing empty articles \n",
    "corpus_list_inter = list()\n",
    "for i in range(len(corpus_list)):\n",
    "    if len(corpus_list[i][\"corpus\"])<100: # small enough\n",
    "        text = corpus_list[i][\"corpus\"]\n",
    "        text = re.sub(\"^(\\s+)\", '', text)\n",
    "        if (len(text)>0):\n",
    "            corpus_list_inter.append(corpus_list[i])\n",
    "        else:\n",
    "            print (\"Index of removed article:\",i,corpus_list[i][\"corpus\"])\n",
    "    else:\n",
    "        corpus_list_inter.append(corpus_list[i])\n",
    "corpus_list = corpus_list_inter"
   ]
  },
  {
   "cell_type": "markdown",
   "metadata": {},
   "source": [
    "# Description of corpus"
   ]
  },
  {
   "cell_type": "code",
   "execution_count": 65,
   "metadata": {},
   "outputs": [
    {
     "name": "stdout",
     "output_type": "stream",
     "text": [
      "There are 28690 distinct labeled companies of corpus\n",
      "There are 1623 sirens in the corpus labels and not in the company name list\n",
      "There are 57538 articles in the corpus\n",
      "There are 30178 companies in the list\n"
     ]
    }
   ],
   "source": [
    "sirens = list()\n",
    "for document in corpus_list:\n",
    "    for siren in document[\"siren\"]:\n",
    "        sirens.append(siren)\n",
    "\n",
    "corpus_sirens = set(sirens)\n",
    "siren_only_in_corpus = list()\n",
    "for siren in corpus_sirens:\n",
    "    if siren not in dict_names.keys():\n",
    "        siren_only_in_corpus.append(siren)\n",
    "\n",
    "\n",
    "print(\"There are\",len(corpus_sirens),\"distinct labeled companies of corpus\")\n",
    "print (\"There are\",len(siren_only_in_corpus),\"sirens in the corpus labels and not in the company name list\")\n",
    "print (\"There are\", len(corpus_list), \"articles in the corpus\")\n",
    "print (\"There are\", len(dict_names), \"companies in the list\")"
   ]
  },
  {
   "cell_type": "markdown",
   "metadata": {},
   "source": [
    "# Tokenizing Articles"
   ]
  },
  {
   "cell_type": "markdown",
   "metadata": {},
   "source": [
    "## Method 1: Tokenising corpus removing stopwords 3:30 min"
   ]
  },
  {
   "cell_type": "code",
   "execution_count": 66,
   "metadata": {},
   "outputs": [
    {
     "name": "stdout",
     "output_type": "stream",
     "text": [
      "Number of stop words 157\n",
      "Ex: ['au', 'aux', 'avec', 'ce', 'ces']\n"
     ]
    }
   ],
   "source": [
    "#imports\n",
    "import nltk\n",
    "import re\n",
    "from nltk.tokenize import sent_tokenize, word_tokenize \n",
    "from nltk.corpus import stopwords\n",
    "stop_words = stopwords.words('french')\n",
    "print (\"Number of stop words\",len(stop_words ))\n",
    "print (\"Ex:\",stop_words[:5])"
   ]
  },
  {
   "cell_type": "markdown",
   "metadata": {},
   "source": [
    "### REMOVE THE # and @"
   ]
  },
  {
   "cell_type": "code",
   "execution_count": 67,
   "metadata": {},
   "outputs": [],
   "source": [
    "# Tokenize corpus inplace\n",
    "def tokenize_corpus(corpus):   \n",
    "    for document in tqdm(corpus):\n",
    "        plain_text = document[\"corpus\"]\n",
    "        plain_text = plain_text.lower()\n",
    "        plain_text= re.sub(r'\\s+', ' ', plain_text)\n",
    "        #plain_text = re.sub(\"[^a-z0-9]\", ' ', plain_text)\n",
    "        plain_text = re.sub(\"[^a-z]\", ' ', plain_text)\n",
    "        plain_text = re.sub(r'\\s+', ' ', plain_text)\n",
    "        #remove one letter words?\n",
    "        #remove numbers?\n",
    "        pt_words = word_tokenize(plain_text)\n",
    "        cleaned_words =list()\n",
    "        for word in pt_words:\n",
    "            if len(word)>1:\n",
    "                if word not in stop_words:\n",
    "                    cleaned_words.append(word)\n",
    "        document[\"corpus\"] = cleaned_words\n",
    "    return corpus\n",
    "# 100%|██████████| 57540/57540 [03:30<00:00, 273.74it/s]"
   ]
  },
  {
   "cell_type": "code",
   "execution_count": 68,
   "metadata": {},
   "outputs": [
    {
     "name": "stderr",
     "output_type": "stream",
     "text": [
      "100%|██████████| 57538/57538 [03:17<00:00, 290.73it/s]\n"
     ]
    }
   ],
   "source": [
    "corpus_list2 = deepcopy(corpus_list)\n",
    "corpus_cleaned = tokenize_corpus(corpus_list2)"
   ]
  },
  {
   "cell_type": "markdown",
   "metadata": {},
   "source": [
    "## Method 2: Tokenize keeping only nouns/proper nouns (20h)"
   ]
  },
  {
   "cell_type": "raw",
   "metadata": {},
   "source": [
    "#pip install stanfordnlp"
   ]
  },
  {
   "cell_type": "code",
   "execution_count": 172,
   "metadata": {},
   "outputs": [
    {
     "name": "stdout",
     "output_type": "stream",
     "text": [
      "Use device: cpu\n",
      "---\n",
      "Loading: tokenize\n",
      "With settings: \n",
      "{'model_path': '/Users/pierre/stanfordnlp_resources/fr_gsd_models/fr_gsd_tokenizer.pt', 'lang': 'fr', 'shorthand': 'fr_gsd', 'mode': 'predict'}\n",
      "---\n",
      "Loading: pos\n",
      "With settings: \n",
      "{'model_path': '/Users/pierre/stanfordnlp_resources/fr_gsd_models/fr_gsd_tagger.pt', 'pretrain_path': '/Users/pierre/stanfordnlp_resources/fr_gsd_models/fr_gsd.pretrain.pt', 'lang': 'fr', 'shorthand': 'fr_gsd', 'mode': 'predict'}\n",
      "Done loading processors!\n",
      "---\n"
     ]
    }
   ],
   "source": [
    "import stanfordnlp # Lemma doesn't work\n",
    "#stanfordnlp.download('fr')   # This downloads the French models for the neural pipeline\n",
    "#nlp = stanfordnlp.Pipeline(lang=\"fr\",processors = \"tokenize,mwt,lemma,pos\") # This sets up a default neural pipeline in French\n",
    "nlp = stanfordnlp.Pipeline(lang=\"fr\",processors = \"tokenize,pos\")\n",
    "#Documentation:\n",
    "#https://www.analyticsvidhya.com/blog/2019/02/stanfordnlp-nlp-library-python/#"
   ]
  },
  {
   "cell_type": "code",
   "execution_count": 173,
   "metadata": {},
   "outputs": [
    {
     "name": "stdout",
     "output_type": "stream",
     "text": [
      "Les : DET _\n",
      "victoires : NOUN _\n",
      "de : ADP _\n",
      "Joe : PROPN _\n",
      "Biden : PROPN _\n",
      "à : ADP _\n",
      "la : DET _\n",
      "présidentielle : ADJ _\n",
      "américaine : ADJ _\n",
      "à : ADP _\n",
      "peine : NOUN _\n",
      "proclamée : VERB _\n",
      "par : ADP _\n",
      "les : DET _\n",
      "principaux : ADJ _\n",
      "médias : NOUN _\n",
      "américains : ADJ _\n",
      ". : PUNCT _\n"
     ]
    },
    {
     "data": {
      "text/plain": [
       "<Word index=1;text=Les;upos=DET;xpos=_;feats=Definite=Def|Gender=Fem|Number=Plur|PronType=Art>"
      ]
     },
     "execution_count": 173,
     "metadata": {},
     "output_type": "execute_result"
    }
   ],
   "source": [
    "#Example of tokenisation\n",
    "text = 'Les victoires de Joe Biden à la présidentielle américaine à peine proclamée par les principaux médias américains.'\n",
    "doc = nlp(text)  \n",
    "#extract_pos(doc)\n",
    "for sent in doc.sentences:\n",
    "    for word in sent.words:\n",
    "        print(word.text,\":\", word.upos, word.pos)\n",
    "doc.sentences[0].words[0] "
   ]
  },
  {
   "cell_type": "raw",
   "metadata": {},
   "source": [
    "# Building corpus_nouns\n",
    "keep = [\"NOUN\",\"PROPN\"]\n",
    "corpus_nouns = deepcopy(corpus_list)\n",
    "for document in tqdm(corpus_nouns):\n",
    "\n",
    "    #document = corpus_nouns[i]\n",
    "    plain_text = document[\"corpus\"]\n",
    "    doc = nlp(plain_text)\n",
    "    cleaned_words =list()\n",
    "    for sent in doc.sentences:\n",
    "        for word in sent.words:\n",
    "            pos_tag = word.upos\n",
    "            if pos_tag in keep:\n",
    "                cleaned_words.append(word.text.lower())\n",
    "    document[\"corpus\"] = cleaned_words \n",
    "#20hours of computation to get."
   ]
  },
  {
   "cell_type": "code",
   "execution_count": 74,
   "metadata": {},
   "outputs": [
    {
     "data": {
      "text/plain": [
       "57538"
      ]
     },
     "execution_count": 74,
     "metadata": {},
     "output_type": "execute_result"
    }
   ],
   "source": [
    "len(corpus_nouns)"
   ]
  },
  {
   "cell_type": "raw",
   "metadata": {},
   "source": [
    "# save corpus_nouns\n",
    "PATH = \"./data/ArticleCompany_2020-11-17/\"\n",
    "file = \"corpus_nouns\"\n",
    "a_file = open(PATH + file + \".json\", \"w\")\n",
    "json.dump(corpus_nouns, a_file)\n",
    "a_file.close()\n",
    "print (file,\"is saved successfully\")"
   ]
  },
  {
   "cell_type": "code",
   "execution_count": 41,
   "metadata": {},
   "outputs": [],
   "source": [
    "# load corpus_nouns \n",
    "PATH = \"./data/ArticleCompany_2020-11-17/\"\n",
    "file = \"corpus_nouns\"\n",
    "with open(PATH + file +\".json\") as json_file: \n",
    "    corpus_nouns = json.load(json_file) "
   ]
  },
  {
   "cell_type": "code",
   "execution_count": 42,
   "metadata": {},
   "outputs": [
    {
     "name": "stdout",
     "output_type": "stream",
     "text": [
      "The siren list is: <class 'list'> <class 'list'>\n"
     ]
    }
   ],
   "source": [
    "print (\"The siren list is:\",type(corpus_nouns[0][\"siren\"]), type(corpus_nouns[0][\"corpus\"]))"
   ]
  },
  {
   "cell_type": "markdown",
   "metadata": {},
   "source": [
    "# Study of the Corpus "
   ]
  },
  {
   "cell_type": "markdown",
   "metadata": {},
   "source": [
    "## Removing bad articles with less than 10 words"
   ]
  },
  {
   "cell_type": "code",
   "execution_count": 69,
   "metadata": {},
   "outputs": [
    {
     "name": "stdout",
     "output_type": "stream",
     "text": [
      "We now have 43404 articles in the corpus instead of the original 57538 articles\n"
     ]
    }
   ],
   "source": [
    "#Removing bad articles == articles with less than 20 words\n",
    "min_word_count = 100\n",
    "corpus_list_inter = list()\n",
    "for document in corpus_cleaned:\n",
    "    if len(document[\"corpus\"]) >= min_word_count:\n",
    "        corpus_list_inter.append(document)\n",
    "corpus_cleaned = corpus_list_inter \n",
    "print (\"We now have\",len(corpus_cleaned),\"articles in the corpus instead of the original\",len(corpus_list),\"articles\")"
   ]
  },
  {
   "cell_type": "markdown",
   "metadata": {},
   "source": [
    "## Count number of Companies with at least one article"
   ]
  },
  {
   "cell_type": "code",
   "execution_count": 70,
   "metadata": {},
   "outputs": [
    {
     "name": "stdout",
     "output_type": "stream",
     "text": [
      "There are 23824 companies with articles out of the 30178 companies\n",
      "There are 6354 companies with no articles\n",
      "78.94 % of the companies have at least one article\n",
      "Each article of the corpus has: dict_keys(['id', 'siren', 'corpus', 'url_article'])\n"
     ]
    }
   ],
   "source": [
    "dict_count = dict()\n",
    "#for company in dict_names.keys(): dict_count[company] = 0\n",
    "for document in corpus_cleaned:\n",
    "    sir_list = document[\"siren\"]\n",
    "    for siren in sir_list:\n",
    "        if len(siren)>10 or len(siren)<4 : # Should not be triggered\n",
    "            print (\"ALERT:\",siren)\n",
    "        if siren in dict_count.keys():\n",
    "            dict_count[siren] +=1\n",
    "        else:\n",
    "            dict_count[siren] = 1\n",
    "print (\"There are\",len(dict_count.keys()),\"companies with articles out of the\", len(dict_names.keys()), \"companies\")\n",
    "print (\"There are\",len(dict_names.keys())-len(dict_count.keys()),\"companies with no articles\")\n",
    "print (round(len(dict_count)/(len(dict_names))*100,2),\"% of the companies have at least one article\")\n",
    "print (\"Each article of the corpus has:\",corpus_list[0].keys())\n",
    "#corpus_list[0][\"corpus\"]"
   ]
  },
  {
   "cell_type": "markdown",
   "metadata": {},
   "source": [
    "## Listing companies with no articles"
   ]
  },
  {
   "cell_type": "code",
   "execution_count": 71,
   "metadata": {},
   "outputs": [
    {
     "name": "stdout",
     "output_type": "stream",
     "text": [
      "['488285834', '809999188', '512554767', '419021761', '383132024', '435404702', '481275097', '453846271']\n"
     ]
    }
   ],
   "source": [
    "dict_no_acticle_companies = dict()\n",
    "for company in dict_names.keys():\n",
    "    if company not in dict_count.keys():\n",
    "        dict_no_acticle_companies[company] = dict_names[company] \n",
    "print (list(dict_no_acticle_companies.keys())[:8])"
   ]
  },
  {
   "cell_type": "markdown",
   "metadata": {},
   "source": [
    "## Study of the number of Companies related to each Article"
   ]
  },
  {
   "cell_type": "code",
   "execution_count": 72,
   "metadata": {},
   "outputs": [
    {
     "name": "stdout",
     "output_type": "stream",
     "text": [
      "DescribeResult(nobs=43404, minmax=(1, 29), mean=1.2555294442908487, variance=0.6289639640893532, skewness=8.224647709046959, kurtosis=141.55145440547312)\n",
      "There are 36153 arcticles with ONLY ONE label out of the 43404 articles\n"
     ]
    },
    {
     "data": {
      "text/plain": [
       "Text(0.5, 1.0, 'Number of labels per article')"
      ]
     },
     "execution_count": 72,
     "metadata": {},
     "output_type": "execute_result"
    },
    {
     "data": {
      "image/png": "[encoded data removed]",
      "text/plain": [
       "<Figure size 432x288 with 1 Axes>"
      ]
     },
     "metadata": {
      "needs_background": "light"
     },
     "output_type": "display_data"
    }
   ],
   "source": [
    "multiple_siren_list = list()\n",
    "for document in corpus_cleaned:\n",
    "    if len(document[\"siren\"])==0:\n",
    "        print (\"ALERT article sans label, id:\",document[\"id\"])\n",
    "    multiple_siren_list.append(len(document[\"siren\"]))\n",
    "    \n",
    "print(stats.describe(multiple_siren_list))   \n",
    "print (\"There are\",multiple_siren_list.count(1),\"arcticles with ONLY ONE label out of the\",len(corpus_cleaned),\"articles\") \n",
    "\n",
    "plt.hist(multiple_siren_list,range =(0,10), bins=10) #bins=20\n",
    "plt.xlabel('number of companies')\n",
    "plt.ylabel('count')\n",
    "plt.title('Number of labels per article')"
   ]
  },
  {
   "cell_type": "markdown",
   "metadata": {},
   "source": [
    "## Study of the number of articles associated to each Company"
   ]
  },
  {
   "cell_type": "code",
   "execution_count": 73,
   "metadata": {},
   "outputs": [
    {
     "name": "stdout",
     "output_type": "stream",
     "text": [
      "DescribeResult(nobs=23824, minmax=(1, 147), mean=2.2873992612491607, variance=21.2056910237261, skewness=11.264005502380718, kurtosis=207.75141665216637)\n",
      "There are 66.65 % of companies with ONLY ONE associated article\n",
      "There are 93.7 % of companies with LESS THAN 6 associated articles\n",
      "There are 1501 companies with more than 6 associated articles\n"
     ]
    },
    {
     "data": {
      "image/png": "[encoded data removed]",
      "text/plain": [
       "<Figure size 432x288 with 1 Axes>"
      ]
     },
     "metadata": {
      "needs_background": "light"
     },
     "output_type": "display_data"
    }
   ],
   "source": [
    "# We consider companies with at least one associated article for this study\n",
    "\n",
    "values = list(dict_count.values())\n",
    "plt.hist(values,range =(0,20), bins=20) #bins=20\n",
    "plt.xlabel('associated articles')\n",
    "plt.ylabel('count')\n",
    "plt.title('Number of articles per company')\n",
    "\n",
    "number = 6\n",
    "print(stats.describe(values))\n",
    "print (\"There are\",round(values.count(1)/len(values)*100,2), \"% of companies with ONLY ONE associated article\")\n",
    "under_n = [1 for i in values if i < number]\n",
    "print (\"There are\",round(len(under_n)/len(values)*100,2), \"% of companies with LESS THAN\",number,\"associated articles\")\n",
    "print (\"There are\",len(values)-len(under_n), \"companies with more than\",number,\"associated articles\")"
   ]
  },
  {
   "cell_type": "markdown",
   "metadata": {},
   "source": [
    "## Study of number of words in articles "
   ]
  },
  {
   "cell_type": "code",
   "execution_count": 74,
   "metadata": {},
   "outputs": [
    {
     "name": "stdout",
     "output_type": "stream",
     "text": [
      "There are 0 articles with LESS than 20 words\n",
      "There are 3919 articles with MORE than 500 words\n"
     ]
    },
    {
     "data": {
      "image/png": "[encoded data removed]",
      "text/plain": [
       "<Figure size 432x288 with 1 Axes>"
      ]
     },
     "metadata": {
      "needs_background": "light"
     },
     "output_type": "display_data"
    }
   ],
   "source": [
    "word_count = list()\n",
    "for document in corpus_cleaned:\n",
    "    word_count.append(len(document[\"corpus\"]))\n",
    "max_count = 1000\n",
    "plt.hist(word_count,range =(0,max_count), bins=20) #bins=20\n",
    "plt.xlabel('word count')\n",
    "plt.ylabel('number of articles')\n",
    "plt.title('number of words per article')\n",
    "under = 20\n",
    "over = 500\n",
    "n_under = len([count for count in word_count if count<under])\n",
    "n_over = len([count for count in word_count if count>over])\n",
    "print (\"There are\",n_under,\"articles with LESS than\",under,\"words\")\n",
    "print (\"There are\",n_over,\"articles with MORE than\",over,\"words\")"
   ]
  },
  {
   "cell_type": "markdown",
   "metadata": {},
   "source": [
    "## Finding companies with at least N associated articles "
   ]
  },
  {
   "cell_type": "code",
   "execution_count": 75,
   "metadata": {},
   "outputs": [
    {
     "name": "stdout",
     "output_type": "stream",
     "text": [
      "APPLE FRANCE\n",
      "322120916 APPLE FRANCE\n",
      "APPLE FRANCE a 7 articles dans le corpus\n"
     ]
    }
   ],
   "source": [
    "#Exemple de count pour une entreprise donnée\n",
    "#print(list(dict_names.keys())[0:5])\n",
    "print (dict_names['322120916'])\n",
    "name_search = \"APPLE FRANCE\"\n",
    "for siren, name in dict_names.items():  #fetch siren of company name\n",
    "    if name_search in name:\n",
    "        print(siren, name)\n",
    "print(name_search,\"a\",dict_count[\"322120916\"],\"articles dans le corpus\")"
   ]
  },
  {
   "cell_type": "code",
   "execution_count": 76,
   "metadata": {},
   "outputs": [
    {
     "name": "stdout",
     "output_type": "stream",
     "text": [
      "There are 1501 companies with MORE than 6 associated articles out of the 30178 initial companies\n"
     ]
    }
   ],
   "source": [
    "n_associated_articles = 6 # Number of articles a company must have to be kept in the list\n",
    "siren_filtered =[key for key in dict_count if dict_count[key] >= n_associated_articles]\n",
    "print (\"There are\",len(siren_filtered),\"companies with MORE than\",number,\"associated articles out of the\",len(dict_names.keys()),\"initial companies\")"
   ]
  },
  {
   "cell_type": "markdown",
   "metadata": {},
   "source": [
    "# Creation de Train et Test set pour l'entrainement de Tf.Idf"
   ]
  },
  {
   "cell_type": "code",
   "execution_count": 77,
   "metadata": {},
   "outputs": [],
   "source": [
    "from sklearn.model_selection import train_test_split\n",
    "import random"
   ]
  },
  {
   "cell_type": "code",
   "execution_count": 78,
   "metadata": {},
   "outputs": [
    {
     "name": "stdout",
     "output_type": "stream",
     "text": [
      "Removing unwanted articles (articles that do not correspond to the company list provided)\n",
      "We removed: 23707 articles and we have 19697 left\n",
      "Splitting data\n",
      "We have 13787 documents in the training corpus\n",
      "We have 5910 documents in the testing corpus\n"
     ]
    }
   ],
   "source": [
    "# Remove all of the articles that dont talk about our selected companies (in siren filtered)\n",
    "# Split corpus train/test\n",
    "corpus = corpus_cleaned\n",
    "#corpus = corpus_nouns\n",
    "test_size = 0.3\n",
    "\n",
    "#Removing unwanted articles\n",
    "print(\"Removing unwanted articles (articles that do not correspond to the company list provided)\")\n",
    "corpus_temp = list()\n",
    "for document in corpus:\n",
    "    keep = False\n",
    "    for document_sirens in document[\"siren\"]:\n",
    "        for sirens in siren_filtered:\n",
    "            if document_sirens == sirens:\n",
    "                keep = True\n",
    "    if keep:\n",
    "        corpus_temp.append(document)\n",
    "print (\"We removed:\",len(corpus)-len(corpus_temp),\"articles and we have\",len(corpus_temp),\"left\")\n",
    "corpus = corpus_temp\n",
    " \n",
    "#Splitting data\n",
    "print(\"Splitting data\") \n",
    "X_train_corpus, X_test_corpus = train_test_split(corpus, test_size=test_size, random_state=0)\n",
    "\n",
    "print (\"We have\",len(X_train_corpus),\"documents in the training corpus\")\n",
    "print (\"We have\",len(X_test_corpus),\"documents in the testing corpus\")"
   ]
  },
  {
   "cell_type": "markdown",
   "metadata": {},
   "source": [
    "## Removing the corpus labels that we don't want to predict"
   ]
  },
  {
   "cell_type": "code",
   "execution_count": 98,
   "metadata": {},
   "outputs": [],
   "source": [
    "def clean_corpus_labels (corpus, siren_filtered):\n",
    "    removed = 0\n",
    "    for document in corpus:\n",
    "        sirens = list()\n",
    "        for siren in document[\"siren\"]:\n",
    "            if siren in siren_filtered:\n",
    "                sirens.append(siren)\n",
    "            else:\n",
    "                removed+=1\n",
    "        document[\"siren\"]=sirens\n",
    "    print (\"Number of labels removed:\",removed)\n",
    "    return corpus"
   ]
  },
  {
   "cell_type": "code",
   "execution_count": null,
   "metadata": {},
   "outputs": [],
   "source": [
    "# siren_filtered\n",
    "corpus = X_test_corpus\n",
    "sirens_to_keep = siren_filtered\n",
    "X_test_corpus_filtered = clean_corpus_labels(corpus, sirens_to_keep)"
   ]
  },
  {
   "cell_type": "raw",
   "metadata": {},
   "source": [
    "# TESTING\n",
    "corpus = X_test_corpus\n",
    "for document in corpus:\n",
    "    for siren in document[\"siren\"]:\n",
    "        if siren not in siren_filtered:\n",
    "            print (siren, \"not in filtered\")"
   ]
  },
  {
   "cell_type": "markdown",
   "metadata": {},
   "source": [
    "# Tf.Idf pour une liste d'entreprise sur le training data (1h20)"
   ]
  },
  {
   "cell_type": "code",
   "execution_count": 44,
   "metadata": {},
   "outputs": [],
   "source": [
    "# imports\n",
    "from sklearn.feature_extraction.text import TfidfVectorizer "
   ]
  },
  {
   "cell_type": "code",
   "execution_count": 45,
   "metadata": {},
   "outputs": [],
   "source": [
    "# Functions for Fetching relevant words using Tf.Idf on Company related articles\n",
    "\n",
    "def identity_tokenizer(text):\n",
    "    return text\n",
    "\n",
    "# generate relevant words using TF-IDF (sublinear)\n",
    "def generate_relevant_words_tfidf(corpus,list_siren):\n",
    "    relevant_words_tfidf = {}\n",
    "    for siren in tqdm(list_siren):\n",
    "        plain_text_list = list()\n",
    "        company_article = list()\n",
    "        #binary = True\n",
    "        #sublinear_tf=False\n",
    "        tfidf_vectorizer = TfidfVectorizer(tokenizer=identity_tokenizer, ngram_range = (1,1), lowercase=False, sublinear_tf=True)\n",
    "        #tfidf_vectorizer = TfidfVectorizer(tokenizer=identity_tokenizer, ngram_range = (1,1), lowercase=False, sublinear_tf=False)\n",
    "        #Building \"forground\"\n",
    "        for document in corpus:\n",
    "            if siren in document[\"siren\"]:\n",
    "                company_article = company_article+document[\"corpus\"]  # add article to company BIG article\n",
    "            else:\n",
    "                plain_text_list.append(document[\"corpus\"]) # otherwise add to corpus\n",
    "\n",
    "        plain_text_list.insert(0,company_article) # add company article to begging of corpus\n",
    "        tfidf_vectorizer_vectors=tfidf_vectorizer.fit_transform(plain_text_list)\n",
    "\n",
    "        #Get the tf-idf scores for the words in the company article complication.(=forground)\n",
    "        first_vector_tfidfvectorizer=tfidf_vectorizer_vectors[0] # discard tf.idf scores for the other texts\n",
    "\n",
    "        # place tf-idf values in a pandas data frame \n",
    "        df = pd.DataFrame(first_vector_tfidfvectorizer.T.todense(), index=tfidf_vectorizer.get_feature_names(), columns=[\"tfidf\"]) \n",
    "        df = df.sort_values(by=[\"tfidf\"],ascending=False).head(40) # Take top 40 words\n",
    "\n",
    "        relevant_words_tfidf[siren] = list(zip(list(df.index),list(df[\"tfidf\"]))) # format result\n",
    "    return relevant_words_tfidf"
   ]
  },
  {
   "cell_type": "code",
   "execution_count": 46,
   "metadata": {},
   "outputs": [
    {
     "name": "stderr",
     "output_type": "stream",
     "text": [
      "100%|██████████| 1501/1501 [1:37:56<00:00,  3.91s/it]   \n"
     ]
    }
   ],
   "source": [
    "#Generating relevant words using tf.idf\n",
    "corpus = X_train_corpus # corpus\n",
    "list_siren = siren_filtered\n",
    "relevant_words_tfidf = generate_relevant_words_tfidf(corpus,list_siren)\n",
    "#100%|██████████| 2084/2084 [2:28:45<00:00,  4.28s/it] # tokenized tf\n",
    "#100%|██████████| 2084/2084 [2:03:31<00:00,  3.56s/it] # tokenized binary\n",
    "#100%|██████████| 2084/2084 [3:06:54<00:00,  5.38s/it]   # tokenized sublinear_tf\n",
    "#100%|██████████| 2084/2084 [1:21:23<00:00,  2.34s/it] # nouns sublinear_tf"
   ]
  },
  {
   "cell_type": "raw",
   "metadata": {},
   "source": [
    "# save dictionary\n",
    "PATH = \"./relevant_words/francais/\"\n",
    "file = \"relevant_words_tfidf_nouns_sublinear_tf_100wa\"\n",
    "a_file = open(PATH + file + \".json\", \"w\")\n",
    "json.dump(relevant_words_tfidf, a_file)\n",
    "a_file.close()\n",
    "print (file,\"is saved successfully\")"
   ]
  },
  {
   "cell_type": "code",
   "execution_count": 148,
   "metadata": {},
   "outputs": [
    {
     "name": "stdout",
     "output_type": "stream",
     "text": [
      "relevant_words_tfidf_sublinear_tf_100wa is loaded successfully\n"
     ]
    }
   ],
   "source": [
    "# load dictionary \n",
    "PATH = \"./relevant_words/francais/\"\n",
    "file = \"relevant_words_tfidf_sublinear_tf_100wa\"\n",
    "a_file = open(PATH + file + \".json\", \"r\")\n",
    "relevant_words_tfidf = json.load(a_file)\n",
    "#relevant_words_tfidf = dict(relevant_words_tfidf)\n",
    "# check if well loaded\n",
    "print (file,\"is loaded successfully\") "
   ]
  },
  {
   "cell_type": "code",
   "execution_count": 159,
   "metadata": {},
   "outputs": [
    {
     "name": "stdout",
     "output_type": "stream",
     "text": [
      "['ipsen' 'meek' 'onivyde' 'somatuline' 'lebeaut' 'probi' 'merrimack'\n",
      " 'medecine' 'oncologie' 'smecta' 'akkadeas' 'garidel' 'cabometyx' 'gastro'\n",
      " 'pancreas' 'rein' 'tumeurs' 'semerjian' 'ipsey' 'mulot' 'ivana'\n",
      " 'endocrines' 'specialite' 'pharmaceuticals' 'intestinal' 'david' 'cancer'\n",
      " 'docteur' 'shire' 'chatelier' 'metastatique' 'laboratoire'\n",
      " 'pharmaceutique' 'decapeptyl' 'investisseurse' 'probiotique'\n",
      " 'neuroendocrines' 'litz' 'dysport' 'harout']\n",
      "['sanofi' 'dupixent' 'brandicourt' 'regeneron' 'nathwani' 'eczema'\n",
      " 'biomunex' 'bedin' 'genzyme' 'ablynx' 'asthme' 'anticorps' 'tregoning'\n",
      " 'kathleen' 'dupilumab' 'medivation' 'vaccins' 'oelrich' 'tcc' 'dengue'\n",
      " 'actelion' 'pasteur' 'diabete' 'nanocorps' 'naira' 'adamian' 'ameet'\n",
      " 'guenter' 'praluent' 'generiques' 'protein' 'bnpa' 'blamont' 'vaccin'\n",
      " 'biologiques' 'takeda' 'medicaments' 'medimmune' 'pius' 'bioverativ']\n",
      "['mersen' 'ftcap' 'idealec' 'themelin' 'harbin' 'graphite' 'condensateurs'\n",
      " 'carbure' 'carbon' 'silicium' 'solaire' 'hvdc' 'cirprotec' 'csd'\n",
      " 'materials' 'refroidisseurs' 'sofina' 'courante' 'sic' 'aa' 'electrical'\n",
      " 'luc' 'advanced' 'bommier' 'balais' 'compound' 'baumgartner'\n",
      " 'ferroviaire' 'ecosse' 'changes' 'tenant' 'feutres' 'busbars' 'lgi'\n",
      " 'semi' 'chimie' 'riaux' 'conducteurs' 'avances' 'ra']\n",
      "['ardian' 'frostkrone' 'unither' 'santediscount' 'serma' 'ccc'\n",
      " 'bricoprive' 'slv' 'silverfleet' 'infra' 'staci' 'babeau' 'cerba' 'sfam'\n",
      " 'prosol' 'topco' 'indigo' 'roullier' 'tolve' 'nixen' 'park' 'lbc' 'siaci'\n",
      " 'foch' 'alvest' 'windfarms' 'solarpack' 'charterhouse' 'cnp' 'amuse'\n",
      " 'seguin' 'snacks' 'fertilisants' 'omers' 'assystem' 'parkings'\n",
      " 'pharmaciens' 'germanophone' 'boucas' 'hypred']\n",
      "['palatine' 'fabresse' 'ferrier' 'sylvie' 'christine' 'tresorier'\n",
      " 'directrice' 'eti' 'epargne' 'caisse' 'presidente' 'nommee' 'bpce'\n",
      " 'finances' 'forex' 'indes' 'cambiste' 'exploree' 'hypovereinsbank' 'cnce'\n",
      " 'zaragoza' 'canadian' 'allegories' 'roubin' 'diplomee' 'campagne'\n",
      " 'lyonnais' 'salle' 'midland' 'gely' 'executif' 'comite' 'directoire'\n",
      " 'bank' 'derivatives' 'decisifs' 'patrimoine' 'stern' 'croisee' 'membre']\n",
      "['mso' 'spie' 'sag' 'wattsense' 'telba' 'alewijnse' 'ebita' 'kier' 'ict'\n",
      " 'jm' 'zentraleuropa' 'flm' 'kilmarnock' 'cimlec' 'calibri' 'minor'\n",
      " 'margin' 'louette' 'domergue' 'leschi' 'ayrshire' 'enervie' 'pt'\n",
      " 'deutschland' 'tb' 'guillois' 'multitechniques' 'luck' 'bidi' 'fareast'\n",
      " 'mg' 'latin' 'family' 'gauthier' 'gmbh' 'ett' 'cabinda' 'aaftink'\n",
      " 'vernetzt' 'holzke']\n",
      "['jm' 'vasselin' 'spie' 'climatique' 'masson' 'genie' 'indeterminee'\n",
      " 'tweet' 'poncet' 'more' 'intitule' 'geispolsheim' 'dalkia' 'achats'\n",
      " 'twitter' 'worldwidenetjobs' 'ajoutez' 'publi' 'ge' 'alpin'\n",
      " 'localisation' 'electricite' 'jobs' 'ouvrier' 'importe' 'copiant'\n",
      " 'appuyez' 'sud' 'tweets' 'voyez' 'pyc' 'instantanement' 'mulhouse'\n",
      " 'nature' 'statut' 'quel' 'actualites' 'david' 'interessent' 'employe']\n",
      "['engie' 'kocher' 'evtronic' 'energeticien' 'powerlines' 'evbox'\n",
      " 'homebiogas' 'hazelwood' 'gnl' 'lepercq' 'fenix' 'aes' 'gazoducs'\n",
      " 'petrobras' 'charbon' 'grtgaz' 'sirap' 'keepmoat' 'serviz' 'kalfon'\n",
      " 'elengy' 'petronet' 'rwe' 'fjord' 'priora' 'gdf' 'centos' 'enea' 'gelard'\n",
      " 'mw' 'facility' 'recharge' 'tag' 'ev' 'chaudiere' 'panneurs' 'leibowitz'\n",
      " 'nareva' 'polaniec' 'finatech']\n",
      "['geopost' 'asten' 'colissimo' 'wahl' 'laposte' 'postale' 'diadom'\n",
      " 'burton' 'colis' 'courrier' 'papineau' 'roig' 'brt' 'mesenvois' 'lancey'\n",
      " 'tripperty' 'postiers' 'stelpro' 'timbres' 'tikehau' 'facteurs' 'gan'\n",
      " 'postulez' 'prefet' 'kerboriou' 'armadillo' 'ecomobilite' 'probayes'\n",
      " 'cadaujac' 'axeo' 'wayzup' 'description' 'pnb' 'chronopost' 'frenchweb'\n",
      " 'biologistic' 'ametix' 'theron' 'facteur' 'dpd']\n",
      "['thales' 'caine' 'watcher' 'adeunis' 'crrc' 'signalisation' 'fas'\n",
      " 'aviovision' 'auss' 'eurotradia' 'gemalto' 'adit' 'ebanga' 'simmad'\n",
      " 'coast' 'patrice' 'vormetric' 'pathmaster' 'ebit' 'sonars' 'etcs'\n",
      " 'rafale' 'imprimerie' 'tlr' 'gothard' 'srt' 'guavus' 'cyberlab' 'inzpire'\n",
      " 'barjane' 'satellite' 'australiens' 'ferroviaire' 'marins' 'railway'\n",
      " 'barlatier' 'finch' 'jones' 'radars' 'terrestre']\n"
     ]
    }
   ],
   "source": [
    "for i in range (0,10):\n",
    "    siren = list(relevant_words_tfidf.keys())[i]\n",
    "    print (np.array(relevant_words_tfidf[siren])[:,0])"
   ]
  },
  {
   "cell_type": "markdown",
   "metadata": {},
   "source": [
    "# Fetching Relevant Words from ES"
   ]
  },
  {
   "cell_type": "code",
   "execution_count": 183,
   "metadata": {},
   "outputs": [
    {
     "name": "stdout",
     "output_type": "stream",
     "text": [
      "relevant_words_VF is loaded successfully\n"
     ]
    }
   ],
   "source": [
    "# load dictionary \n",
    "PATH = \"./relevant_words/francais/\"\n",
    "#file = \"relevant_words_train\"\n",
    "file = \"relevant_words_VF\"\n",
    "a_file = open(PATH + file + \".json\", \"r\")\n",
    "relevant_words_es = json.load(a_file)\n",
    "\n",
    "# check if well loaded\n",
    "print (file,\"is loaded successfully\") "
   ]
  },
  {
   "cell_type": "code",
   "execution_count": null,
   "metadata": {},
   "outputs": [],
   "source": [
    "# Collect only the relevant words for the sirens that we want to consider\n",
    "count = 0\n",
    "for siren in siren_filtered:\n",
    "    if siren in relevant_words_es.keys():#relevant_words_es\n",
    "        count +=1\n",
    "    else:\n",
    "        print(siren)\n",
    "print (\"There are\", count, \"companies in the ES RWords out of the\",len(siren_filtered), \"words in the article labels\")"
   ]
  },
  {
   "cell_type": "code",
   "execution_count": 236,
   "metadata": {},
   "outputs": [
    {
     "data": {
      "text/plain": [
       "1"
      ]
     },
     "execution_count": 236,
     "metadata": {},
     "output_type": "execute_result"
    }
   ],
   "source": [
    "siren_only_in_corpus.count(\"483790069\")"
   ]
  },
  {
   "cell_type": "code",
   "execution_count": 112,
   "metadata": {},
   "outputs": [
    {
     "name": "stdout",
     "output_type": "stream",
     "text": [
      "There are 1489 non empty companies in ES RWords out of the 1501 words in the article labels\n"
     ]
    }
   ],
   "source": [
    "# Removing all the empty significant words and keeping only siren_filtered\n",
    "relevant_words_es_clean = dict()\n",
    "for siren in siren_filtered:\n",
    "    if siren in relevant_words_es.keys():\n",
    "        if len(relevant_words_es[siren])>0:\n",
    "            relevant_words_es_clean[siren] = relevant_words_es[siren]\n",
    "len(relevant_words_es_clean.keys())\n",
    "print (\"There are\", len(relevant_words_es_clean.keys()), \"non empty companies in ES RWords out of the\",len(siren_filtered), \"words in the article labels\")"
   ]
  },
  {
   "cell_type": "markdown",
   "metadata": {},
   "source": [
    "# Building baseline model - To FIX by tokenising"
   ]
  },
  {
   "cell_type": "code",
   "execution_count": 138,
   "metadata": {},
   "outputs": [
    {
     "name": "stdout",
     "output_type": "stream",
     "text": [
      "341535094 doesn't have a name in the company name list\n",
      "483790069 doesn't have a name in the company name list\n",
      "428820146 doesn't have a name in the company name list\n",
      "790148001 doesn't have a name in the company name list\n",
      "775709702 doesn't have a name in the company name list\n",
      "180020026 doesn't have a name in the company name list\n",
      "408954360 doesn't have a name in the company name list\n",
      "808332670 doesn't have a name in the company name list\n",
      "233500016 doesn't have a name in the company name list\n"
     ]
    }
   ],
   "source": [
    "#Labeling article if it has the company name in it\n",
    "relevant_words_baseline = dict()\n",
    "for siren in siren_filtered:\n",
    "    if siren in dict_names.keys():\n",
    "        relevant_word_list =list()\n",
    "        company_name = dict_names[siren].split(\" \")\n",
    "        for name in company_name: \n",
    "            relevant_word_list.append([name.lower(),1])\n",
    "        relevant_words_baseline[siren] = relevant_word_list\n",
    "    else:\n",
    "        print(siren,\"doesn't have a name in the company name list\")\n",
    "#relevant_words_baseline"
   ]
  },
  {
   "cell_type": "markdown",
   "metadata": {},
   "source": [
    "# Text Classifier"
   ]
  },
  {
   "cell_type": "code",
   "execution_count": 87,
   "metadata": {},
   "outputs": [],
   "source": [
    "# imports ADD ALL the NECESSARY imports\n",
    "import operator\n",
    "import string \n",
    "import nltk\n",
    "import re\n",
    "from nltk.tokenize import sent_tokenize, word_tokenize \n",
    "from nltk.corpus import stopwords\n",
    "stop_words = stopwords.words('french')"
   ]
  },
  {
   "cell_type": "code",
   "execution_count": 122,
   "metadata": {},
   "outputs": [],
   "source": [
    "class ArticleClassifier:\n",
    "\n",
    "    def __init__(self,n_sig_words=3,min_score=0.5,t=250):\n",
    "        # HyperParameters\n",
    "        self.n_sig_words=n_sig_words\n",
    "        self.min_score = min_score\n",
    "        self.t = t\n",
    "        self.epsilon = 0.0001\n",
    "        self.rounding = 3 # Number of significant numbers\n",
    "        self.related_words = {}\n",
    "        self.article_label_set = list()\n",
    "        # Predition attributes\n",
    "        self.pred_eval = list() # Tag each prediction 1:correct, 0:wrong for each article\n",
    "        self.pred_labels = list() # Siren predicted for each article\n",
    "        self.article_eval = list() # Tag each label if 1:predicted, 0:not predicted for each article\n",
    "        self.article_labels = list() # Siren labels for each article\n",
    "        self.pred_labels_flat = list() #list all predicted sirens flattened\n",
    "        self.article_labels_flat = list() # list of all siren labels flattened\n",
    "        # Evaluation attributes\n",
    "        self.score1 = 0       \n",
    "        self.score2 = 0\n",
    "        self.score3 = 0       \n",
    "        self.score4 = 0         \n",
    "        self.avg_n_pred = 0       \n",
    "        self.avg_n_labels = 0        \n",
    "        self.most_commun_label = 0\n",
    "        # Company evaluation\n",
    "        self.company_positive = list()\n",
    "        self.company_accuracy_list = list()\n",
    "        self.company_precision_list = list()\n",
    "        self.company_recall_list = list()\n",
    "        self.company_F1score_list = list()\n",
    "        # Article evaluation\n",
    "        self.alpha_eval_list = list()\n",
    "        self.article_recall_list = list()\n",
    "        self.article_precision_list = list()\n",
    "        self.alpha = 1   # penalizes errors if >1 hides errors if <1\n",
    "        self.beta = 0.25 # weight for the missed labels (False Negative)\n",
    "        self.gamma = 1   # weight for the wrongly predicted (False positives)\n",
    "        \n",
    "    #################################################################\n",
    "    # Adds scored relevant words to the model\n",
    "    #Input  : relevant word dictionary\n",
    "    #Output : Text removing all punctuation and lowercased\n",
    "    #################################################################\n",
    "    def fit(self, relevant_word_dict):\n",
    "        self.related_words = relevant_word_dict\n",
    "        self.article_label_set = list(relevant_word_dict.keys())\n",
    "    \n",
    "    \n",
    "    \n",
    "    #################### PREDICTION FUNCTIONS #################################################################\n",
    "    \n",
    "    #################################################################\n",
    "    # CLEANING PLAIN TEXT (use on un tockenize, uncleaned text)\n",
    "    # Input  : Plain text - String\n",
    "    # Output : Text removing all punctuation and lowercased\n",
    "    #################################################################\n",
    "    def clean_plain_text(self,text):\n",
    "        text = text.lower() # lower\n",
    "        text = text.translate(str.maketrans(\"\",\"\", string.punctuation)) # removing punctuation\n",
    "        text = re.sub(r'»|«|–|…', '', text)  # suprime guillmets \n",
    "        text = re.sub(r'è|é|ê|ë|ē|ė|ę', 'e', text)  # suprime accents sur le e\n",
    "        text = re.sub(r'à|á|â|ä|æ|ã|å|ā', 'a', text)  # suprime accents sur le a\n",
    "        text = re.sub(r'\\s+', ' ', text) # remove everything else\n",
    "        text = word_tokenize(text)\n",
    "        cleaned_text = list()\n",
    "        for word in text:\n",
    "            if len(word)>1:\n",
    "                if word not in stop_words:\n",
    "                    cleaned_text.append(word)\n",
    "        text = cleaned_text\n",
    "        return text\n",
    "\n",
    "    \n",
    "    \n",
    "    #################################################################\n",
    "    # Gives a companies \"related score\" wrt an article (using it's significant words)\n",
    "    #INPUT :plain_text- String/ word_list - list of significant words\n",
    "    #OUTPUT: Score the chances the company is related to the article\n",
    "    #################################################################\n",
    "    def company_relevance_score(self,plain_text,sig_words_list): \n",
    "        sig_words = np.array(sig_words_list)[:,0]\n",
    "        sig_words_score = np.array(sig_words_list)[:,1].astype(np.float) #CHANGED\n",
    "        sig_words_score = sig_words_score/np.sum(sig_words_score) # normalizing all of the sig_words scores\n",
    "        sum_exp = np.sum([np.exp(float(score)) for score in sig_words_score]) # denominator for computing the soft max\n",
    "        n_words = len(plain_text)\n",
    "\n",
    "        words_in_text = 0\n",
    "        for i in range(len(sig_words_list)):\n",
    "            word_soft_max = np.exp(float(sig_words_score[i]))/sum_exp\n",
    "            words_in_text += word_soft_max*plain_text.count(sig_words[i])\n",
    "        \n",
    "        return words_in_text/n_words+self.epsilon # relevance score for the company\n",
    "    \n",
    "    \n",
    "    \n",
    "    #################################################################\n",
    "    # For an Article, gives the \"related scores\"(likeness of being a label) for all companies\n",
    "    #INPUT :plain_text- String/company related words - dict/ params\n",
    "    #OUTPUT: dict of companies and their \"related scores\"\n",
    "    #################################################################\n",
    "    def text_label_scores(self,plain_text):\n",
    "        label_dict = {}\n",
    "        label_dict_res = {}\n",
    "        for siren in self.related_words.keys():\n",
    "            sig_words_list = np.array(self.related_words[siren])[:self.n_sig_words] # Build significant word list (with no scores)\n",
    "            score = self.company_relevance_score(plain_text, sig_words_list)\n",
    "            score = 1 - 1/(1 + self.t*score) # smooth relevant scores\n",
    "            label_dict[siren]= score\n",
    "\n",
    "        label_dict = {k: v for k, v in sorted(label_dict.items(), key=lambda item: -item[1])} # sort all companies wrt score\n",
    "\n",
    "        for label in label_dict.keys():\n",
    "            if label_dict[label]>=self.min_score:\n",
    "                label_dict_res[label] = label_dict[label]\n",
    "        if label_dict_res == {}:\n",
    "            label_dict_res[list(label_dict.keys())[0]] = label_dict[list(label_dict.keys())[0]]\n",
    "\n",
    "        return label_dict_res #relevance score for each company\n",
    "    \n",
    "    \n",
    "    \n",
    "    #################################################################\n",
    "    # For an Article, predicts the labels (sirens)\n",
    "    #INPUT : plain_text- String/company related words - dict/ params\n",
    "    #OUTPUT: dict of companies and their \"related scores\"\n",
    "    #################################################################\n",
    "    def label_text(self,plain_text):\n",
    "        label_dict = self.text_label_scores(plain_text)\n",
    "        sirens = list(label_dict.keys())\n",
    "        return sirens # No limitation of the number of labels \n",
    "    \n",
    "    \n",
    "    #################################################################\n",
    "    # Predict le labels of a given corpus wrt. the given hyper parameters\n",
    "    #INPUT : Corpus, hyper parameters\n",
    "    #OUTPUT: Predicted companies for each article\n",
    "    #################################################################\n",
    "    def predict(self,corpus,max_n_pred = None):\n",
    "        #for document in tqdm(corpus):\n",
    "        for document in corpus:\n",
    "            plain_text = document[\"corpus\"]\n",
    "            \n",
    "            #self.pred_labels\n",
    "            pred_sirens = self.label_text(plain_text)[:max_n_pred]\n",
    "            self.pred_labels.append(pred_sirens)\n",
    "            #self.pred_labels_flat\n",
    "            self.pred_labels_flat += pred_sirens\n",
    "\n",
    "            #self.article_labels\n",
    "            true_sirens =document[\"siren\"]\n",
    "            self.article_labels.append(true_sirens)\n",
    "            #self.article_labels_flat\n",
    "            self.article_labels_flat +=true_sirens\n",
    "\n",
    "            #self.pred_eval \n",
    "            is_labeled = [0]*len(pred_sirens)\n",
    "            for i in range(len(pred_sirens)):  # For each predicted company\n",
    "                for label in true_sirens: # For each labeled company\n",
    "                    if pred_sirens[i]==label:  # Tag if it is a good or bad predictions\n",
    "                        is_labeled[i]=1\n",
    "            self.pred_eval.append(is_labeled) \n",
    "\n",
    "            #self.article_eval\n",
    "            is_predicted = [0]*len(true_sirens)\n",
    "            for i in range(len(true_sirens)):  # For each label list\n",
    "                for pred in pred_sirens:       # For each prediction on the articel\n",
    "                    if true_sirens[i]==pred:    # Tag the labels that have been predicted\n",
    "                        is_predicted[i]=1\n",
    "            self.article_eval.append(is_predicted)\n",
    "        return self.pred_labels\n",
    "    \n",
    "    #################### MODEL EVALUATION FUNCTIONS ###########################################################\n",
    "    \n",
    "    #################################################################\n",
    "    # Generate scores for evaluating the model\n",
    "    # INPUT: \n",
    "    # OUTPUT: \n",
    "    #################################################################\n",
    "    def evaluate(self):\n",
    "        ########## How many times (at least) one of the companies is predicted ##########\n",
    "        acc1 = list()\n",
    "        for preds in self.pred_eval:\n",
    "            acc1.append(any(preds))\n",
    "        self.score1 = round(np.sum(acc1)/len(self.pred_eval),self.rounding)\n",
    "\n",
    "        ########## How many times ALL the labels are present in the prediction. ##########\n",
    "        acc2 = list()\n",
    "        for labels in self.article_eval:\n",
    "            acc2.append(labels.count(1)== len (labels)) \n",
    "        self.score2 = round(np.sum(acc2)/len(self.pred_eval),self.rounding)\n",
    "\n",
    "        ########## How many times ALL labels are predicted in the FIRST predictions. ##########\n",
    "        acc3 = list()\n",
    "        for i in range(len(self.pred_eval)):\n",
    "            labels = self.article_eval[i]\n",
    "            preds = self.pred_eval[i]\n",
    "            acc3.append(preds[:len(labels)].count(1)== len(labels))\n",
    "        self.score3 =  round(np.sum(acc3)/len(self.pred_eval),self.rounding)\n",
    "\n",
    "        ########## How many predictions are wrong wrt. how many are right (TRUE, FALSE) ##########\n",
    "        true_pred = 0\n",
    "        pred = 0\n",
    "        for preds in self.pred_eval:\n",
    "            true_pred += np.sum(preds)\n",
    "            pred += len(preds)\n",
    "        self.score4 = round(true_pred/pred,self.rounding)\n",
    "\n",
    "        ########## Average number of predictions vs average number of labels ##########\n",
    "        len_label = list()\n",
    "        len_pred = list()\n",
    "        for i in range(len(self.pred_eval)):\n",
    "            len_label.append(len(self.article_labels[i]))\n",
    "            len_pred.append(len(self.pred_eval[i]))\n",
    "        self.avg_n_pred = round(np.mean(len_pred),self.rounding)\n",
    "        self.avg_n_labels = round(np.mean(len_label),self.rounding)\n",
    "\n",
    "        ########## Most commun labels predicted ##########\n",
    "        count_pred = dict()\n",
    "        for siren in self.article_labels_flat:\n",
    "            if siren in count_pred.keys():\n",
    "                count_pred[siren] +=1\n",
    "            else:\n",
    "                count_pred[siren] = 1\n",
    "        key_max = list(filter(lambda t: t[1]==max(count_pred.values()), count_pred.items()))[0][0] \n",
    "        self.most_commun_label = [key_max,np.max(list(count_pred.values()))]\n",
    "        \n",
    "        ########## Precision & RECALL ########## per siren(Company)\n",
    "\n",
    "        for siren in self.article_label_set: # For each company compute it's TP,FP,TN,FN\n",
    "            true_pos = 0.0  # Siren IS a label and is predicted\n",
    "            false_pos = 0.0 # Siren is NOT a label and is predicted (false prediction)\n",
    "            true_neg = 0.0  # Siren is NOT a label and is not predicted (don't care)\n",
    "            false_neg = 0.0 # Siren IS a label and is NOT predicted\n",
    "            positive = 0.0  # Siren is label\n",
    "\n",
    "            # true_pos, false_neg\n",
    "            for i in range(len(self.article_labels)):\n",
    "                for j in range(len(self.article_labels[i])):\n",
    "                    if siren==self.article_labels[i][j]: # If company in the list of labels -> Check if was predicted\n",
    "                        positive +=1\n",
    "                        if self.article_eval[i][j]==1:\n",
    "                            true_pos +=1\n",
    "                        else:\n",
    "                            false_neg +=1\n",
    "\n",
    "            # false_pos\n",
    "            for i in range(len(self.pred_labels)):\n",
    "                for j in range(len(self.pred_labels[i])):\n",
    "                    if siren==self.pred_labels[i][j]:  # If company in the list of predictions -> Check if was a label (correct prediction)\n",
    "                        if self.pred_eval[i][j]==0: \n",
    "                            false_pos += 1 \n",
    "\n",
    "            if siren in list(set(self.article_labels_flat)): # Add to stats only if the company was part of the labels to predict\n",
    "                if true_pos ==0:\n",
    "                    precision = 0\n",
    "                    recall =0\n",
    "                    accuracy = 0\n",
    "                    F1score = 0\n",
    "                else:\n",
    "                    accuracy = true_pos/positive\n",
    "                    precision = true_pos/(true_pos+false_pos)\n",
    "                    recall = true_pos/(true_pos+false_neg)\n",
    "                    F1score = 2*(precision*recall)/(precision+recall)\n",
    "\n",
    "                self.company_positive.append(positive)\n",
    "                self.company_accuracy_list.append(accuracy)\n",
    "                self.company_precision_list.append(precision)\n",
    "                self.company_recall_list.append(recall)\n",
    "                self.company_F1score_list.append(F1score)\n",
    "\n",
    "        ########## Precision & RECALL ########## per Article      \n",
    "        #alpha_eval_list\n",
    "        for i in range(len(self.article_labels)):\n",
    "            alpha_eval = pow((1-((self.beta*self.article_eval[i].count(0) + self.gamma*self.pred_eval[i].count(0))/(len(set(self.pred_labels[i]+self.article_labels[i]))))),self.alpha) \n",
    "            self.alpha_eval_list.append(alpha_eval)\n",
    "        #article_recall_list\n",
    "        for label in self.article_eval:\n",
    "            self.article_recall_list.append(label.count(1)/(len(label)+self.epsilon))\n",
    "        #article_precision_list\n",
    "        for pred in self.pred_eval:\n",
    "             self.article_precision_list.append(pred.count(1)/(len(pred)+self.epsilon))\n",
    "    \n",
    "    def print_eval(self, verbose = 2):\n",
    "        #verbose = 0,1\n",
    "        if verbose == 0:\n",
    "            print (\"min_score :\",self.min_score)\n",
    "            print (\"n_sig_words :\",self.n_sig_words)\n",
    "            print (\"t :\",self.t)\n",
    "            print(\"Numbre of test articles :\",len(self.pred_labels))\n",
    "            print(\"AVG PRECISION per Company:\",round(np.average(self.company_precision_list),self.rounding))\n",
    "            print(\"AVG PRECISION per Article:\",round(np.average(self.article_precision_list) ,self.rounding))\n",
    "        \n",
    "        elif verbose == 1:\n",
    "            print (\"min_score :\",self.min_score)\n",
    "            print (\"n_sig_words :\",self.n_sig_words)\n",
    "            print (\"t :\",self.t)\n",
    "            print(\"Numbre of test articles :\",len(self.pred_labels))\n",
    "            print(\"######################### For Each company #########################\")\n",
    "            print(\"AVG ACCURACY :\",round(np.average(self.company_accuracy_list),self.rounding))\n",
    "            print(\"AVG PRECISION:\",round(np.average(self.company_precision_list),self.rounding))\n",
    "            print(\"AVG RECALL   :\",round(np.average(self.company_recall_list),self.rounding))\n",
    "            print(\"AVG F1 score :\",round(np.average(self.company_F1score_list),self.rounding))\n",
    "            print()\n",
    "            print(\"######################### For Each article #########################\")\n",
    "            print(\"AVG PRECISION:\",round(np.average(self.article_precision_list) ,self.rounding))\n",
    "            print(\"AVG RECALL   :\",round(np.average(self.article_recall_list),self.rounding))\n",
    "            print(\"AVG alpha eval:\",round(np.average(self.alpha_eval_list),self.rounding))\n",
    "   \n",
    "        elif verbose == 2:\n",
    "            print (\"min_score :\",self.min_score)\n",
    "            print (\"n_sig_words :\",self.n_sig_words)\n",
    "            print (\"t :\",self.t)\n",
    "            print(\"Numbre of test articles :\",len(self.pred_labels))\n",
    "            print(\"Score 1:\", self.score1,\"(with at least ONE label predicted)\")\n",
    "            print(\"Score 2:\", self.score2,\"(with ALL labels predicted)\")\n",
    "            print(\"Score 3:\", self.score3,\"(with ALL labels predicted in the FIRST predictions)\")\n",
    "            print(\"Score 4:\",self.score4,\"(Number of correct predictions over total number of predictions overall)\")\n",
    "            print(\"Average number of predictions\",self.avg_n_pred,\"vs average number of labels :\", self.avg_n_labels)\n",
    "            print(\"The siren that is predicted the most is:\",self.most_commun_label[0],\"(\",self.most_commun_label[1],\"times)\")\n",
    "            print()\n",
    "            print(\"######################### For Each company #########################\")\n",
    "            print(\"AVG ACCURACY :\",round(np.average(self.company_accuracy_list),self.rounding),\"True_pos/Pos -> average for each siren\")\n",
    "            print(\"AVG PRECISION:\",round(np.average(self.company_precision_list),self.rounding),\"True_pos/(True_Pos + False_Pos) -> average for each siren\")\n",
    "            print(\"AVG RECALL   :\",round(np.average(self.company_recall_list),self.rounding),\"True_pos/(True_Pos + False_Neg) -> average for each siren\")\n",
    "            print(\"AVG F1 score :\",round(np.average(self.company_F1score_list),self.rounding),\"combination of precision and recall -> average for each siren\")\n",
    "            print()\n",
    "            print(\"######################### For Each article #########################\")\n",
    "            print(\"AVG PRECISION:\",round(np.average(self.article_precision_list) ,self.rounding),\"#correct_predictions/#predictions-> average for each article\")\n",
    "            print(\"AVG RECALL   :\",round(np.average(self.article_recall_list),self.rounding),\"#predicted_labels/#labels -> average for each article\")\n",
    "            print(\"AVG alpha eval:\",round(np.average(self.alpha_eval_list),self.rounding),\"prediction score of an article -> average for each article\")\n",
    "        "
   ]
  },
  {
   "cell_type": "code",
   "execution_count": 116,
   "metadata": {},
   "outputs": [
    {
     "data": {
      "text/plain": [
       "'SPIE OPERATIONS'"
      ]
     },
     "execution_count": 116,
     "metadata": {},
     "output_type": "execute_result"
    }
   ],
   "source": [
    "siren_test = list(relevant_words_tfidf.keys())[5]\n",
    "relevant_words_tfidf[siren_test][:10]\n",
    "dict_names[siren_test]"
   ]
  },
  {
   "cell_type": "markdown",
   "metadata": {},
   "source": [
    "## Testing plain_texts"
   ]
  },
  {
   "cell_type": "code",
   "execution_count": 160,
   "metadata": {},
   "outputs": [],
   "source": [
    "#index = 3\n",
    "#plain_text = corpus_list[index][\"corpus\"]\n",
    "#print (dict_names[corpus_list[index][\"siren\"][0]])\n",
    "\n",
    "plain_text0 = \"\"\"\n",
    "La victoire de Joe Biden à la présidentielle américaine à peine proclamée par les principaux \n",
    "médias américains, les messages de félicitations des dirigeants occidentaux affluent. Sur Twitter,\n",
    "une courte séquence vidéo fait le buzz entre Londres et Dublin. Ce 7 novembre, on y voit le \n",
    "candidat démocrate entouré de journalistes.\n",
    "\"\"\"\n",
    "plain_text1 = \"\"\"\n",
    "Créé en 2008 par deux anciens salariés d’une agence de publicité, Konbini est un site d’infotainement (infodivertissement),\n",
    "mêlant informations et divertissement. Accessibles gratuitement, ces contenus sont financés par de la publicité apparente\n",
    "(les fameuses bannières cliquables et parfaitement identifiables) et de la publicité plus discrète, appelée \n",
    "publi-rédactionnel et « native advertising ». En raison des systèmes de blocage de publicité, comme Adblocks, \n",
    "les sites ont de plus en plus recours à ces publicités discrètes. \n",
    "\"\"\"\n",
    "plain_text2 = \"\"\"\n",
    "La Poste de Dijon-Mansard rouvre enfin ce mardi 22 décembre 2020 après plus de deux mois de travaux. \n",
    "Près d'un demi million d'euro a été investi par le groupe public pour développer un concept destiné à\n",
    "séduire les jeunes de 15 à 30. Il faut dire que ce bureau est situé juste à côté de l'Université de \n",
    "Bourgogne et de ses 30 000 étudiants. \n",
    "\"\"\"\n",
    "plain_text3 = \"\"\"\n",
    "Désignée par le département informatique de l'hôpital de Schwyz, SPIE ICS AG, filiale de SPIE Switzerland \n",
    "et prestataire de services informatiques complets, est en charge de l'acquisition, de la mise en œuvre,\n",
    "de l'introduction et de l'exploitation de la nouvelle infrastructure réseau. Initiée début juillet 2020\n",
    "pour une durée d’un an, l’opération est conduite dans le cadre d’un accord d’exploitation définissant \n",
    "les attentes de l’hôpital de Schwyz. Objectif : assurer une transition optimale du réseau initial vers \n",
    "le nouveau réseau et limiter les risques d’interruption de service.\n",
    "\"\"\"\n",
    "plain_text4 = \"\"\"\n",
    "La Poste de Dijon-Mansard rouvre enfin ce mardi 22 décembre 2020 après plus de deux mois de travaux. \n",
    "Près d'un demi million d'euro a été investi par le groupe public pour développer un concept destiné à\n",
    "séduire les jeunes de 15 à 30. Il faut dire que ce bureau est situé juste à côté de l'Université de \n",
    "Bourgogne et de ses 30 000 étudiants. \n",
    "\"\"\"\n",
    "plain_text5 = \"Bourse en ligne : Information boursiere, Economie, Finance, Bourse de paris - Cerclefinance\"\n"
   ]
  },
  {
   "cell_type": "code",
   "execution_count": 161,
   "metadata": {},
   "outputs": [
    {
     "name": "stdout",
     "output_type": "stream",
     "text": [
      "\n",
      "Désignée par le département informatique de l'hôpital de Schwyz, SPIE ICS AG, filiale de SPIE Switzerland \n",
      "et prestataire de services informatiques complets, est en charge de l'acquisition, de la mise en œuvre,\n",
      "de l'introduction et de l'exploitation de la nouvelle infrastructure réseau. Initiée début juillet 2020\n",
      "pour une durée d’un an, l’opération est conduite dans le cadre d’un accord d’exploitation définissant \n",
      "les attentes de l’hôpital de Schwyz. Objectif : assurer une transition optimale du réseau initial vers \n",
      "le nouveau réseau et limiter les risques d’interruption de service.\n",
      "\n",
      "\n",
      "['designee', 'departement', 'informatique', 'lhôpital', 'schwyz', 'spie', 'ics', 'ag', 'filiale', 'spie', 'switzerland', 'prestataire', 'services', 'informatiques', 'complets', 'charge', 'lacquisition', 'mise', 'œuvre', 'lintroduction', 'lexploitation', 'nouvelle', 'infrastructure', 'reseau', 'initiee', 'debut', 'juillet', '2020', 'duree', 'an', 'operation', 'conduite', 'cadre', 'accord', 'exploitation', 'definissant', 'attentes', 'hôpital', 'schwyz', 'objectif', 'assurer', 'transition', 'optimale', 'reseau', 'initial', 'vers', 'nouveau', 'reseau', 'limiter', 'risques', 'interruption', 'service']\n"
     ]
    }
   ],
   "source": [
    "#EXAMPLE of clean_plain_text of ArticleClassifier\n",
    "\n",
    "#index = 3\n",
    "#plain_text = corpus_list[index][\"corpus\"]\n",
    "#print (dict_names[corpus_list[index][\"siren\"][0]])\n",
    "print(plain_text3)\n",
    "# Building model\n",
    "ac_model = ArticleClassifier() # Init Article Classifier \n",
    "plain_text = ac_model.clean_plain_text(plain_text3)\n",
    "print()\n",
    "print(plain_text)"
   ]
  },
  {
   "cell_type": "markdown",
   "metadata": {},
   "source": [
    "# Function to compute a \"Related Scores\" for a company"
   ]
  },
  {
   "cell_type": "code",
   "execution_count": 92,
   "metadata": {},
   "outputs": [
    {
     "name": "stdout",
     "output_type": "stream",
     "text": [
      "plain_text ['designee', 'departement', 'informatique', 'lhôpital', 'schwyz', 'spie', 'ics', 'ag', 'filiale', 'spie', 'switzerland', 'prestataire', 'services', 'informatiques', 'complets', 'charge', 'lacquisition', 'mise', 'œuvre', 'lintroduction', 'lexploitation', 'nouvelle', 'infrastructure', 'reseau', 'initiee', 'debut', 'juillet', '2020', 'duree', 'an', 'operation', 'conduite', 'cadre', 'accord', 'exploitation', 'definissant', 'attentes', 'hôpital', 'schwyz', 'objectif', 'assurer', 'transition', 'optimale', 'reseau', 'initial', 'vers', 'nouveau', 'reseau', 'limiter', 'risques', 'interruption', 'service']\n",
      "SPIE OPERATIONS\n",
      "n_significant_words: 3\n",
      "related_words:\n",
      " [['mso' '0.08937617474897541']\n",
      " ['spie' '0.0881785428302519']\n",
      " ['sag' '0.08497159718726967']]\n",
      "related score 0.012952940922245052\n",
      "smoothed related score 0.7640527376137234\n"
     ]
    }
   ],
   "source": [
    "# EXAMPLE OF : company_relevance_score \n",
    "min_score = 0.7\n",
    "n_sig_words = 3\n",
    "t = 250\n",
    "siren = siren_test\n",
    "related_words = relevant_words_tfidf \n",
    "#related_words = relevant_words_es_clean #relevant_words_es\n",
    "\n",
    "ac_model = ArticleClassifier(n_sig_words,min_score ,t) # Init Article Classifier \n",
    "ac_model.fit(related_words)    # fit related words\n",
    "\n",
    "plain_text = ac_model.clean_plain_text(plain_text3)\n",
    "print (\"plain_text\",plain_text)\n",
    "\n",
    "related_words = np.array(ac_model.related_words[siren])[:ac_model.n_sig_words] # filter significant words\n",
    "print (dict_names[siren])\n",
    "print(\"n_significant_words:\",ac_model.n_sig_words)\n",
    "print (\"related_words:\\n\",related_words)\n",
    "score = ac_model.company_relevance_score(plain_text, related_words) \n",
    "print (\"related score\",score)\n",
    "score = 1 - 1/(1 + ac_model.t*score) \n",
    "print (\"smoothed related score\",score)"
   ]
  },
  {
   "cell_type": "markdown",
   "metadata": {},
   "source": [
    "# Function to compute and compare \"Related Scores\" for each company"
   ]
  },
  {
   "cell_type": "markdown",
   "metadata": {},
   "source": [
    "### Testing text_label_scores"
   ]
  },
  {
   "cell_type": "code",
   "execution_count": 162,
   "metadata": {},
   "outputs": [
    {
     "name": "stdout",
     "output_type": "stream",
     "text": [
      "plain_text ['designee', 'departement', 'informatique', 'lhôpital', 'schwyz', 'spie', 'ics', 'ag', 'filiale', 'spie', 'switzerland', 'prestataire', 'services', 'informatiques', 'complets', 'charge', 'lacquisition', 'mise', 'œuvre', 'lintroduction', 'lexploitation', 'nouvelle', 'infrastructure', 'reseau', 'initiee', 'debut', 'juillet', '2020', 'duree', 'an', 'operation', 'conduite', 'cadre', 'accord', 'exploitation', 'definissant', 'attentes', 'hôpital', 'schwyz', 'objectif', 'assurer', 'transition', 'optimale', 'reseau', 'initial', 'vers', 'nouveau', 'reseau', 'limiter', 'risques', 'interruption', 'service']\n",
      "params:\n",
      "n_sig_words: 3\n",
      "min_score  : 0.2\n",
      "t          : 250\n",
      "companies kept {'319060075': 0.8289255209368666, '399258755': 0.7640527376137234, '440055861': 0.7608879942802782}\n",
      "The predicted companies are:\n",
      "319060075 SPIE ICS\n",
      "399258755 SPIE OPERATIONS\n",
      "440055861 SPIE INDUSTRIE & TERTIAIRE\n"
     ]
    }
   ],
   "source": [
    "#EXAMPLE of : text_label_scores\n",
    "\n",
    "related_words = relevant_words_tfidf\n",
    "#related_words = relevant_words_es_clean #relevant_words_es\n",
    "\n",
    "n_sig_words= 3\n",
    "min_score = 0.2 # nbr of sig words in text\n",
    "t =250 # score smoothing facter: 0+: monte doucement vers 1, +inf: monte rapidement vers 1\n",
    "\n",
    "ac_model = ArticleClassifier(n_sig_words,min_score ,t) # Init Article Classifier \n",
    "ac_model.fit(related_words)    # fit related words\n",
    "\n",
    "plain_text = ac_model.clean_plain_text(plain_text3)\n",
    "print(\"plain_text\",plain_text)\n",
    "print (\"params:\")\n",
    "\n",
    "print (\"n_sig_words:\",ac_model.n_sig_words)\n",
    "print (\"min_score  :\",ac_model.min_score)\n",
    "print (\"t          :\",ac_model.t)\n",
    "\n",
    "label_dict = ac_model.text_label_scores(plain_text)\n",
    "print(\"companies kept\",label_dict)\n",
    "\n",
    "for key in label_dict.keys(): # Should not trigger\n",
    "    if len(key)>10:\n",
    "        print (key, \"error! this should not be triggered\")\n",
    "\n",
    "print (\"The predicted companies are:\")\n",
    "for key in label_dict.keys():\n",
    "    print(key, dict_names[key])\n",
    "#relevant_words_tfidf['537450140']"
   ]
  },
  {
   "cell_type": "markdown",
   "metadata": {},
   "source": [
    "# EVALUATING the MODEL"
   ]
  },
  {
   "cell_type": "code",
   "execution_count": 171,
   "metadata": {},
   "outputs": [
    {
     "name": "stdout",
     "output_type": "stream",
     "text": [
      "There are 618 distinct labels predicted out of the 1501 total filtered labels\n",
      "There are 699 distinct labels TO predicted out of the 1501 total filtered labels\n"
     ]
    }
   ],
   "source": [
    "#EXAMPLE -> Evaluating of a Test corpus\n",
    "\n",
    "related_words = relevant_words_tfidf #model related words\n",
    "#related_words = relevant_words_es_clean #relevant_words_es\n",
    "#related_words = relevant_words_baseline\n",
    "\n",
    "#corpus = X_train_corpus[:1000] # pour verifier que on peut sur entrainer\n",
    "corpus = X_test_corpus[:1000] # pour tester sur de nouveaux articles\n",
    "min_score = 0.9\n",
    "n_sig_words = 3\n",
    "t = 250\n",
    "#max_n_pred = 3\n",
    "max_n_pred = None\n",
    "\n",
    "ac_model = ArticleClassifier(n_sig_words,min_score ,t) # Init Article Classifier \n",
    "ac_model.fit(related_words)    # fit related words\n",
    "predictions = ac_model.predict(corpus,max_n_pred) # evaluate corpus\n",
    "print (\"There are\",len(set(ac_model.pred_labels_flat)),\"distinct labels predicted out of the\",len(related_words.keys()),\"total filtered labels\")\n",
    "print (\"There are\",len(set(ac_model.article_labels_flat)),\"distinct labels TO predicted out of the\",len(related_words.keys()),\"total filtered labels\")"
   ]
  },
  {
   "cell_type": "code",
   "execution_count": 172,
   "metadata": {},
   "outputs": [
    {
     "name": "stdout",
     "output_type": "stream",
     "text": [
      "min_score : 0.9\n",
      "n_sig_words : 3\n",
      "t : 250\n",
      "Numbre of test articles : 1000\n",
      "AVG PRECISION per Company: 0.721\n",
      "AVG PRECISION per Article: 0.767\n"
     ]
    }
   ],
   "source": [
    "ac_model.evaluate()\n",
    "ac_model.print_eval(verbose = 0) # verbose = 0,1,2"
   ]
  },
  {
   "cell_type": "code",
   "execution_count": 224,
   "metadata": {},
   "outputs": [
    {
     "data": {
      "text/plain": [
       "Text(0.5, 1.0, 'recall hist (on each article)')"
      ]
     },
     "execution_count": 224,
     "metadata": {},
     "output_type": "execute_result"
    },
    {
     "data": {
      "image/png": "[encoded data removed]",
      "text/plain": [
       "<Figure size 1080x720 with 4 Axes>"
      ]
     },
     "metadata": {
      "needs_background": "light"
     },
     "output_type": "display_data"
    },
    {
     "data": {
      "image/png": "[encoded data removed]",
      "text/plain": [
       "<Figure size 1080x720 with 3 Axes>"
      ]
     },
     "metadata": {
      "needs_background": "light"
     },
     "output_type": "display_data"
    }
   ],
   "source": [
    "plt.figure(1,figsize=(15,10))\n",
    "plt.subplot(2, 2, 1)\n",
    "plt.hist(ac_model.company_precision_list, range = (0, 1), bins = 20, color = 'yellow',edgecolor = 'red')\n",
    "plt.xlabel('precision')\n",
    "plt.ylabel('count')\n",
    "plt.title('Company Precision hist')\n",
    "plt.subplot(2, 2, 2)\n",
    "plt.hist(ac_model.company_recall_list, range = (0, 1), bins = 20, color = 'yellow',edgecolor = 'red')\n",
    "plt.xlabel('recall')\n",
    "plt.ylabel('count')\n",
    "plt.title('Company Recall hist')\n",
    "plt.subplot(2, 2, 3)\n",
    "plt.hist(ac_model.company_accuracy_list, range = (0, 1), bins = 20, color = 'yellow',edgecolor = 'red')\n",
    "plt.xlabel('accuracy')\n",
    "plt.ylabel('count')\n",
    "plt.title('Company Accuracy hist')\n",
    "plt.subplot(2, 2, 4)\n",
    "plt.hist(ac_model.company_F1score_list, range = (0, 1), bins = 20, color = 'yellow',edgecolor = 'red')\n",
    "plt.xlabel('F1score')\n",
    "plt.ylabel('count')\n",
    "plt.title('Company F1score hist')\n",
    "plt.figure(2,figsize=(15,10))\n",
    "plt.subplot(2, 2, 1)\n",
    "plt.hist(ac_model.alpha_eval_list, range = (0, 1), bins = 20, color = 'yellow',edgecolor = 'red')\n",
    "plt.xlabel('alpha_eval')\n",
    "plt.ylabel('count')\n",
    "plt.title('alpha_eval hist (on each article)')\n",
    "plt.subplot(2, 2, 2)\n",
    "plt.hist(ac_model.article_precision_list, range = (0, 1), bins = 20, color = 'yellow',edgecolor = 'red')\n",
    "plt.xlabel('article precision')\n",
    "plt.ylabel('count')\n",
    "plt.title('precision hist (on each article)')\n",
    "plt.subplot(2, 2, 3)\n",
    "plt.hist(ac_model.article_recall_list, range = (0, 1), bins = 20, color = 'yellow',edgecolor = 'red')\n",
    "plt.xlabel('article recall')\n",
    "plt.ylabel('count')\n",
    "plt.title('recall hist (on each article)')"
   ]
  },
  {
   "cell_type": "code",
   "execution_count": 90,
   "metadata": {},
   "outputs": [],
   "source": [
    "import matplotlib.pyplot as plt"
   ]
  },
  {
   "cell_type": "code",
   "execution_count": 225,
   "metadata": {},
   "outputs": [
    {
     "data": {
      "text/plain": [
       "[(['320992977'], [1]),\n",
       " (['403081714', '533809232'], [1, 0]),\n",
       " (['552031650'], [1]),\n",
       " (['380223313', '424641066', '692030992'], [0, 1, 1]),\n",
       " (['572067684'], [1]),\n",
       " (['350422622', '480463413'], [1, 0]),\n",
       " (['552028425'], [1]),\n",
       " (['552100554'], [1]),\n",
       " (['379402191', '489895821'], [1, 1]),\n",
       " (['394149496'], [1])]"
      ]
     },
     "execution_count": 225,
     "metadata": {},
     "output_type": "execute_result"
    }
   ],
   "source": [
    "start,end = 0,10\n",
    "label_evaluation= list(zip(ac_model.article_labels[start:end],ac_model.article_eval[start:end]))\n",
    "label_evaluation\n",
    "#REMARQUE: On ne peut pas predire des siren qui n'ont pas plus de 5 articles associé \n",
    "#          car leur relevant words n'ont pas été calculé par le TF/IDF"
   ]
  },
  {
   "cell_type": "code",
   "execution_count": 208,
   "metadata": {},
   "outputs": [
    {
     "data": {
      "text/plain": [
       "[(['582041943'], [1]),\n",
       " (['419838529'], [0]),\n",
       " (['419838529'], [0]),\n",
       " (['722045622'], [1]),\n",
       " (['518706890'], [1]),\n",
       " (['347951238', '389191982', '399315613'], [1, 0, 0]),\n",
       " (['485182448'], [1]),\n",
       " (['780129987', '441639465', '954506077', '483279923', '520157579'],\n",
       "  [1, 0, 0, 1, 0]),\n",
       " (['380656439', '562123513'], [0, 0]),\n",
       " (['349694893'], [0])]"
      ]
     },
     "execution_count": 208,
     "metadata": {},
     "output_type": "execute_result"
    }
   ],
   "source": [
    "start,end = 0,10\n",
    "prediction_evaluation = list(zip(ac_model.pred_labels[start:end],ac_model.pred_eval[start:end]))\n",
    "prediction_evaluation"
   ]
  },
  {
   "cell_type": "markdown",
   "metadata": {},
   "source": [
    "# Hyper parameter tuning"
   ]
  },
  {
   "cell_type": "code",
   "execution_count": 124,
   "metadata": {},
   "outputs": [],
   "source": [
    "# imports\n",
    "import optuna\n",
    "import plotly"
   ]
  },
  {
   "cell_type": "code",
   "execution_count": 126,
   "metadata": {},
   "outputs": [
    {
     "name": "stderr",
     "output_type": "stream",
     "text": [
      "\u001b[32m[I 2020-12-23 18:11:41,072]\u001b[0m Using an existing study with name 'study_1' instead of creating a new one.\u001b[0m\n",
      "\u001b[32m[I 2020-12-23 18:12:38,560]\u001b[0m Trial 5 finished with value: 0.3684982756582197 and parameters: {'min_score': 0.25336191879545433, 'n_sig_words': 5}. Best is trial 4 with value: 0.75992400759924.\u001b[0m\n",
      "\u001b[32m[I 2020-12-23 18:13:52,464]\u001b[0m Trial 6 finished with value: 0.05393912691704978 and parameters: {'min_score': 0.05558062920266105, 'n_sig_words': 9}. Best is trial 4 with value: 0.75992400759924.\u001b[0m\n",
      "\u001b[32m[I 2020-12-23 18:14:56,610]\u001b[0m Trial 7 finished with value: 0.4086550490167519 and parameters: {'min_score': 0.31417701690363, 'n_sig_words': 6}. Best is trial 4 with value: 0.75992400759924.\u001b[0m\n",
      "\u001b[32m[I 2020-12-23 18:16:15,595]\u001b[0m Trial 8 finished with value: 0.720553249349382 and parameters: {'min_score': 0.6515841997396195, 'n_sig_words': 10}. Best is trial 4 with value: 0.75992400759924.\u001b[0m\n",
      "\u001b[32m[I 2020-12-23 18:17:29,004]\u001b[0m Trial 9 finished with value: 0.38278838828440503 and parameters: {'min_score': 0.3163251245685109, 'n_sig_words': 9}. Best is trial 4 with value: 0.75992400759924.\u001b[0m\n"
     ]
    },
    {
     "name": "stdout",
     "output_type": "stream",
     "text": [
      "Best hyperparameters: {'min_score': 0.938974949792833, 'n_sig_words': 3}\n"
     ]
    }
   ],
   "source": [
    "def objective(trial):\n",
    "    corpus = X_test_corpus[:200]\n",
    "    min_score = trial.suggest_uniform('min_score', 0, 1)\n",
    "    n_sig_words = trial.suggest_int('n_sig_words', 1, 10)\n",
    "    #t = trial.suggest_int('n_sig_words', 200, 400,50)\n",
    "    #max_n_pred = trial.suggest_int('n_sig_words', 1, 10,1)\n",
    "    max_n_pred = None\n",
    "    t = 250\n",
    "    ac_model = ArticleClassifier(n_sig_words,min_score ,t)\n",
    "    ac_model.fit(related_words)  # fit related words\n",
    "    predictions = ac_model.predict(corpus,max_n_pred)\n",
    "    ac_model.evaluate()\n",
    "    \n",
    "    return np.mean(ac_model.article_precision_list)\n",
    "    #return np.mean(ac_model.company_precision_list)\n",
    "    \n",
    "study_name = \"study_1\"\n",
    "db_name = \"tf_sublinear_200a\"   \n",
    "study = optuna.create_study(direction='maximize',study_name=study_name,storage='sqlite:///optuna_study/'+db_name, load_if_exists=True)\n",
    "study.optimize(objective, n_trials=5)\n",
    "\n",
    "print(\"Best hyperparameters: {}\".format(study.best_params ))"
   ]
  },
  {
   "cell_type": "raw",
   "metadata": {},
   "source": [
    "# Visualisation\n",
    "optuna.visualization.plot_contour(study,params=[\"min_score\", \"n_sig_words\"])"
   ]
  },
  {
   "cell_type": "raw",
   "metadata": {},
   "source": [
    "optuna.visualization.plot_intermediate_values(study)"
   ]
  },
  {
   "cell_type": "code",
   "execution_count": 128,
   "metadata": {},
   "outputs": [
    {
     "name": "stderr",
     "output_type": "stream",
     "text": [
      "/opt/anaconda3/envs/P-SAT/lib/python3.7/site-packages/ipykernel_launcher.py:2: ExperimentalWarning: is_available is experimental (supported from v2.2.0). The interface can change in the future.\n",
      "  \n"
     ]
    },
    {
     "data": {
      "text/plain": [
       "True"
      ]
     },
     "execution_count": 128,
     "metadata": {},
     "output_type": "execute_result"
    }
   ],
   "source": [
    "# Check availability\n",
    "optuna.visualization.matplotlib.is_available()"
   ]
  },
  {
   "cell_type": "code",
   "execution_count": 131,
   "metadata": {},
   "outputs": [
    {
     "name": "stderr",
     "output_type": "stream",
     "text": [
      "/opt/anaconda3/envs/P-SAT/lib/python3.7/site-packages/ipykernel_launcher.py:1: ExperimentalWarning: plot_edf is experimental (supported from v2.2.0). The interface can change in the future.\n",
      "  \"\"\"Entry point for launching an IPython kernel.\n"
     ]
    },
    {
     "data": {
      "text/plain": [
       "<AxesSubplot:title={'center':'Empirical Distribution Function Plot'}, xlabel='Objective Value', ylabel='Cumulative Probability'>"
      ]
     },
     "execution_count": 131,
     "metadata": {},
     "output_type": "execute_result"
    },
    {
     "data": {
      "image/png": "[encoded data removed]",
      "text/plain": [
       "<Figure size 432x288 with 1 Axes>"
      ]
     },
     "metadata": {},
     "output_type": "display_data"
    }
   ],
   "source": [
    "optuna.visualization.matplotlib.plot_edf(study)"
   ]
  },
  {
   "cell_type": "code",
   "execution_count": 132,
   "metadata": {},
   "outputs": [
    {
     "name": "stderr",
     "output_type": "stream",
     "text": [
      "/opt/anaconda3/envs/P-SAT/lib/python3.7/site-packages/ipykernel_launcher.py:1: ExperimentalWarning: plot_intermediate_values is experimental (supported from v2.2.0). The interface can change in the future.\n",
      "  \"\"\"Entry point for launching an IPython kernel.\n",
      "\u001b[33m[W 2020-12-23 18:24:57,618]\u001b[0m You need to set up the pruning feature to utilize `plot_intermediate_values()`\u001b[0m\n"
     ]
    },
    {
     "data": {
      "text/plain": [
       "<AxesSubplot:title={'center':'Intermediate Values Plot'}, xlabel='Step', ylabel='Intermediate Value'>"
      ]
     },
     "execution_count": 132,
     "metadata": {},
     "output_type": "execute_result"
    },
    {
     "data": {
      "image/png": "[encoded data removed]",
      "text/plain": [
       "<Figure size 432x288 with 1 Axes>"
      ]
     },
     "metadata": {},
     "output_type": "display_data"
    }
   ],
   "source": [
    "optuna.visualization.matplotlib.plot_intermediate_values(study)"
   ]
  },
  {
   "cell_type": "code",
   "execution_count": 133,
   "metadata": {},
   "outputs": [
    {
     "name": "stderr",
     "output_type": "stream",
     "text": [
      "/opt/anaconda3/envs/P-SAT/lib/python3.7/site-packages/ipykernel_launcher.py:1: ExperimentalWarning: plot_optimization_history is experimental (supported from v2.2.0). The interface can change in the future.\n",
      "  \"\"\"Entry point for launching an IPython kernel.\n"
     ]
    },
    {
     "data": {
      "text/plain": [
       "<AxesSubplot:title={'center':'Optimization History Plot'}, xlabel='#Trials', ylabel='Objective Value'>"
      ]
     },
     "execution_count": 133,
     "metadata": {},
     "output_type": "execute_result"
    },
    {
     "data": {
      "image/png": "[encoded data removed]",
      "text/plain": [
       "<Figure size 432x288 with 1 Axes>"
      ]
     },
     "metadata": {},
     "output_type": "display_data"
    }
   ],
   "source": [
    "optuna.visualization.matplotlib.plot_optimization_history(study)"
   ]
  },
  {
   "cell_type": "code",
   "execution_count": 134,
   "metadata": {},
   "outputs": [
    {
     "name": "stderr",
     "output_type": "stream",
     "text": [
      "/opt/anaconda3/envs/P-SAT/lib/python3.7/site-packages/ipykernel_launcher.py:1: ExperimentalWarning: plot_parallel_coordinate is experimental (supported from v2.2.0). The interface can change in the future.\n",
      "  \"\"\"Entry point for launching an IPython kernel.\n"
     ]
    },
    {
     "data": {
      "text/plain": [
       "<AxesSubplot:title={'center':'Parallel Coordinate Plot'}>"
      ]
     },
     "execution_count": 134,
     "metadata": {},
     "output_type": "execute_result"
    },
    {
     "data": {
      "image/png": "[encoded data removed]",
      "text/plain": [
       "<Figure size 432x288 with 4 Axes>"
      ]
     },
     "metadata": {},
     "output_type": "display_data"
    }
   ],
   "source": [
    "optuna.visualization.matplotlib.plot_parallel_coordinate(study)"
   ]
  },
  {
   "cell_type": "markdown",
   "metadata": {},
   "source": [
    "# ANNEXE"
   ]
  },
  {
   "cell_type": "code",
   "execution_count": null,
   "metadata": {},
   "outputs": [],
   "source": [
    "#..."
   ]
  }
 ],
 "metadata": {
  "kernelspec": {
   "display_name": "Python 3",
   "language": "python",
   "name": "python3"
  },
  "language_info": {
   "codemirror_mode": {
    "name": "ipython",
    "version": 3
   },
   "file_extension": ".py",
   "mimetype": "text/x-python",
   "name": "python",
   "nbconvert_exporter": "python",
   "pygments_lexer": "ipython3",
   "version": "3.7.9"
  }
 },
 "nbformat": 4,
 "nbformat_minor": 4
}
