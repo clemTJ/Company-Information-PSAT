{
 "cells": [
  {
   "cell_type": "markdown",
   "metadata": {},
   "source": [
    "# Classification de textes Francais par entreprise"
   ]
  },
  {
   "cell_type": "markdown",
   "metadata": {},
   "source": [
    "# Recuperation de donnée avec label"
   ]
  },
  {
   "cell_type": "code",
   "execution_count": 1,
   "metadata": {},
   "outputs": [],
   "source": [
    "# imports\n",
    "import pandas as pd\n",
    "import numpy as np\n",
    "import json\n",
    "from tqdm import tqdm\n",
    "from copy import deepcopy\n",
    "import ast\n",
    "from scipy import stats\n",
    "import re"
   ]
  },
  {
   "cell_type": "code",
   "execution_count": 2,
   "metadata": {},
   "outputs": [],
   "source": [
    "# fetching data\n",
    "PATH = \"./data/ArticleCompany_2020-11-17/\"\n",
    "coprus = \"corpus_check_long_SIREN_UPDATED2\"\n",
    "names = \"siren_name_map_clean\"\n",
    "\n",
    "with open(PATH + names +\".json\") as json_file: \n",
    "    dict_names = json.load(json_file) \n",
    "\n",
    "with open(PATH + coprus +\".json\") as json_file: \n",
    "    corpus_list = json.load(json_file) "
   ]
  },
  {
   "cell_type": "code",
   "execution_count": 3,
   "metadata": {},
   "outputs": [
    {
     "name": "stdout",
     "output_type": "stream",
     "text": [
      "The siren list is: <class 'str'>\n",
      "NOW the type of the siren list is: <class 'list'>\n"
     ]
    }
   ],
   "source": [
    "# Convert string to list of labels\n",
    "print (\"The siren list is:\",type(corpus_list[0][\"siren\"]))\n",
    "for document in corpus_list:\n",
    "    document[\"siren\"] = ast.literal_eval(document[\"siren\"]) # convert list in string format to list\n",
    "    for i in range(len(document[\"siren\"])): # Convert each int siren to string \n",
    "        document[\"siren\"][i] = str(document[\"siren\"][i])\n",
    "print (\"NOW the type of the siren list is:\",type(corpus_list[0][\"siren\"]))"
   ]
  },
  {
   "cell_type": "markdown",
   "metadata": {},
   "source": [
    "# Remove articles with no text"
   ]
  },
  {
   "cell_type": "code",
   "execution_count": 4,
   "metadata": {},
   "outputs": [
    {
     "name": "stdout",
     "output_type": "stream",
     "text": [
      "Index of removed article: 29805   \n",
      "Index of removed article: 30158     \n"
     ]
    }
   ],
   "source": [
    "corpus_list_inter = list()\n",
    "for i in range(len(corpus_list)):\n",
    "    if len(corpus_list[i][\"corpus\"])<100: # small enough\n",
    "        text = corpus_list[i][\"corpus\"]\n",
    "        text = re.sub(\"^(\\s+)\", '', text)\n",
    "        if (len(text)>0):\n",
    "            corpus_list_inter.append(corpus_list[i])\n",
    "        else:\n",
    "            print (\"Index of removed article:\",i,corpus_list[i][\"corpus\"])\n",
    "    else:\n",
    "        corpus_list_inter.append(corpus_list[i])\n",
    "corpus_list = corpus_list_inter"
   ]
  },
  {
   "cell_type": "code",
   "execution_count": 5,
   "metadata": {},
   "outputs": [
    {
     "name": "stdout",
     "output_type": "stream",
     "text": [
      "There are 57538 articles in the corpus\n",
      "There are 30178 companies in the list\n"
     ]
    }
   ],
   "source": [
    "print (\"There are\", len(corpus_list), \"articles in the corpus\")\n",
    "print (\"There are\", len(dict_names), \"companies in the list\")"
   ]
  },
  {
   "cell_type": "markdown",
   "metadata": {},
   "source": [
    "## Compter Nombre d'Entreprises sans Articles"
   ]
  },
  {
   "cell_type": "code",
   "execution_count": 6,
   "metadata": {},
   "outputs": [
    {
     "name": "stdout",
     "output_type": "stream",
     "text": [
      "There are 28690 companies with labels out of the 30178 companies\n",
      "there are 1488 companies with no articles\n",
      "95.07 % of the companies have articles\n",
      "Each article of the corpus has: dict_keys(['id', 'siren', 'corpus', 'url_article'])\n"
     ]
    }
   ],
   "source": [
    "dict_count = dict()\n",
    "#for company in dict_names.keys(): dict_count[company] = 0\n",
    "for document in corpus_list:\n",
    "    sir_list = document[\"siren\"]\n",
    "    for siren in sir_list:\n",
    "        if len(siren)>10: # Should not be triggered\n",
    "            print (\"ALERT:\",siren)\n",
    "        if siren in dict_count.keys():\n",
    "            dict_count[siren] +=1\n",
    "        else:\n",
    "            dict_count[siren] = 1\n",
    "print (\"There are\",len(dict_count.keys()),\"companies with labels out of the\", len(dict_names.keys()), \"companies\")\n",
    "print (\"there are\",len(dict_names.keys())-len(dict_count.keys()),\"companies with no articles\")\n",
    "print (round(len(dict_count)/(len(dict_names))*100,2),\"% of the companies have articles\")\n",
    "print (\"Each article of the corpus has:\",corpus_list[0].keys())\n",
    "#corpus_list[0][\"corpus\"]"
   ]
  },
  {
   "cell_type": "markdown",
   "metadata": {},
   "source": [
    "## Quels sont les entreprises sans articles?"
   ]
  },
  {
   "cell_type": "code",
   "execution_count": 7,
   "metadata": {},
   "outputs": [],
   "source": [
    "dict_no_acticle_companies = dict()\n",
    "for company in dict_names.keys():\n",
    "    if company not in dict_count.keys():\n",
    "        dict_no_acticle_companies[company] = dict_names[company] "
   ]
  },
  {
   "cell_type": "code",
   "execution_count": 8,
   "metadata": {},
   "outputs": [],
   "source": [
    "for key in dict_count.keys():\n",
    "    if len(key)>10:\n",
    "        print (key)"
   ]
  },
  {
   "cell_type": "markdown",
   "metadata": {},
   "source": [
    "## Etude du nombre d'articles par entreprise"
   ]
  },
  {
   "cell_type": "code",
   "execution_count": 9,
   "metadata": {},
   "outputs": [
    {
     "name": "stdout",
     "output_type": "stream",
     "text": [
      "DescribeResult(nobs=57538, minmax=(1, 29), mean=1.2476276547672842, variance=0.6042338178020358, skewness=8.133981486117998, kurtosis=136.56851777466036)\n",
      "There are 9362 arcticles with more that one tag out of the 57538 articles\n"
     ]
    }
   ],
   "source": [
    "multiple_siren = 0\n",
    "multiple_siren_list = list()\n",
    "for document in corpus_list:\n",
    "    if len(document[\"siren\"])==0:\n",
    "        print (\"ALERT article sans tag, id:\",document[\"id\"])\n",
    "    if len(document[\"siren\"])>1:\n",
    "        multiple_siren +=1\n",
    "    multiple_siren_list.append(len(document[\"siren\"]))\n",
    "    \n",
    "print(stats.describe(multiple_siren_list))   \n",
    "print (\"There are\",multiple_siren,\"arcticles with more that one tag out of the\",len(corpus_list),\"articles\")        "
   ]
  },
  {
   "cell_type": "markdown",
   "metadata": {},
   "source": [
    "## Etudes du nombre d'articles associer a chaque entreprise "
   ]
  },
  {
   "cell_type": "code",
   "execution_count": 10,
   "metadata": {},
   "outputs": [],
   "source": [
    "# imports\n",
    "import matplotlib.pyplot as plt\n",
    "import seaborn as sns\n",
    "from scipy import stats"
   ]
  },
  {
   "cell_type": "code",
   "execution_count": 12,
   "metadata": {},
   "outputs": [
    {
     "name": "stdout",
     "output_type": "stream",
     "text": [
      "DescribeResult(nobs=28690, minmax=(1, 175), mean=2.5021261763680727, variance=28.017371476985655, skewness=11.347634082651822, kurtosis=211.56847613512954)\n",
      "There are 63.58 % articles with one associated article\n",
      "There are 90.42 % articles with less than 5 associated article\n"
     ]
    },
    {
     "data": {
      "image/png": "[encoded data removed]",
      "text/plain": [
       "<Figure size 360x360 with 1 Axes>"
      ]
     },
     "metadata": {
      "needs_background": "light"
     },
     "output_type": "display_data"
    }
   ],
   "source": [
    "# On prendre seulement les entreprises avec au moins un articles associer\n",
    "#sns.set(rc={'figure.figsize':(40,5)})\n",
    "values = list(dict_count.values())\n",
    "sns.displot(values, binwidth=1) #bins=20\n",
    "plt.xlim(0, 10)\n",
    "\n",
    "number = 5\n",
    "print(stats.describe(values))\n",
    "print (\"There are\",round(values.count(1)/len(values)*100,2), \"% articles with one associated article\")\n",
    "under_n = [1 for i in values if i < number]\n",
    "print (\"There are\",round(len(under_n)/len(values)*100,2), \"% articles with less than\",number,\"associated article\")"
   ]
  },
  {
   "cell_type": "markdown",
   "metadata": {},
   "source": [
    "# Tokenize et suppression de stop words du corpus"
   ]
  },
  {
   "cell_type": "code",
   "execution_count": 13,
   "metadata": {},
   "outputs": [],
   "source": [
    "#imports\n",
    "import nltk\n",
    "import re\n",
    "from nltk.tokenize import sent_tokenize, word_tokenize \n",
    "from nltk.corpus import stopwords\n",
    "stop_words = stopwords.words('french')"
   ]
  },
  {
   "cell_type": "code",
   "execution_count": 14,
   "metadata": {},
   "outputs": [
    {
     "name": "stdout",
     "output_type": "stream",
     "text": [
      "Number of stop words 157\n",
      "Ex: ['au', 'aux', 'avec', 'ce', 'ces']\n"
     ]
    }
   ],
   "source": [
    "print (\"Number of stop words\",len(stop_words ))\n",
    "print (\"Ex:\",stop_words[:5])"
   ]
  },
  {
   "cell_type": "code",
   "execution_count": null,
   "metadata": {},
   "outputs": [],
   "source": [
    "corpus_cleaned = deepcopy(corpus_list)\n",
    "for document in tqdm(corpus_cleaned):\n",
    "    plain_text = document[\"corpus\"]\n",
    "    plain_text = plain_text.lower()\n",
    "    plain_text= re.sub(r'\\s+', ' ', plain_text)\n",
    "    #plain_text = re.sub(\"[^a-z0-9]\", ' ', plain_text)\n",
    "    plain_text = re.sub(\"[^a-z]\", ' ', plain_text)\n",
    "    plain_text = re.sub(r'\\s+', ' ', plain_text)\n",
    "    #remove one letter words?\n",
    "    #remove numbers?\n",
    "    pt_words = word_tokenize(plain_text)\n",
    "    cleaned_words =list()\n",
    "    for word in pt_words:\n",
    "        if len(word)>1:\n",
    "            if word not in stop_words:\n",
    "                cleaned_words.append(word)\n",
    "    document[\"corpus\"] = cleaned_words\n",
    "# 100%|██████████| 57540/57540 [03:30<00:00, 273.74it/s]"
   ]
  },
  {
   "cell_type": "markdown",
   "metadata": {},
   "source": [
    "# Tokenize en gardant que les Noms "
   ]
  },
  {
   "cell_type": "raw",
   "metadata": {},
   "source": [
    "#pip install stanfordnlp"
   ]
  },
  {
   "cell_type": "code",
   "execution_count": null,
   "metadata": {},
   "outputs": [],
   "source": [
    "import stanfordnlp # Lemma doesn't work\n",
    "#stanfordnlp.download('fr')   # This downloads the French models for the neural pipeline\n",
    "#nlp = stanfordnlp.Pipeline(lang=\"fr\",processors = \"tokenize,mwt,lemma,pos\") # This sets up a default neural pipeline in French\n",
    "nlp = stanfordnlp.Pipeline(lang=\"fr\",processors = \"tokenize,pos\")\n",
    "#Documentation:\n",
    "#https://www.analyticsvidhya.com/blog/2019/02/stanfordnlp-nlp-library-python/#"
   ]
  },
  {
   "cell_type": "code",
   "execution_count": null,
   "metadata": {},
   "outputs": [],
   "source": [
    "#Exemple\n",
    "text = 'Les victoires de Joe Biden à la présidentielle américaine à peine proclamée par les principaux médias américains.'\n",
    "doc = nlp(text)  \n",
    "#extract_pos(doc)\n",
    "for sent in doc.sentences:\n",
    "    for word in sent.words:\n",
    "        print(word.text,\":\", word.upos, word.pos)\n",
    "doc.sentences[0].words[0] "
   ]
  },
  {
   "cell_type": "raw",
   "metadata": {},
   "source": [
    "keep = [\"NOUN\",\"PROPN\"]\n",
    "corpus_nouns = deepcopy(corpus_list)\n",
    "for document in tqdm(corpus_nouns):\n",
    "\n",
    "    #document = corpus_nouns[i]\n",
    "    plain_text = document[\"corpus\"]\n",
    "    doc = nlp(plain_text)\n",
    "    cleaned_words =list()\n",
    "    for sent in doc.sentences:\n",
    "        for word in sent.words:\n",
    "            pos_tag = word.upos\n",
    "            if pos_tag in keep:\n",
    "                cleaned_words.append(word.text.lower())\n",
    "    document[\"corpus\"] = cleaned_words \n",
    "#20hours of computation to get."
   ]
  },
  {
   "cell_type": "code",
   "execution_count": 74,
   "metadata": {},
   "outputs": [
    {
     "data": {
      "text/plain": [
       "57538"
      ]
     },
     "execution_count": 74,
     "metadata": {},
     "output_type": "execute_result"
    }
   ],
   "source": [
    "len(corpus_nouns)"
   ]
  },
  {
   "cell_type": "raw",
   "metadata": {},
   "source": [
    "# save corpus_nouns\n",
    "PATH = \"./data/ArticleCompany_2020-11-17/\"\n",
    "file = \"corpus_nouns\"\n",
    "a_file = open(PATH + file + \".json\", \"w\")\n",
    "json.dump(corpus_nouns, a_file)\n",
    "a_file.close()\n",
    "print (file,\"is saved successfully\")"
   ]
  },
  {
   "cell_type": "code",
   "execution_count": 33,
   "metadata": {},
   "outputs": [],
   "source": [
    "# load corpus_nouns \n",
    "PATH = \"./data/ArticleCompany_2020-11-17/\"\n",
    "file = \"corpus_nouns\"\n",
    "with open(PATH + file +\".json\") as json_file: \n",
    "    corpus_nouns = json.load(json_file) "
   ]
  },
  {
   "cell_type": "code",
   "execution_count": 34,
   "metadata": {},
   "outputs": [
    {
     "name": "stdout",
     "output_type": "stream",
     "text": [
      "The siren list is: <class 'list'> <class 'list'>\n"
     ]
    }
   ],
   "source": [
    "print (\"The siren list is:\",type(corpus_nouns[0][\"siren\"]), type(corpus_nouns[0][\"corpus\"]))"
   ]
  },
  {
   "cell_type": "raw",
   "metadata": {},
   "source": [
    "#Clean up the lists\n",
    "# Convert string to list of labels\n",
    "print (\"The siren list is:\",type(corpus_nouns[0][\"siren\"]), type(corpus_nouns[0][\"corpus\"]))\n",
    "for document in corpus_nouns:\n",
    "    #document[\"siren\"] = ast.literal_eval(document[\"siren\"]) # convert list in string format to list\n",
    "    document[\"corpus\"] = ast.literal_eval(document[\"corpus\"]) # convert list in string format to list\n",
    "    #for i in range(len(document[\"siren\"])): # Convert each int siren to string \n",
    "    #    document[\"siren\"][i] = str(document[\"siren\"][i])\n",
    "    for i in range(len(document[\"corpus\"])): # Convert each word to string # might not be necessary\n",
    "        document[\"corpus\"][i] = str(document[\"corpus\"][i])\n",
    "print (\"NOW the type of the siren list is:\",type(corpus_nouns[0][\"siren\"]), type(corpus_nouns[0][\"corpus\"]))\n",
    "\n",
    "# check if well loaded\n",
    "print (file,\"is loaded successfully\")"
   ]
  },
  {
   "cell_type": "markdown",
   "metadata": {},
   "source": [
    "# Extraction d'entreprise avec plus de n articles sur elles"
   ]
  },
  {
   "cell_type": "code",
   "execution_count": 15,
   "metadata": {},
   "outputs": [
    {
     "name": "stdout",
     "output_type": "stream",
     "text": [
      "['419838529', '813883964', '572060333', '542104245', '399258755']\n",
      "SPIE OPERATIONS\n",
      "322120916 APPLE FRANCE\n",
      "APPLE FRANCE a 7 articles dans le corpus\n"
     ]
    }
   ],
   "source": [
    "print(list(dict_names.keys())[0:5])\n",
    "print (dict_names['399258755'])\n",
    "name_search = \"APPLE FRANCE\"\n",
    "for siren, name in dict_names.items():  # for name, age in dictionary.iteritems():  (for Python 2.x)\n",
    "    if name_search in name:\n",
    "        print(siren, name)\n",
    "print(\"APPLE FRANCE a\",dict_count[\"322120916\"],\"articles dans le corpus\")"
   ]
  },
  {
   "cell_type": "code",
   "execution_count": 16,
   "metadata": {},
   "outputs": [
    {
     "name": "stdout",
     "output_type": "stream",
     "text": [
      "There are 2084 companies with MORE than 5 associated articles\n"
     ]
    }
   ],
   "source": [
    "number = 5 # Number of articles a company must have to be kept in the list\n",
    "siren_filtered =[key for key in dict_count if dict_count[key] > number]\n",
    "print (\"There are\",len(siren_filtered),\"companies with MORE than\",number,\"associated articles\")"
   ]
  },
  {
   "cell_type": "code",
   "execution_count": 17,
   "metadata": {},
   "outputs": [],
   "source": [
    "for key in siren_filtered:\n",
    "    if len(key)>10:\n",
    "        print (key)\n",
    "#find out why label_dict"
   ]
  },
  {
   "cell_type": "markdown",
   "metadata": {},
   "source": [
    "# Creation de Train et Test set pour l'entrainement de Tf.Idf"
   ]
  },
  {
   "cell_type": "code",
   "execution_count": 38,
   "metadata": {},
   "outputs": [],
   "source": [
    "from sklearn.model_selection import train_test_split\n",
    "import random"
   ]
  },
  {
   "cell_type": "code",
   "execution_count": 39,
   "metadata": {},
   "outputs": [
    {
     "name": "stdout",
     "output_type": "stream",
     "text": [
      "Removing unwanted articles\n",
      "We removed: 29189 articles and we have 28349 left\n",
      "Splitting data\n",
      "We have 8504 documents in the training corpus\n",
      "We have 19845 documents in the testing corpus\n"
     ]
    }
   ],
   "source": [
    "# Remove all of the articles that dont talk about our selected companies (in siren filtered)\n",
    "# Split corpus train/test\n",
    "#corpus = corpus_cleaned\n",
    "corpus = corpus_nouns\n",
    "test_size = 0.7\n",
    "X_train_corpus = list()\n",
    "X_test_corpus = list()\n",
    "\n",
    "#Removing unwanted articles\n",
    "print(\"Removing unwanted articles\")\n",
    "corpus_temp = list()\n",
    "for document in corpus:\n",
    "    keep = False\n",
    "    for document_sirens in document[\"siren\"]:\n",
    "        for sirens in siren_filtered:\n",
    "            if document_sirens == sirens:\n",
    "                keep = True\n",
    "    if keep:\n",
    "        corpus_temp.append(document)\n",
    "print (\"We removed:\",len(corpus)-len(corpus_temp),\"articles and we have\",len(corpus_temp),\"left\")\n",
    "corpus = corpus_temp\n",
    " \n",
    "#Splitting data\n",
    "print(\"Splitting data\") \n",
    "#for document in corpus:\n",
    "#    if (random.uniform(0, 1)<train_size):\n",
    "#        X_train_corpus.append(document)\n",
    "#    else:\n",
    "#        X_test_corpus.append(document)\n",
    "X_train_corpus, X_test_corpus = train_test_split(corpus, test_size=test_size, random_state=0)\n",
    "\n",
    "print (\"We have\",len(X_train_corpus),\"documents in the training corpus\")\n",
    "print (\"We have\",len(X_test_corpus),\"documents in the testing corpus\")"
   ]
  },
  {
   "cell_type": "markdown",
   "metadata": {},
   "source": [
    "# Tf.Idf pour une liste d'entreprise sur le training data"
   ]
  },
  {
   "cell_type": "code",
   "execution_count": 25,
   "metadata": {},
   "outputs": [],
   "source": [
    "# imports\n",
    "from sklearn.feature_extraction.text import TfidfVectorizer "
   ]
  },
  {
   "cell_type": "code",
   "execution_count": null,
   "metadata": {},
   "outputs": [],
   "source": [
    "# Tf.Idf on Companies that have Associated Articles \n",
    "\n",
    "relevant_words_tfidf = {}\n",
    "corpus = X_train_corpus # corpus\n",
    "\n",
    "list_siren = siren_filtered\n",
    "\n",
    "def identity_tokenizer(text):\n",
    "    return text\n",
    "for siren in tqdm(list_siren):\n",
    "    #siren = \"322120916\" #APPLE FRANCE\n",
    "    plain_text_list = list()\n",
    "    company_article = list()\n",
    "    #binary = True\n",
    "    #sublinear_tf=False\n",
    "    tfidf_vectorizer = TfidfVectorizer(tokenizer=identity_tokenizer, ngram_range = (1,1), lowercase=False, sublinear_tf=True)\n",
    "    for document in corpus:\n",
    "        if siren in document[\"siren\"]:\n",
    "            company_article = company_article+document[\"corpus\"]  # add article to company BIG article\n",
    "        else:\n",
    "            plain_text_list.append(document[\"corpus\"]) # otherwise add to corpus\n",
    "\n",
    "    plain_text_list.insert(0,company_article) # add company article to begging of corpus\n",
    "    tfidf_vectorizer_vectors=tfidf_vectorizer.fit_transform(plain_text_list)\n",
    "\n",
    "    #Get the tf-idf scores for the words in the company article complication.\n",
    "    first_vector_tfidfvectorizer=tfidf_vectorizer_vectors[0] # discard tf.idf scores for the other texts\n",
    "\n",
    "    # place tf-idf values in a pandas data frame \n",
    "    df = pd.DataFrame(first_vector_tfidfvectorizer.T.todense(), index=tfidf_vectorizer.get_feature_names(), columns=[\"tfidf\"]) \n",
    "    df = df.sort_values(by=[\"tfidf\"],ascending=False).head(40) # Take top 40 words\n",
    "\n",
    "    relevant_words_tfidf[siren] = list(zip(list(df.index),list(df[\"tfidf\"])))\n",
    "    #print (relevant_words_tfidf[company])\n",
    "\n",
    "\n",
    "#100%|██████████| 2084/2084 [2:19:42<00:00,  4.02s/it] # tokenized tf\n",
    "#100%|██████████| 2084/2084 [2:03:31<00:00,  3.56s/it] # tokenized binary\n",
    "#100%|██████████| 2084/2084 [1:50:00<00:00,  3.17s/it] # tokenized sublinear_tf\n",
    "#100%|██████████| 2084/2084 [1:21:23<00:00,  2.34s/it] # nouns sublinear_tf\n"
   ]
  },
  {
   "cell_type": "code",
   "execution_count": null,
   "metadata": {},
   "outputs": [],
   "source": [
    "relevant_words_tfidf"
   ]
  },
  {
   "cell_type": "code",
   "execution_count": 91,
   "metadata": {},
   "outputs": [
    {
     "name": "stdout",
     "output_type": "stream",
     "text": [
      "relevant_words_tfidf_nouns_sublinear_tf is saved successfully\n"
     ]
    }
   ],
   "source": [
    "# save dictionary\n",
    "PATH = \"./relevant_words/francais/\"\n",
    "file = \"relevant_words_tfidf_nouns_sublinear_tf-tmp\"\n",
    "a_file = open(PATH + file + \".json\", \"w\")\n",
    "json.dump(relevant_words_tfidf, a_file)\n",
    "a_file.close()\n",
    "print (file,\"is saved successfully\")"
   ]
  },
  {
   "cell_type": "code",
   "execution_count": 27,
   "metadata": {},
   "outputs": [
    {
     "name": "stdout",
     "output_type": "stream",
     "text": [
      "relevant_words_tfidf_nouns_sublinear_tf is loaded successfully\n"
     ]
    }
   ],
   "source": [
    "# load dictionary \n",
    "PATH = \"./relevant_words/francais/\"\n",
    "file = \"relevant_words_tfidf_nouns_sublinear_tf\"\n",
    "a_file = open(PATH + file + \".json\", \"r\")\n",
    "relevant_words_tfidf = json.load(a_file)\n",
    "#relevant_words_tfidf = dict(relevant_words_tfidf)\n",
    "# check if well loaded\n",
    "print (file,\"is loaded successfully\") "
   ]
  },
  {
   "cell_type": "code",
   "execution_count": 18,
   "metadata": {},
   "outputs": [],
   "source": [
    "#relevant_words_tfidf.keys()\n",
    "#relevant_words_tfidf['419838529']\n",
    "#type(relevant_words_tfidf)\n",
    "#len(relevant_words_tfidf.keys())"
   ]
  },
  {
   "cell_type": "markdown",
   "metadata": {},
   "source": [
    "# Fetching Relevant Words from ES"
   ]
  },
  {
   "cell_type": "code",
   "execution_count": 18,
   "metadata": {},
   "outputs": [
    {
     "name": "stdout",
     "output_type": "stream",
     "text": [
      "relevant_words_train is loaded successfully\n"
     ]
    }
   ],
   "source": [
    "# load dictionary \n",
    "PATH = \"./relevant_words/francais/\"\n",
    "file = \"relevant_words_train\"\n",
    "a_file = open(PATH + file + \".json\", \"r\")\n",
    "relevant_words_es = json.load(a_file)\n",
    "#relevant_words_tfidf = dict(relevant_words_tfidf)\n",
    "\n",
    "\n",
    "# check if well loaded\n",
    "print (file,\"is loaded successfully\") "
   ]
  },
  {
   "cell_type": "code",
   "execution_count": 22,
   "metadata": {},
   "outputs": [
    {
     "data": {
      "text/plain": [
       "2070"
      ]
     },
     "execution_count": 22,
     "metadata": {},
     "output_type": "execute_result"
    }
   ],
   "source": [
    "count = 0\n",
    "for siren in siren_filtered:\n",
    "    if siren in relevant_words_es.keys():\n",
    "        count +=1\n",
    "count"
   ]
  },
  {
   "cell_type": "code",
   "execution_count": 23,
   "metadata": {},
   "outputs": [
    {
     "data": {
      "text/plain": [
       "1970"
      ]
     },
     "execution_count": 23,
     "metadata": {},
     "output_type": "execute_result"
    }
   ],
   "source": [
    "# Removing all the empty significant words and keeping only siren_filtered\n",
    "relevant_words_es_clean = dict()\n",
    "for siren in siren_filtered:\n",
    "    if siren in relevant_words_es.keys():\n",
    "        if len(relevant_words_es[siren])>0:\n",
    "            relevant_words_es_clean[siren] = relevant_words_es[siren]\n",
    "len(relevant_words_es_clean.keys())"
   ]
  },
  {
   "cell_type": "markdown",
   "metadata": {},
   "source": [
    "# Building baseline model "
   ]
  },
  {
   "cell_type": "code",
   "execution_count": 24,
   "metadata": {},
   "outputs": [],
   "source": [
    "#Labeling article if it has the company name in it\n",
    "relevant_words_baseline = dict()\n",
    "for key in dict_names.keys():\n",
    "    #print (key)\n",
    "    #print([dict_names[key].lower()])\n",
    "    relevant_words_baseline[key] = [[dict_names[key].lower(),1]]\n",
    "#relevant_words_baseline"
   ]
  },
  {
   "cell_type": "markdown",
   "metadata": {},
   "source": [
    "# Text Classifier"
   ]
  },
  {
   "cell_type": "code",
   "execution_count": 25,
   "metadata": {},
   "outputs": [],
   "source": [
    "# imports\n",
    "import operator"
   ]
  },
  {
   "cell_type": "code",
   "execution_count": 26,
   "metadata": {},
   "outputs": [],
   "source": [
    "#################################################################\n",
    "# CLEANING PLAIN TEXT\n",
    "#Input  : Plain text - String\n",
    "#Output : Text removing all punctuation and lowercased\n",
    "#################################################################\n",
    "def clean_plain_text(text):\n",
    "    text = text.lower()\n",
    "    text = re.sub(r'\\s+', ' ', text)\n",
    "    text = re.sub(\"[^a-z0-9]\", ' ', text)\n",
    "    text = re.sub(r'\\s+', ' ', text)\n",
    "    return text"
   ]
  },
  {
   "cell_type": "code",
   "execution_count": 40,
   "metadata": {},
   "outputs": [],
   "source": [
    "#################################################################\n",
    "# Gives a companies \"related score\" wrt an article (using it's significant words)\n",
    "#INPUT :plain_text- String/ word_list - list of significant words\n",
    "#OUTPUT: Score the chances the company is related to the article\n",
    "#################################################################\n",
    "def score_company(plain_text, word_list): \n",
    "    epsilon = 0.0001\n",
    "    avg_word_length =6+1 #+1 counting the spaces\n",
    "    n_words = len(word_list)\n",
    "    words_in_text = 0\n",
    "    #print (word_list)\n",
    "    for word in word_list:\n",
    "        words_in_text +=plain_text.count(word)\n",
    "    #return words_in_text\n",
    "    return words_in_text/(len(plain_text)/avg_word_length + epsilon)"
   ]
  },
  {
   "cell_type": "code",
   "execution_count": 41,
   "metadata": {},
   "outputs": [],
   "source": [
    "#################################################################\n",
    "# For an Article, gives the \"related scores\" for all companies\n",
    "#INPUT :plain_text- String/company related words - dict/ params\n",
    "#OUTPUT: dict of companies and their \"related scores\"\n",
    "#################################################################\n",
    "def text_label_scores(plain_text,related_words,n_sig_words=10, min_score = 0.01):\n",
    "    label_dict = {}\n",
    "    #print (sig_words_list)\n",
    "    for siren in related_words.keys():\n",
    "        #print(related_words[siren])\n",
    "        sig_words_list = np.array(related_words[siren])[:n_sig_words,0] # Build significant word list (with no scores)\n",
    "        #print (\"sig_words_list\")\n",
    "        score = score_company(plain_text, sig_words_list)\n",
    "        #print (score)\n",
    "        if score>=min_score:\n",
    "            label_dict[siren]= score\n",
    "    ### Soft_max ###\n",
    "    #sum_exp = sum([np.exp(v) for v in label_dict.values()])\n",
    "    #label_dict = {k: np.exp(v)/sum_exp for k, v in sorted(label_dict.items(), key=lambda item: -item[1])}\n",
    "    ### normalizing score ###\n",
    "    #max_val = max(label_dict.values())\n",
    "    #label_dict = {k: v/max_val for k, v in sorted(label_dict.items(), key=lambda item: -item[1])}\n",
    "    ### Plain score ###\n",
    "    label_dict = {k: v for k, v in sorted(label_dict.items(), key=lambda item: -item[1])}\n",
    "    return label_dict"
   ]
  },
  {
   "cell_type": "code",
   "execution_count": 42,
   "metadata": {},
   "outputs": [
    {
     "ename": "NameError",
     "evalue": "name 'relevant_words_tfidf' is not defined",
     "output_type": "error",
     "traceback": [
      "\u001b[0;31m---------------------------------------------------------------------------\u001b[0m",
      "\u001b[0;31mNameError\u001b[0m                                 Traceback (most recent call last)",
      "\u001b[0;32m<ipython-input-42-fd6ef673ce4e>\u001b[0m in \u001b[0;36m<module>\u001b[0;34m\u001b[0m\n\u001b[1;32m      8\u001b[0m \u001b[0mplain_text\u001b[0m \u001b[0;34m=\u001b[0m \u001b[0mclean_plain_text\u001b[0m\u001b[0;34m(\u001b[0m\u001b[0mplain_text\u001b[0m\u001b[0;34m)\u001b[0m\u001b[0;34m\u001b[0m\u001b[0;34m\u001b[0m\u001b[0m\n\u001b[1;32m      9\u001b[0m \u001b[0;34m\u001b[0m\u001b[0m\n\u001b[0;32m---> 10\u001b[0;31m \u001b[0mrelated_words\u001b[0m \u001b[0;34m=\u001b[0m \u001b[0mrelevant_words_tfidf\u001b[0m\u001b[0;34m\u001b[0m\u001b[0;34m\u001b[0m\u001b[0m\n\u001b[0m\u001b[1;32m     11\u001b[0m \u001b[0mn_sig_words\u001b[0m\u001b[0;34m=\u001b[0m \u001b[0;36m10\u001b[0m\u001b[0;34m\u001b[0m\u001b[0;34m\u001b[0m\u001b[0m\n\u001b[1;32m     12\u001b[0m \u001b[0mmin_score\u001b[0m \u001b[0;34m=\u001b[0m \u001b[0;36m0.1\u001b[0m \u001b[0;31m# nbr of sig words in text\u001b[0m\u001b[0;34m\u001b[0m\u001b[0;34m\u001b[0m\u001b[0m\n",
      "\u001b[0;31mNameError\u001b[0m: name 'relevant_words_tfidf' is not defined"
     ]
    }
   ],
   "source": [
    "# testing text_label_scores\n",
    "plain_text = \"\"\"\n",
    "La victoire de Joe Biden à la présidentielle américaine à peine proclamée par les principaux \n",
    "médias américains, les messages de félicitations des dirigeants occidentaux affluent. Sur Twitter,\n",
    "une courte séquence vidéo fait le buzz entre Londres et Dublin. Ce 7 novembre, on y voit le \n",
    "candidat démocrate entouré de journalistes.\n",
    "\"\"\"\n",
    "plain_text = clean_plain_text(plain_text)\n",
    "\n",
    "related_words = relevant_words_tfidf\n",
    "n_sig_words= 10\n",
    "min_score = 0.1 # nbr of sig words in text\n",
    "#print (plain_text)\n",
    "label_dict = text_label_scores(plain_text,related_words, n_sig_words, min_score)\n",
    "print(label_dict)\n",
    "for key in label_dict.keys(): # Should not trigger\n",
    "    if len(key)>10:\n",
    "        print (key)\n",
    "#find out why label_dict"
   ]
  },
  {
   "cell_type": "markdown",
   "metadata": {},
   "source": [
    "# Function to return predicted text labels"
   ]
  },
  {
   "cell_type": "code",
   "execution_count": 43,
   "metadata": {},
   "outputs": [],
   "source": [
    "#################################################################\n",
    "# For an Article, predicts the labels (sirens)\n",
    "#INPUT : plain_text- String/company related words - dict/ params\n",
    "#OUTPUT: dict of companies and their \"related scores\"\n",
    "#################################################################\n",
    "def label_text(plain_text,related_words, n_sig_words= 10, min_score = 0.1):\n",
    "    label_dict = text_label_scores(plain_text,related_words, n_sig_words, min_score)\n",
    "    #print(\"best score\",label_dict[list(label_dict.keys())[0]])\n",
    "    sirens = list(label_dict.keys())\n",
    "    return sirens[:8] # limiting the number of predictions to 8"
   ]
  },
  {
   "cell_type": "markdown",
   "metadata": {},
   "source": [
    "# Testing accuracy of the model"
   ]
  },
  {
   "cell_type": "code",
   "execution_count": 44,
   "metadata": {},
   "outputs": [
    {
     "name": "stderr",
     "output_type": "stream",
     "text": [
      "100%|██████████| 300/300 [03:23<00:00,  1.48it/s]\n"
     ]
    }
   ],
   "source": [
    "# Convert the list in the sirens to actual list!\n",
    "\n",
    "#related_words = relevant_words_tfidf #model related words\n",
    "related_words = relevant_words_es_clean #relevant_words_es\n",
    "#related_words = relevant_words_baseline\n",
    "corpus = X_train_corpus[:300] # pour verifier que on peut sur entrainer\n",
    "#corpus = X_test_corpus[:300] # pour tester sur de nouveaux articles\n",
    "\n",
    "pred_eval = list() # Tag each prediction 1:correct, 0:wrong for each article\n",
    "pred_labels = list() # Siren predicted for each article\n",
    "article_eval = list() # Tag each label if 1:predicted, 0:not predicted for each article\n",
    "article_labels = list() # Siren labels for each article\n",
    "pred_stats = list() #list all predicted sirens\n",
    "label_stats = list() # iist of all siren labels\n",
    "for document in tqdm(corpus):\n",
    "    plain_text = document[\"corpus\"]\n",
    "    #pred_labels\n",
    "    pred_siren = label_text(plain_text,related_words, n_sig_words= 10, min_score = 0.1)\n",
    "    pred_labels.append(pred_siren)\n",
    "    \n",
    "    #pred_stats\n",
    "    pred_stats += pred_siren\n",
    "    \n",
    "    #article_labels\n",
    "    true_label =document[\"siren\"]\n",
    "    article_labels.append(true_label)\n",
    "    label_stats\n",
    "    #label_stats\n",
    "    label_stats +=true_label\n",
    "    \n",
    "    #pred_eval\n",
    "    is_labeled = [0]*len(pred_siren)\n",
    "    for i in range(len(pred_siren)):  # For each prediction list tag the good and bad predictions\n",
    "        for label in true_label:\n",
    "            if pred_siren[i]==label:\n",
    "                is_labeled[i]=1\n",
    "    pred_eval.append(is_labeled) \n",
    "    \n",
    "    #article_eval\n",
    "    is_predicted = [0]*len(true_label)\n",
    "    for i in range(len(true_label)):  # For each prediction list tag the good and bad predictions\n",
    "        for pred in pred_siren:\n",
    "            if true_label[i]==pred:\n",
    "                is_predicted[i]=1\n",
    "    article_eval.append(is_predicted) "
   ]
  },
  {
   "cell_type": "markdown",
   "metadata": {},
   "source": [
    "# EVALUATING MODEL"
   ]
  },
  {
   "cell_type": "code",
   "execution_count": 45,
   "metadata": {},
   "outputs": [],
   "source": [
    "import matplotlib.pylab as plt\n",
    "import seaborn"
   ]
  },
  {
   "cell_type": "code",
   "execution_count": 47,
   "metadata": {},
   "outputs": [
    {
     "name": "stdout",
     "output_type": "stream",
     "text": [
      "There are 300 texts evaluated\n",
      "Accuracy1: 0.347 (with at least ONE label predicted)\n",
      "Accuracy2: 0.287 (with ALL labels predicted)\n",
      "Accuracy3: 0.17 (with ALL labels predicted in the FIRST predictions)\n",
      "Accuracy4: 0.053 (Number of correct predictions over total number of predictions overall)\n",
      "Average number of predictions 6.737 vs average number of labels : 1.47\n",
      "The siren that is predicted the most is: 493271522 ( 91 times)\n",
      "AVG PRECISION: 0.272 True_pos/(True_Pos + False_Neg) -> average for each siren\n",
      "AVG RECALL: 0.316 True_pos/(True_Pos + False_Neg) -> average for each siren\n",
      "\n",
      "PRECISION DescribeResult(nobs=297, minmax=(0.0, 1.0), mean=0.27236652236652237, variance=0.17782418085989513, skewness=1.0429594480822069, kurtosis=-0.7749931328258777)\n",
      "\n",
      "RECALL DescribeResult(nobs=297, minmax=(0.0, 1.0), mean=0.31565656565656564, variance=0.20954477204477204, skewness=0.7912544705392505, kurtosis=-1.3360497104615259)\n"
     ]
    },
    {
     "data": {
      "text/plain": [
       "<seaborn.axisgrid.FacetGrid at 0x7fe18c753f50>"
      ]
     },
     "execution_count": 47,
     "metadata": {},
     "output_type": "execute_result"
    },
    {
     "data": {
      "image/png": "[encoded data removed]",
      "text/plain": [
       "<Figure size 360x360 with 1 Axes>"
      ]
     },
     "metadata": {
      "needs_background": "light"
     },
     "output_type": "display_data"
    },
    {
     "data": {
      "image/png": "[encoded data removed]",
      "text/plain": [
       "<Figure size 360x360 with 1 Axes>"
      ]
     },
     "metadata": {
      "needs_background": "light"
     },
     "output_type": "display_data"
    }
   ],
   "source": [
    "########## How many times (at least) one of the companies are predicted ##########\n",
    "print (\"There are\",len(pred_eval),\"texts evaluated\")\n",
    "acc1 = list()\n",
    "for preds in pred_eval:\n",
    "    acc1.append(any(preds))\n",
    "print(\"Accuracy1:\", round(np.sum(acc1)/len(pred_eval),3),\"(with at least ONE label predicted)\")\n",
    "\n",
    "########## How many times ALL the labels are present in the prediction. ##########\n",
    "acc2 = list()\n",
    "for i in range(len(pred_eval)):\n",
    "    len_label = len(corpus[i][\"siren\"])\n",
    "    n_correct_pred = np.sum(pred_eval[i])\n",
    "    if len_label==n_correct_pred:\n",
    "        acc2.append(True)\n",
    "    else:\n",
    "        acc2.append(False)\n",
    "    if len(corpus[i][\"siren\"])<np.sum(pred_eval[i]): # Should never trigger\n",
    "        print(\"Error to many good predictions\")   \n",
    "print(\"Accuracy2:\", round(np.sum(acc2)/len(pred_eval),3),\"(with ALL labels predicted)\")\n",
    "\n",
    "########## How many times ALL the labels are present in the prediction and are . ##########\n",
    "acc3 = list()\n",
    "for i in range(len(pred_eval)):\n",
    "    len_label = len(corpus[i][\"siren\"])\n",
    "    n_first_correct_pred = np.sum(pred_eval[i][:len_label])# Keeping only the len_label first predictions\n",
    "    if len_label==n_first_correct_pred:\n",
    "        acc3.append(True)\n",
    "    else:\n",
    "        acc3.append(False)\n",
    "    if len(corpus[i][\"siren\"])<np.sum(pred_eval[i]): # Should never trigger\n",
    "        print(\"Error to many good predictions\") \n",
    "print(\"Accuracy3:\", round(np.sum(acc3)/len(pred_eval),3),\"(with ALL labels predicted in the FIRST predictions)\")\n",
    "\n",
    "########## How many predictions are wrong wrt. how many are right (TRUE, FALSE) ##########\n",
    "true_pred = 0\n",
    "pred = 0\n",
    "for preds in pred_eval:\n",
    "    true_pred += np.sum(preds)\n",
    "    pred += len(preds)\n",
    "print(\"Accuracy4:\",round(true_pred/pred,3),\"(Number of correct predictions over total number of predictions overall)\")\n",
    "\n",
    "########## Average number of predictions vs average number of labels ##########\n",
    "len_label = list()\n",
    "len_pred = list()\n",
    "for i in range(len(pred_eval)):\n",
    "    len_label.append(len(corpus[i][\"siren\"]))\n",
    "    len_pred.append(len(pred_eval[i]))\n",
    "print(\"Average number of predictions\",round(np.mean(len_pred),3),\"vs average number of labels :\", round(np.mean(len_label),2))\n",
    "\n",
    "########## Most commun labels predicted ##########\n",
    "count_pred = dict()\n",
    "for siren in pred_stats:\n",
    "    if siren in count_pred.keys():\n",
    "        count_pred[siren] +=1\n",
    "    else:\n",
    "        count_pred[siren] = 1\n",
    "key_max = list(filter(lambda t: t[1]==max(count_pred.values()), count_pred.items()))[0][0] \n",
    "print(\"The siren that is predicted the most is:\",key_max,\"(\",np.max(list(count_pred.values())),\"times)\")\n",
    "#sns.catplot(x=\"deck\", kind=\"count\", palette=\"ch:.25\", data=pred_stats)\n",
    "\n",
    "########## Precision & RECALL ##########\n",
    "precision_list = list()\n",
    "recall_list = list()\n",
    "for siren in siren_filtered:\n",
    "    true_pos = 0.0  # Siren is a label and is predicted\n",
    "    false_pos = 0.0 # Siren is NOT a label and is predicted (false prediction)\n",
    "    true_neg = 0.0  # Siren is NOT a label and is not predicted (don't care)\n",
    "    false_neg = 0.0 # Siren is a label and is NOT predicted\n",
    "    for i in range(len(article_eval)):\n",
    "        for j in range(len(article_labels[i])):\n",
    "            if siren==article_labels[i][j]:\n",
    "                if article_eval[i][j]==1:\n",
    "                    true_pos +=1\n",
    "                else:\n",
    "                    false_neg +=1\n",
    "    for i in range(len(pred_eval)):\n",
    "        for j in range(len(pred_labels[i])):\n",
    "            if siren==pred_labels[i][j]:\n",
    "                if pred_eval[i][j]==0:\n",
    "                    false_pos += 1\n",
    "\n",
    "    if siren in label_stats:\n",
    "        if true_pos ==0:\n",
    "            precision = 0\n",
    "            recall =0\n",
    "        else:\n",
    "            precision = true_pos/(true_pos+false_pos)\n",
    "            recall = true_pos/(true_pos+false_neg)\n",
    "        precision_list.append(precision)\n",
    "        recall_list.append(recall)\n",
    "print(\"AVG PRECISION:\",round(np.average(precision_list),3),\"True_pos/(True_Pos + False_Neg) -> average for each siren\")\n",
    "print(\"AVG RECALL:\",round(np.average(recall_list),3),\"True_pos/(True_Pos + False_Neg) -> average for each siren\")\n",
    "\n",
    "print()\n",
    "print(\"PRECISION\",stats.describe(precision_list))\n",
    "print ()\n",
    "print(\"RECALL\",stats.describe(recall_list))\n",
    "ax = sns.displot(precision_list, bins=20) #bins=20\n",
    "ax.set(xlabel=\"Precision\")\n",
    "#sns.axlabel(\"precision\")\n",
    "ax = sns.displot(recall_list, bins=20) #bins=20\n",
    "ax.set(xlabel=\"Recall\")"
   ]
  },
  {
   "cell_type": "code",
   "execution_count": 48,
   "metadata": {},
   "outputs": [
    {
     "data": {
      "text/plain": [
       "[[1, 0, 0, 0],\n",
       " [1, 0, 0, 0, 0, 0, 0, 0],\n",
       " [1, 0, 0, 0, 0, 0, 0, 0],\n",
       " [0, 0, 0, 0, 0, 0, 0, 0],\n",
       " [0, 0],\n",
       " [0, 0, 0, 0, 0, 0, 0, 0],\n",
       " [0, 0, 0, 0, 0, 0, 0],\n",
       " [1, 0, 0, 0, 0, 0, 0, 0],\n",
       " [0, 0, 0, 0, 0, 0, 0, 0],\n",
       " [0, 0, 0, 0, 0, 0, 0, 0]]"
      ]
     },
     "execution_count": 48,
     "metadata": {},
     "output_type": "execute_result"
    }
   ],
   "source": [
    "pred_eval[:10]"
   ]
  },
  {
   "cell_type": "code",
   "execution_count": 49,
   "metadata": {},
   "outputs": [
    {
     "data": {
      "text/plain": [
       "[[1], [0, 1], [1], [0], [0], [0], [0], [0, 1, 0], [0], [0]]"
      ]
     },
     "execution_count": 49,
     "metadata": {},
     "output_type": "execute_result"
    }
   ],
   "source": [
    "article_eval[:10]"
   ]
  },
  {
   "cell_type": "code",
   "execution_count": null,
   "metadata": {},
   "outputs": [],
   "source": []
  }
 ],
 "metadata": {
  "kernelspec": {
   "display_name": "Python 3",
   "language": "python",
   "name": "python3"
  },
  "language_info": {
   "codemirror_mode": {
    "name": "ipython",
    "version": 3
   },
   "file_extension": ".py",
   "mimetype": "text/x-python",
   "name": "python",
   "nbconvert_exporter": "python",
   "pygments_lexer": "ipython3",
   "version": "3.7.9"
  }
 },
 "nbformat": 4,
 "nbformat_minor": 4
}
