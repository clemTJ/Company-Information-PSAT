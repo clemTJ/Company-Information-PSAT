{
 "cells": [
  {
   "cell_type": "markdown",
   "metadata": {},
   "source": [
    "# Classification de textes Francais par entreprise"
   ]
  },
  {
   "cell_type": "markdown",
   "metadata": {},
   "source": [
    "# Recuperation de données avec label"
   ]
  },
  {
   "cell_type": "code",
   "execution_count": 2,
   "metadata": {},
   "outputs": [],
   "source": [
    "# imports\n",
    "import pandas as pd\n",
    "import numpy as np\n",
    "import json\n",
    "from tqdm import tqdm\n",
    "from copy import deepcopy\n",
    "import ast\n",
    "from scipy import stats\n",
    "import re\n",
    "import matplotlib.pyplot as plt"
   ]
  },
  {
   "cell_type": "code",
   "execution_count": 3,
   "metadata": {},
   "outputs": [],
   "source": [
    "# fetching data\n",
    "PATH = \"./data/ArticleCompany_2020-11-17/\"\n",
    "coprus = \"corpus_check_long_SIREN_UPDATED2\"\n",
    "names = \"siren_name_map_clean\"\n",
    "\n",
    "with open(PATH + names +\".json\") as json_file: \n",
    "    dict_names = json.load(json_file) \n",
    "\n",
    "with open(PATH + coprus +\".json\") as json_file: \n",
    "    corpus_list = json.load(json_file) "
   ]
  },
  {
   "cell_type": "code",
   "execution_count": 4,
   "metadata": {},
   "outputs": [
    {
     "name": "stdout",
     "output_type": "stream",
     "text": [
      "The siren list is: <class 'str'>\n",
      "NOW the type of the siren list is: <class 'list'>\n"
     ]
    }
   ],
   "source": [
    "# Convert labels from string to list\n",
    "print (\"The siren list is:\",type(corpus_list[0][\"siren\"]))\n",
    "for document in corpus_list:\n",
    "    document[\"siren\"] = ast.literal_eval(document[\"siren\"]) # convert list in string format to list\n",
    "    for i in range(len(document[\"siren\"])): # Convert each int siren to string \n",
    "        document[\"siren\"][i] = str(document[\"siren\"][i])\n",
    "print (\"NOW the type of the siren list is:\",type(corpus_list[0][\"siren\"]))"
   ]
  },
  {
   "cell_type": "markdown",
   "metadata": {},
   "source": [
    "# Enlever les articles vides"
   ]
  },
  {
   "cell_type": "code",
   "execution_count": 5,
   "metadata": {},
   "outputs": [
    {
     "name": "stdout",
     "output_type": "stream",
     "text": [
      "Index of removed article: 29805   \n",
      "Index of removed article: 30158     \n"
     ]
    }
   ],
   "source": [
    "corpus_list_inter = list()\n",
    "for i in range(len(corpus_list)):\n",
    "    if len(corpus_list[i][\"corpus\"])<100: # small enough\n",
    "        text = corpus_list[i][\"corpus\"]\n",
    "        text = re.sub(\"^(\\s+)\", '', text)\n",
    "        if (len(text)>0):\n",
    "            corpus_list_inter.append(corpus_list[i])\n",
    "        else:\n",
    "            print (\"Index of removed article:\",i,corpus_list[i][\"corpus\"])\n",
    "    else:\n",
    "        corpus_list_inter.append(corpus_list[i])\n",
    "corpus_list = corpus_list_inter"
   ]
  },
  {
   "cell_type": "code",
   "execution_count": 6,
   "metadata": {},
   "outputs": [
    {
     "name": "stdout",
     "output_type": "stream",
     "text": [
      "There are 57538 articles in the corpus\n",
      "There are 30178 companies in the list\n"
     ]
    }
   ],
   "source": [
    "print (\"There are\", len(corpus_list), \"articles in the corpus\")\n",
    "print (\"There are\", len(dict_names), \"companies in the list\")"
   ]
  },
  {
   "cell_type": "markdown",
   "metadata": {},
   "source": [
    "## Compter Nombre d'Entreprises sans Articles"
   ]
  },
  {
   "cell_type": "code",
   "execution_count": 10,
   "metadata": {},
   "outputs": [
    {
     "name": "stdout",
     "output_type": "stream",
     "text": [
      "There are 28690 companies with articles out of the 30178 companies\n",
      "There are 1488 companies with no articles\n",
      "95.07 % of the companies have at least one article\n",
      "Each article of the corpus has: dict_keys(['id', 'siren', 'corpus', 'url_article'])\n"
     ]
    }
   ],
   "source": [
    "dict_count = dict()\n",
    "#for company in dict_names.keys(): dict_count[company] = 0\n",
    "for document in corpus_list:\n",
    "    sir_list = document[\"siren\"]\n",
    "    for siren in sir_list:\n",
    "        if len(siren)>10 or len(siren)<4 : # Should not be triggered\n",
    "            print (\"ALERT:\",siren)\n",
    "        if siren in dict_count.keys():\n",
    "            dict_count[siren] +=1\n",
    "        else:\n",
    "            dict_count[siren] = 1\n",
    "print (\"There are\",len(dict_count.keys()),\"companies with articles out of the\", len(dict_names.keys()), \"companies\")\n",
    "print (\"There are\",len(dict_names.keys())-len(dict_count.keys()),\"companies with no articles\")\n",
    "print (round(len(dict_count)/(len(dict_names))*100,2),\"% of the companies have at least one article\")\n",
    "print (\"Each article of the corpus has:\",corpus_list[0].keys())\n",
    "#corpus_list[0][\"corpus\"]"
   ]
  },
  {
   "cell_type": "markdown",
   "metadata": {},
   "source": [
    "## Trouver les entreprises sans articles"
   ]
  },
  {
   "cell_type": "code",
   "execution_count": 8,
   "metadata": {},
   "outputs": [
    {
     "name": "stdout",
     "output_type": "stream",
     "text": [
      "['512554767', '435404702', '339875817', '797809845', '393239728', '381413947', '433082070', '799911045']\n"
     ]
    }
   ],
   "source": [
    "dict_no_acticle_companies = dict()\n",
    "for company in dict_names.keys():\n",
    "    if company not in dict_count.keys():\n",
    "        dict_no_acticle_companies[company] = dict_names[company] \n",
    "print (list(dict_no_acticle_companies.keys())[:8])"
   ]
  },
  {
   "cell_type": "markdown",
   "metadata": {},
   "source": [
    "## Etude du nombre d'entreprises associé à chaque Article"
   ]
  },
  {
   "cell_type": "code",
   "execution_count": 11,
   "metadata": {},
   "outputs": [
    {
     "name": "stdout",
     "output_type": "stream",
     "text": [
      "DescribeResult(nobs=57538, minmax=(1, 29), mean=1.2476276547672842, variance=0.6042338178020358, skewness=8.133981486117998, kurtosis=136.56851777466036)\n",
      "There are 48176 arcticles with ONLY ONE label out of the 57538 articles\n"
     ]
    },
    {
     "data": {
      "text/plain": [
       "Text(0.5, 1.0, 'Number of labels per article')"
      ]
     },
     "execution_count": 11,
     "metadata": {},
     "output_type": "execute_result"
    },
    {
     "data": {
      "image/png": "[encoded data removed]",
      "text/plain": [
       "<Figure size 432x288 with 1 Axes>"
      ]
     },
     "metadata": {
      "needs_background": "light"
     },
     "output_type": "display_data"
    }
   ],
   "source": [
    "multiple_siren_list = list()\n",
    "for document in corpus_list:\n",
    "    if len(document[\"siren\"])==0:\n",
    "        print (\"ALERT article sans label, id:\",document[\"id\"])\n",
    "    multiple_siren_list.append(len(document[\"siren\"]))\n",
    "    \n",
    "print(stats.describe(multiple_siren_list))   \n",
    "print (\"There are\",multiple_siren_list.count(1),\"arcticles with ONLY ONE label out of the\",len(corpus_list),\"articles\") \n",
    "\n",
    "plt.hist(multiple_siren_list,range =(0,10), bins=10) #bins=20\n",
    "plt.xlabel('number of companies')\n",
    "plt.ylabel('count')\n",
    "plt.title('Number of labels per article')"
   ]
  },
  {
   "cell_type": "markdown",
   "metadata": {},
   "source": [
    "## Etudes du nombre d'Articles associé à chaque Entreprise "
   ]
  },
  {
   "cell_type": "code",
   "execution_count": 16,
   "metadata": {},
   "outputs": [
    {
     "name": "stdout",
     "output_type": "stream",
     "text": [
      "DescribeResult(nobs=28690, minmax=(1, 175), mean=2.5021261763680727, variance=28.017371476985655, skewness=11.347634082651822, kurtosis=211.56847613512954)\n",
      "There are 63.58 % of companies with ONLY ONE associated article\n",
      "There are 95.14 % of companies with LESS THAN 8 associated articles\n"
     ]
    },
    {
     "data": {
      "image/png": "[encoded data removed]",
      "text/plain": [
       "<Figure size 432x288 with 1 Axes>"
      ]
     },
     "metadata": {
      "needs_background": "light"
     },
     "output_type": "display_data"
    }
   ],
   "source": [
    "# On prendre seulement les entreprises avec au moins un articles associer\n",
    "\n",
    "values = list(dict_count.values())\n",
    "plt.hist(values,range =(0,10), bins=10) #bins=20\n",
    "plt.xlabel('associated articles')\n",
    "plt.ylabel('count')\n",
    "plt.title('Number of articles per company')\n",
    "\n",
    "number = 8\n",
    "print(stats.describe(values))\n",
    "print (\"There are\",round(values.count(1)/len(values)*100,2), \"% of companies with ONLY ONE associated article\")\n",
    "under_n = [1 for i in values if i < number]\n",
    "print (\"There are\",round(len(under_n)/len(values)*100,2), \"% of companies with LESS THAN\",number,\"associated articles\")"
   ]
  },
  {
   "cell_type": "markdown",
   "metadata": {},
   "source": [
    "# Tokenize et suppression de stop words du corpus (Méthode 1) 3:30 min"
   ]
  },
  {
   "cell_type": "code",
   "execution_count": 17,
   "metadata": {},
   "outputs": [],
   "source": [
    "#imports\n",
    "import nltk\n",
    "import re\n",
    "from nltk.tokenize import sent_tokenize, word_tokenize \n",
    "from nltk.corpus import stopwords\n",
    "stop_words = stopwords.words('french')"
   ]
  },
  {
   "cell_type": "code",
   "execution_count": 18,
   "metadata": {},
   "outputs": [
    {
     "name": "stdout",
     "output_type": "stream",
     "text": [
      "Number of stop words 157\n",
      "Ex: ['au', 'aux', 'avec', 'ce', 'ces']\n"
     ]
    }
   ],
   "source": [
    "print (\"Number of stop words\",len(stop_words ))\n",
    "print (\"Ex:\",stop_words[:5])"
   ]
  },
  {
   "cell_type": "code",
   "execution_count": 19,
   "metadata": {},
   "outputs": [
    {
     "name": "stderr",
     "output_type": "stream",
     "text": [
      "100%|██████████| 57538/57538 [04:39<00:00, 205.92it/s]\n"
     ]
    }
   ],
   "source": [
    "corpus_cleaned = deepcopy(corpus_list)\n",
    "for document in tqdm(corpus_cleaned):\n",
    "    plain_text = document[\"corpus\"]\n",
    "    plain_text = plain_text.lower()\n",
    "    plain_text= re.sub(r'\\s+', ' ', plain_text)\n",
    "    #plain_text = re.sub(\"[^a-z0-9]\", ' ', plain_text)\n",
    "    plain_text = re.sub(\"[^a-z]\", ' ', plain_text)\n",
    "    plain_text = re.sub(r'\\s+', ' ', plain_text)\n",
    "    #remove one letter words?\n",
    "    #remove numbers?\n",
    "    pt_words = word_tokenize(plain_text)\n",
    "    cleaned_words =list()\n",
    "    for word in pt_words:\n",
    "        if len(word)>1:\n",
    "            if word not in stop_words:\n",
    "                cleaned_words.append(word)\n",
    "    document[\"corpus\"] = cleaned_words\n",
    "# 100%|██████████| 57540/57540 [03:30<00:00, 273.74it/s]"
   ]
  },
  {
   "cell_type": "markdown",
   "metadata": {},
   "source": [
    "# Tokenize en gardant que les Noms (Méthode 2) 20h"
   ]
  },
  {
   "cell_type": "raw",
   "metadata": {},
   "source": [
    "#pip install stanfordnlp"
   ]
  },
  {
   "cell_type": "code",
   "execution_count": null,
   "metadata": {},
   "outputs": [],
   "source": [
    "import stanfordnlp # Lemma doesn't work\n",
    "#stanfordnlp.download('fr')   # This downloads the French models for the neural pipeline\n",
    "#nlp = stanfordnlp.Pipeline(lang=\"fr\",processors = \"tokenize,mwt,lemma,pos\") # This sets up a default neural pipeline in French\n",
    "nlp = stanfordnlp.Pipeline(lang=\"fr\",processors = \"tokenize,pos\")\n",
    "#Documentation:\n",
    "#https://www.analyticsvidhya.com/blog/2019/02/stanfordnlp-nlp-library-python/#"
   ]
  },
  {
   "cell_type": "code",
   "execution_count": null,
   "metadata": {},
   "outputs": [],
   "source": [
    "#Exemple\n",
    "text = 'Les victoires de Joe Biden à la présidentielle américaine à peine proclamée par les principaux médias américains.'\n",
    "doc = nlp(text)  \n",
    "#extract_pos(doc)\n",
    "for sent in doc.sentences:\n",
    "    for word in sent.words:\n",
    "        print(word.text,\":\", word.upos, word.pos)\n",
    "doc.sentences[0].words[0] "
   ]
  },
  {
   "cell_type": "raw",
   "metadata": {},
   "source": [
    "# Building corpus_nouns\n",
    "keep = [\"NOUN\",\"PROPN\"]\n",
    "corpus_nouns = deepcopy(corpus_list)\n",
    "for document in tqdm(corpus_nouns):\n",
    "\n",
    "    #document = corpus_nouns[i]\n",
    "    plain_text = document[\"corpus\"]\n",
    "    doc = nlp(plain_text)\n",
    "    cleaned_words =list()\n",
    "    for sent in doc.sentences:\n",
    "        for word in sent.words:\n",
    "            pos_tag = word.upos\n",
    "            if pos_tag in keep:\n",
    "                cleaned_words.append(word.text.lower())\n",
    "    document[\"corpus\"] = cleaned_words \n",
    "#20hours of computation to get."
   ]
  },
  {
   "cell_type": "code",
   "execution_count": 74,
   "metadata": {},
   "outputs": [
    {
     "data": {
      "text/plain": [
       "57538"
      ]
     },
     "execution_count": 74,
     "metadata": {},
     "output_type": "execute_result"
    }
   ],
   "source": [
    "len(corpus_nouns)"
   ]
  },
  {
   "cell_type": "raw",
   "metadata": {},
   "source": [
    "# save corpus_nouns\n",
    "PATH = \"./data/ArticleCompany_2020-11-17/\"\n",
    "file = \"corpus_nouns\"\n",
    "a_file = open(PATH + file + \".json\", \"w\")\n",
    "json.dump(corpus_nouns, a_file)\n",
    "a_file.close()\n",
    "print (file,\"is saved successfully\")"
   ]
  },
  {
   "cell_type": "code",
   "execution_count": 24,
   "metadata": {},
   "outputs": [],
   "source": [
    "# load corpus_nouns \n",
    "PATH = \"./data/ArticleCompany_2020-11-17/\"\n",
    "file = \"corpus_nouns\"\n",
    "with open(PATH + file +\".json\") as json_file: \n",
    "    corpus_nouns = json.load(json_file) "
   ]
  },
  {
   "cell_type": "code",
   "execution_count": 25,
   "metadata": {},
   "outputs": [
    {
     "name": "stdout",
     "output_type": "stream",
     "text": [
      "The siren list is: <class 'list'> <class 'list'>\n"
     ]
    }
   ],
   "source": [
    "print (\"The siren list is:\",type(corpus_nouns[0][\"siren\"]), type(corpus_nouns[0][\"corpus\"]))"
   ]
  },
  {
   "cell_type": "markdown",
   "metadata": {},
   "source": [
    "# Extraction d'entreprises avec plus de n articles asocciés"
   ]
  },
  {
   "cell_type": "code",
   "execution_count": 20,
   "metadata": {},
   "outputs": [
    {
     "name": "stdout",
     "output_type": "stream",
     "text": [
      "['419838529', '813883964', '572060333', '542104245', '399258755']\n",
      "SPIE OPERATIONS\n",
      "322120916 APPLE FRANCE\n",
      "APPLE FRANCE a 7 articles dans le corpus\n"
     ]
    }
   ],
   "source": [
    "print(list(dict_names.keys())[0:5])\n",
    "print (dict_names['399258755'])\n",
    "name_search = \"APPLE FRANCE\"\n",
    "for siren, name in dict_names.items():  # for name, age in dictionary.iteritems():  (for Python 2.x)\n",
    "    if name_search in name:\n",
    "        print(siren, name)\n",
    "print(\"APPLE FRANCE a\",dict_count[\"322120916\"],\"articles dans le corpus\")"
   ]
  },
  {
   "cell_type": "code",
   "execution_count": 21,
   "metadata": {},
   "outputs": [
    {
     "name": "stdout",
     "output_type": "stream",
     "text": [
      "There are 2084 companies with MORE than 5 associated articles out of the 30178 initial companies\n"
     ]
    }
   ],
   "source": [
    "number = 5 # Number of articles a company must have to be kept in the list\n",
    "siren_filtered =[key for key in dict_count if dict_count[key] > number]\n",
    "print (\"There are\",len(siren_filtered),\"companies with MORE than\",number,\"associated articles out of the\",len(dict_names.keys()),\"initial companies\")"
   ]
  },
  {
   "cell_type": "markdown",
   "metadata": {},
   "source": [
    "# Creation de Train et Test set pour l'entrainement de Tf.Idf"
   ]
  },
  {
   "cell_type": "code",
   "execution_count": 73,
   "metadata": {},
   "outputs": [],
   "source": [
    "from sklearn.model_selection import train_test_split\n",
    "import random"
   ]
  },
  {
   "cell_type": "code",
   "execution_count": 87,
   "metadata": {},
   "outputs": [
    {
     "name": "stdout",
     "output_type": "stream",
     "text": [
      "Removing unwanted articles\n",
      "We removed: 29189 articles and we have 28349 left\n",
      "Splitting data\n",
      "We have 19844 documents in the training corpus\n",
      "We have 8505 documents in the testing corpus\n"
     ]
    }
   ],
   "source": [
    "# Remove all of the articles that dont talk about our selected companies (in siren filtered)\n",
    "# Split corpus train/test\n",
    "#corpus = corpus_cleaned\n",
    "corpus = corpus_nouns\n",
    "test_size = 0.3\n",
    "X_train_corpus = list()\n",
    "X_test_corpus = list()\n",
    "\n",
    "#Removing unwanted articles\n",
    "print(\"Removing unwanted articles\")\n",
    "corpus_temp = list()\n",
    "for document in corpus:\n",
    "    keep = False\n",
    "    for document_sirens in document[\"siren\"]:\n",
    "        for sirens in siren_filtered:\n",
    "            if document_sirens == sirens:\n",
    "                keep = True\n",
    "    if keep:\n",
    "        corpus_temp.append(document)\n",
    "print (\"We removed:\",len(corpus)-len(corpus_temp),\"articles and we have\",len(corpus_temp),\"left\")\n",
    "corpus = corpus_temp\n",
    " \n",
    "#Splitting data\n",
    "print(\"Splitting data\") \n",
    "#for document in corpus:\n",
    "#    if (random.uniform(0, 1)<test_size):\n",
    "#        X_test_corpus.append(document)\n",
    "#    else:\n",
    "#        X_train_corpus.append(document)\n",
    "X_train_corpus, X_test_corpus = train_test_split(corpus, test_size=test_size, random_state=0)\n",
    "\n",
    "print (\"We have\",len(X_train_corpus),\"documents in the training corpus\")\n",
    "print (\"We have\",len(X_test_corpus),\"documents in the testing corpus\")"
   ]
  },
  {
   "cell_type": "markdown",
   "metadata": {},
   "source": [
    "# Tf.Idf pour une liste d'entreprise sur le training data (1h20)"
   ]
  },
  {
   "cell_type": "code",
   "execution_count": 88,
   "metadata": {},
   "outputs": [],
   "source": [
    "# imports\n",
    "from sklearn.feature_extraction.text import TfidfVectorizer "
   ]
  },
  {
   "cell_type": "code",
   "execution_count": 89,
   "metadata": {},
   "outputs": [
    {
     "name": "stderr",
     "output_type": "stream",
     "text": [
      "100%|██████████| 2084/2084 [1:55:05<00:00,  3.31s/it]   \n"
     ]
    }
   ],
   "source": [
    "# Tf.Idf on Companies that have Associated Articles \n",
    "\n",
    "relevant_words_tfidf = {}\n",
    "corpus = X_train_corpus # corpus\n",
    "\n",
    "list_siren = siren_filtered\n",
    "\n",
    "def identity_tokenizer(text):\n",
    "    return text\n",
    "for siren in tqdm(list_siren):\n",
    "    #siren = \"322120916\" #APPLE FRANCE\n",
    "    plain_text_list = list()\n",
    "    company_article = list()\n",
    "    #binary = True\n",
    "    #sublinear_tf=False\n",
    "    tfidf_vectorizer = TfidfVectorizer(tokenizer=identity_tokenizer, ngram_range = (1,1), lowercase=False, sublinear_tf=True)\n",
    "    #tfidf_vectorizer = TfidfVectorizer(tokenizer=identity_tokenizer, ngram_range = (1,1), lowercase=False, sublinear_tf=False)\n",
    "    for document in corpus:\n",
    "        if siren in document[\"siren\"]:\n",
    "            company_article = company_article+document[\"corpus\"]  # add article to company BIG article\n",
    "        else:\n",
    "            plain_text_list.append(document[\"corpus\"]) # otherwise add to corpus\n",
    "\n",
    "    plain_text_list.insert(0,company_article) # add company article to begging of corpus\n",
    "    tfidf_vectorizer_vectors=tfidf_vectorizer.fit_transform(plain_text_list)\n",
    "\n",
    "    #Get the tf-idf scores for the words in the company article complication.\n",
    "    first_vector_tfidfvectorizer=tfidf_vectorizer_vectors[0] # discard tf.idf scores for the other texts\n",
    "\n",
    "    # place tf-idf values in a pandas data frame \n",
    "    df = pd.DataFrame(first_vector_tfidfvectorizer.T.todense(), index=tfidf_vectorizer.get_feature_names(), columns=[\"tfidf\"]) \n",
    "    df = df.sort_values(by=[\"tfidf\"],ascending=False).head(40) # Take top 40 words\n",
    "\n",
    "    relevant_words_tfidf[siren] = list(zip(list(df.index),list(df[\"tfidf\"])))\n",
    "    #print (relevant_words_tfidf[company])\n",
    "\n",
    "\n",
    "#100%|██████████| 2084/2084 [2:28:45<00:00,  4.28s/it] # tokenized tf\n",
    "#100%|██████████| 2084/2084 [2:03:31<00:00,  3.56s/it] # tokenized binary\n",
    "#100%|██████████| 2084/2084 [3:06:54<00:00,  5.38s/it]   # tokenized sublinear_tf\n",
    "#100%|██████████| 2084/2084 [1:21:23<00:00,  2.34s/it] # nouns sublinear_tf\n"
   ]
  },
  {
   "cell_type": "code",
   "execution_count": null,
   "metadata": {},
   "outputs": [],
   "source": [
    "relevant_words_tfidf"
   ]
  },
  {
   "cell_type": "code",
   "execution_count": 72,
   "metadata": {},
   "outputs": [
    {
     "name": "stdout",
     "output_type": "stream",
     "text": [
      "relevant_words_tfidf_tokenize is saved successfully\n"
     ]
    }
   ],
   "source": [
    "# save dictionary\n",
    "PATH = \"./relevant_words/francais/\"\n",
    "file = \"relevant_words_tfidf_nouns_sublinear_tf\"\n",
    "a_file = open(PATH + file + \".json\", \"w\")\n",
    "json.dump(relevant_words_tfidf, a_file)\n",
    "a_file.close()\n",
    "print (file,\"is saved successfully\")"
   ]
  },
  {
   "cell_type": "code",
   "execution_count": 97,
   "metadata": {},
   "outputs": [
    {
     "name": "stdout",
     "output_type": "stream",
     "text": [
      "relevant_words_tfidf_tokenize_sublinear_tf is loaded successfully\n"
     ]
    }
   ],
   "source": [
    "# load dictionary \n",
    "PATH = \"./relevant_words/francais/\"\n",
    "file = \"relevant_words_tfidf_tokenize_sublinear_tf\"\n",
    "a_file = open(PATH + file + \".json\", \"r\")\n",
    "relevant_words_tfidf = json.load(a_file)\n",
    "#relevant_words_tfidf = dict(relevant_words_tfidf)\n",
    "# check if well loaded\n",
    "print (file,\"is loaded successfully\") "
   ]
  },
  {
   "cell_type": "code",
   "execution_count": 234,
   "metadata": {},
   "outputs": [
    {
     "data": {
      "text/plain": [
       "[['ipsen', 0.13919225922627243],\n",
       " ['meek', 0.11910951051014622],\n",
       " ['onivyde', 0.10173082172319803],\n",
       " ['lebeaut', 0.09891742419373598],\n",
       " ['merrimack', 0.0896765377510199],\n",
       " ['probi', 0.0896765377510199],\n",
       " ['medecine', 0.08433141519724636],\n",
       " ['somatuline', 0.08382002820896443],\n",
       " ['oncologie', 0.07668327571700699],\n",
       " ['hennion', 0.07629149171357667]]"
      ]
     },
     "execution_count": 234,
     "metadata": {},
     "output_type": "execute_result"
    }
   ],
   "source": [
    "relevant_words_tfidf[list(relevant_words_tfidf.keys())[0]][:10]"
   ]
  },
  {
   "cell_type": "code",
   "execution_count": 18,
   "metadata": {},
   "outputs": [],
   "source": [
    "#relevant_words_tfidf.keys()\n",
    "#relevant_words_tfidf['419838529']\n",
    "#type(relevant_words_tfidf)\n",
    "#len(relevant_words_tfidf.keys())"
   ]
  },
  {
   "cell_type": "markdown",
   "metadata": {},
   "source": [
    "# Fetching Relevant Words from ES"
   ]
  },
  {
   "cell_type": "code",
   "execution_count": 28,
   "metadata": {},
   "outputs": [
    {
     "name": "stdout",
     "output_type": "stream",
     "text": [
      "relevant_words_2 is loaded successfully\n"
     ]
    }
   ],
   "source": [
    "# load dictionary \n",
    "PATH = \"./relevant_words/francais/\"\n",
    "#file = \"relevant_words_train\"\n",
    "file = \"relevant_words_2\"\n",
    "a_file = open(PATH + file + \".json\", \"r\")\n",
    "relevant_words_es = json.load(a_file)\n",
    "\n",
    "# check if well loaded\n",
    "print (file,\"is loaded successfully\") "
   ]
  },
  {
   "cell_type": "code",
   "execution_count": 29,
   "metadata": {},
   "outputs": [
    {
     "name": "stdout",
     "output_type": "stream",
     "text": [
      "There are 0 companies in the ES RWords out of the 2084 words in the article labels\n"
     ]
    }
   ],
   "source": [
    "# Collect only the relevant words for the sirens that we want to consider\n",
    "count = 0\n",
    "for siren in siren_filtered:\n",
    "    if siren in relevant_words_es.keys():\n",
    "        count +=1\n",
    "print (\"There are\", count, \"companies in the ES RWords out of the\",len(siren_filtered), \"words in the article labels\")"
   ]
  },
  {
   "cell_type": "code",
   "execution_count": 30,
   "metadata": {},
   "outputs": [
    {
     "name": "stdout",
     "output_type": "stream",
     "text": [
      "There are 0 non empty companies in ES RWords out of the 2084 words in the article labels\n"
     ]
    }
   ],
   "source": [
    "# Removing all the empty significant words and keeping only siren_filtered\n",
    "relevant_words_es_clean = dict()\n",
    "for siren in siren_filtered:\n",
    "    if siren in relevant_words_es.keys():\n",
    "        if len(relevant_words_es[siren])>0:\n",
    "            relevant_words_es_clean[siren] = relevant_words_es[siren]\n",
    "len(relevant_words_es_clean.keys())\n",
    "print (\"There are\", len(relevant_words_es_clean.keys()), \"non empty companies in ES RWords out of the\",len(siren_filtered), \"words in the article labels\")"
   ]
  },
  {
   "cell_type": "markdown",
   "metadata": {},
   "source": [
    "# Building baseline model "
   ]
  },
  {
   "cell_type": "code",
   "execution_count": 31,
   "metadata": {},
   "outputs": [],
   "source": [
    "#Labeling article if it has the company name in it\n",
    "relevant_words_baseline = dict()\n",
    "for key in dict_names.keys():\n",
    "    #print (key)\n",
    "    #print([dict_names[key].lower()])\n",
    "    relevant_words_baseline[key] = [[dict_names[key].lower(),1]]\n",
    "#relevant_words_baseline"
   ]
  },
  {
   "cell_type": "markdown",
   "metadata": {},
   "source": [
    "# Text Classifier"
   ]
  },
  {
   "cell_type": "code",
   "execution_count": 32,
   "metadata": {},
   "outputs": [],
   "source": [
    "# imports\n",
    "import operator\n",
    "import string \n",
    "import nltk\n",
    "import re\n",
    "from nltk.tokenize import sent_tokenize, word_tokenize \n",
    "from nltk.corpus import stopwords\n",
    "stop_words = stopwords.words('french')"
   ]
  },
  {
   "cell_type": "code",
   "execution_count": 310,
   "metadata": {},
   "outputs": [],
   "source": [
    "#################################################################\n",
    "# CLEANING PLAIN TEXT\n",
    "#Input  : Plain text - String\n",
    "#Output : Text removing all punctuation and lowercased\n",
    "#################################################################\n",
    "def clean_plain_text(text):\n",
    "    text = text.lower() # lower\n",
    "    text = text.translate(str.maketrans(\"\",\"\", string.punctuation)) # removing punctuation\n",
    "    text = re.sub(r'»|«|–|…', '', text)  # suprime guillmets \n",
    "    text = re.sub(r'è|é|ê|ë|ē|ė|ę', 'e', text)  # suprime accents sur le e\n",
    "    text = re.sub(r'à|á|â|ä|æ|ã|å|ā', 'a', text)  # suprime accents sur le a\n",
    "    text = re.sub(r'\\s+', ' ', text) # remove everything else\n",
    "    text = word_tokenize(text)\n",
    "    cleaned_text = list()\n",
    "    for word in text:\n",
    "        if len(word)>1:\n",
    "            if word not in stop_words:\n",
    "                cleaned_text.append(word)\n",
    "    text = cleaned_text\n",
    "    return text"
   ]
  },
  {
   "cell_type": "code",
   "execution_count": 386,
   "metadata": {},
   "outputs": [
    {
     "name": "stdout",
     "output_type": "stream",
     "text": [
      "\n",
      "Créé en 2008 par deux anciens salariés d’une agence de publicité, Konbini est un site d’infotainement (infodivertissement),\n",
      "mêlant informations et divertissement. Accessibles gratuitement, ces contenus sont financés par de la publicité apparente\n",
      "(les fameuses bannières cliquables et parfaitement identifiables) et de la publicité plus discrète, appelée \n",
      "publi-rédactionnel et « native advertising ». En raison des systèmes de blocage de publicité, comme Adblocks, \n",
      "les sites ont de plus en plus recours à ces publicités discrètes. \n",
      "\n",
      "\n",
      "['cree', '2008', 'deux', 'anciens', 'salaries', 'agence', 'publicite', 'konbini', 'site', 'infotainement', 'infodivertissement', 'melant', 'informations', 'divertissement', 'accessibles', 'gratuitement', 'contenus', 'finances', 'publicite', 'apparente', 'fameuses', 'bannieres', 'cliquables', 'parfaitement', 'identifiables', 'publicite', 'plus', 'discrete', 'appelee', 'publiredactionnel', 'native', 'advertising', 'raison', 'systemes', 'blocage', 'publicite', 'comme', 'adblocks', 'sites', 'plus', 'plus', 'recours', 'publicites', 'discretes']\n"
     ]
    }
   ],
   "source": [
    "#EXAMPLE of clean_plain_text\n",
    "plain_text = \"\"\"\n",
    "Créé en 2008 par deux anciens salariés d’une agence de publicité, Konbini est un site d’infotainement (infodivertissement),\n",
    "mêlant informations et divertissement. Accessibles gratuitement, ces contenus sont financés par de la publicité apparente\n",
    "(les fameuses bannières cliquables et parfaitement identifiables) et de la publicité plus discrète, appelée \n",
    "publi-rédactionnel et « native advertising ». En raison des systèmes de blocage de publicité, comme Adblocks, \n",
    "les sites ont de plus en plus recours à ces publicités discrètes. \n",
    "\"\"\"\n",
    "#plain_text = \". ? ! , ; : … ( ) [ ] « » – / {} ...\"\n",
    "\n",
    "#index = 3\n",
    "#plain_text = corpus_list[index][\"corpus\"]\n",
    "#print (dict_names[corpus_list[index][\"siren\"][0]])\n",
    "print(plain_text)\n",
    "plain_text = clean_plain_text(plain_text)\n",
    "print()\n",
    "print(plain_text)\n"
   ]
  },
  {
   "cell_type": "markdown",
   "metadata": {},
   "source": [
    "# Function to compute a \"Related Scores\" for a company"
   ]
  },
  {
   "cell_type": "code",
   "execution_count": 396,
   "metadata": {},
   "outputs": [],
   "source": [
    "#################################################################\n",
    "# Gives a companies \"related score\" wrt an article (using it's significant words)\n",
    "#INPUT :plain_text- String/ word_list - list of significant words\n",
    "#OUTPUT: Score the chances the company is related to the article\n",
    "#################################################################\n",
    "def company_relevance_score(plain_text, related_words): \n",
    "    epsilon = 0.0001\n",
    "    sig_words = np.array(related_words)[:,0]\n",
    "    related_words_score = np.array(related_words)[:,1]\n",
    "    sum_exp = np.sum([np.exp(float(score)) for score in related_words_score]) # element for computing the soft max\n",
    "    n_words = len(plain_text)\n",
    "    \n",
    "    words_in_text = 0\n",
    "    for i in range(len(related_words)):\n",
    "        word_soft_max = np.exp(float(related_words_score[i]))/sum_exp\n",
    "        words_in_text += word_soft_max*plain_text.count(sig_words[i])\n",
    "    #print (n_words)\n",
    "    return words_in_text/n_words+epsilon"
   ]
  },
  {
   "cell_type": "code",
   "execution_count": 399,
   "metadata": {},
   "outputs": [
    {
     "name": "stdout",
     "output_type": "stream",
     "text": [
      "plain_text ['cree', '2008', 'deux', 'anciens', 'salaries', 'agence', 'publicite', 'konbini', 'site', 'infotainement', 'infodivertissement', 'melant', 'informations', 'divertissement', 'accessibles', 'gratuitement', 'contenus', 'finances', 'publicite', 'apparente', 'fameuses', 'bannieres', 'cliquables', 'parfaitement', 'identifiables', 'publicite', 'plus', 'discrete', 'appelee', 'publiredactionnel', 'native', 'advertising', 'raison', 'systemes', 'blocage', 'publicite', 'comme', 'adblocks', 'sites', 'plus', 'plus', 'recours', 'publicites', 'discretes']\n",
      "KONBINI\n",
      "n_significant_words: 1\n",
      "[['konbini' '0.1586134258507446']]\n",
      "related score          0.022827272727272727\n",
      "smoothed related score 0.8508980006777364\n"
     ]
    }
   ],
   "source": [
    "# EXAMPLE OF : company_relevance_score\n",
    "plain_text = \"\"\"\n",
    "Créé en 2008 par deux anciens salariés d’une agence de publicité, Konbini est un site d’infotainement (infodivertissement),\n",
    "mêlant informations et divertissement. Accessibles gratuitement, ces contenus sont financés par de la publicité apparente\n",
    "(les fameuses bannières cliquables et parfaitement identifiables) et de la publicité plus discrète, appelée \n",
    "publi-rédactionnel et « native advertising ». En raison des systèmes de blocage de publicité, comme Adblocks, \n",
    "les sites ont de plus en plus recours à ces publicités discrètes. \n",
    "\"\"\"\n",
    "plain_text = clean_plain_text(plain_text)\n",
    "print (\"plain_text\",plain_text)\n",
    "n_significant_words = 1\n",
    "related_words = np.array(relevant_words_tfidf['502220056'])[:n_significant_words] # filter significant words\n",
    "print (dict_names['502220056'])\n",
    "print(\"n_significant_words:\",n_significant_words)\n",
    "print (related_words)\n",
    "score = company_relevance_score(plain_text, related_words) \n",
    "print (\"related score         \",score)\n",
    "t = 250 # Must be fine tune manualy to get the best results in our case a related score of 0,02 is GOOD \n",
    "score = 1 - 1/(1 + t*score) \n",
    "print (\"smoothed related score\",score)\n",
    "# changer le score"
   ]
  },
  {
   "cell_type": "markdown",
   "metadata": {},
   "source": [
    "# Function to compute and compare \"Related Scores\" for each company"
   ]
  },
  {
   "cell_type": "code",
   "execution_count": 400,
   "metadata": {},
   "outputs": [],
   "source": [
    "#################################################################\n",
    "# For an Article, gives the \"related scores\"(likeness of being a label) for all companies\n",
    "#INPUT :plain_text- String/company related words - dict/ params\n",
    "#OUTPUT: dict of companies and their \"related scores\"\n",
    "#################################################################\n",
    "def text_label_scores(plain_text,related_words,n_sig_words=10, min_score = 0.5):\n",
    "    t = 250 # score smoothing facter: 0+: monte doucement vers 1, +inf: monte rapidement vers 1\n",
    "    label_dict = {}\n",
    "    #print (sig_words_list)\n",
    "    for siren in related_words.keys():\n",
    "        #print(related_words[siren])\n",
    "        sig_words_list = np.array(related_words[siren])[:n_sig_words] # Build significant word list (with no scores)\n",
    "        #print (\"sig_words_list\")\n",
    "        score = company_relevance_score(plain_text, sig_words_list)\n",
    "        score = 1 - 1/(1 + t*score) # smooth relevant scores\n",
    "        #print (score)\n",
    "        if score>=min_score:\n",
    "            label_dict[siren]= score\n",
    "    \n",
    "    \n",
    "    # ORDERING OF SELECTED COMPANIES BY SCORE\n",
    "    ### Soft_max ###\n",
    "    #sum_exp = sum([np.exp(v) for v in label_dict.values()])\n",
    "    #label_dict = {k: np.exp(v)/sum_exp for k, v in sorted(label_dict.items(), key=lambda item: -item[1])}\n",
    "    ### normalizing score ###\n",
    "    #max_val = max(label_dict.values())\n",
    "    #label_dict = {k: v/max_val for k, v in sorted(label_dict.items(), key=lambda item: -item[1])}\n",
    "    ### Plain score ###\n",
    "    label_dict = {k: v for k, v in sorted(label_dict.items(), key=lambda item: -item[1])}\n",
    "    return label_dict"
   ]
  },
  {
   "cell_type": "markdown",
   "metadata": {},
   "source": [
    "### Testing text_label_scores"
   ]
  },
  {
   "cell_type": "code",
   "execution_count": 408,
   "metadata": {},
   "outputs": [
    {
     "name": "stdout",
     "output_type": "stream",
     "text": [
      "plain_text ['cree', '2008', 'deux', 'anciens', 'salaries', 'agence', 'publicite', 'konbini', 'site', 'infotainement', 'infodivertissement', 'melant', 'informations', 'divertissement', 'accessibles', 'gratuitement', 'contenus', 'finances', 'publicite', 'apparente', 'fameuses', 'bannieres', 'cliquables', 'parfaitement', 'identifiables', 'publicite', 'plus', 'discrete', 'appelee', 'publiredactionnel', 'native', 'advertising', 'raison', 'systemes', 'blocage', 'publicite', 'comme', 'adblocks', 'sites', 'plus', 'plus', 'recours', 'publicites', 'discretes']\n",
      "params:\n",
      "n_sig_words: 3\n",
      "min_score  : 0.5\n",
      "companies kept {'502220056': 0.6638283156326465, '810875039': 0.6551541848806313, '537450140': 0.6531576847241614}\n",
      "The predicted companies are:\n",
      "502220056 KONBINI\n",
      "810875039 NEXTSTAGE\n",
      "537450140 INVIBES ADVERTISING\n"
     ]
    }
   ],
   "source": [
    "#EXAMPLE of : text_label_scores\n",
    "plain_text = \"\"\"\n",
    "La victoire de Joe Biden à la présidentielle américaine à peine proclamée par les principaux \n",
    "médias américains, les messages de félicitations des dirigeants occidentaux affluent. Sur Twitter,\n",
    "une courte séquence vidéo fait le buzz entre Londres et Dublin. Ce 7 novembre, on y voit le \n",
    "candidat démocrate entouré de journalistes.\n",
    "\"\"\"\n",
    "plain_text2 = \"\"\"\n",
    "Créé en 2008 par deux anciens salariés d’une agence de publicité, Konbini est un site d’infotainement (infodivertissement),\n",
    "mêlant informations et divertissement. Accessibles gratuitement, ces contenus sont financés par de la publicité apparente\n",
    "(les fameuses bannières cliquables et parfaitement identifiables) et de la publicité plus discrète, appelée \n",
    "publi-rédactionnel et « native advertising ». En raison des systèmes de blocage de publicité, comme Adblocks, \n",
    "les sites ont de plus en plus recours à ces publicités discrètes. \n",
    "\"\"\"\n",
    "plain_text3 = \"Bourse en ligne : Information boursiere, Economie, Finance, Bourse de paris - Cerclefinance\"\n",
    "\n",
    "plain_text = clean_plain_text(plain_text2)\n",
    "print(\"plain_text\",plain_text)\n",
    "related_words = relevant_words_tfidf\n",
    "n_sig_words= 3\n",
    "min_score = 0.5 # nbr of sig words in text\n",
    "print (\"params:\")\n",
    "print (\"n_sig_words:\",n_sig_words)\n",
    "print (\"min_score  :\",min_score)\n",
    "#print (plain_text)\n",
    "label_dict = text_label_scores(plain_text,related_words, n_sig_words, min_score)\n",
    "print(\"companies kept\",label_dict)\n",
    "\n",
    "for key in label_dict.keys(): # Should not trigger\n",
    "    if len(key)>10:\n",
    "        print (key, \"error!\")\n",
    "#find out why label_dict\n",
    "print (\"The predicted companies are:\")\n",
    "for key in label_dict.keys():\n",
    "    print(key, dict_names[key])"
   ]
  },
  {
   "cell_type": "code",
   "execution_count": 365,
   "metadata": {},
   "outputs": [],
   "source": [
    "#relevant_words_tfidf['537450140']"
   ]
  },
  {
   "cell_type": "markdown",
   "metadata": {},
   "source": [
    "# Function predict text labels of plain text"
   ]
  },
  {
   "cell_type": "code",
   "execution_count": 402,
   "metadata": {},
   "outputs": [],
   "source": [
    "#################################################################\n",
    "# For an Article, predicts the labels (sirens)\n",
    "#INPUT : plain_text- String/company related words - dict/ params\n",
    "#OUTPUT: dict of companies and their \"related scores\"\n",
    "#################################################################\n",
    "def label_text(plain_text,related_words, n_sig_words= 10, min_score = 0.1):\n",
    "    label_dict = text_label_scores(plain_text,related_words, n_sig_words, min_score)\n",
    "    #print(\"best score\",label_dict[list(label_dict.keys())[0]])\n",
    "    sirens = list(label_dict.keys())\n",
    "    return sirens[:10] # limiting the number of predictions to 8"
   ]
  },
  {
   "cell_type": "markdown",
   "metadata": {},
   "source": [
    "# Testing accuracy of the model"
   ]
  },
  {
   "cell_type": "code",
   "execution_count": 503,
   "metadata": {},
   "outputs": [
    {
     "name": "stderr",
     "output_type": "stream",
     "text": [
      "100%|██████████| 1000/1000 [06:46<00:00,  2.46it/s]\n"
     ]
    }
   ],
   "source": [
    "related_words = relevant_words_tfidf #model related words\n",
    "#related_words = relevant_words_es_clean #relevant_words_es\n",
    "#related_words = relevant_words_baseline\n",
    "\n",
    "#corpus = X_train_corpus[:1000] # pour verifier que on peut sur entrainer\n",
    "corpus = X_test_corpus[:1000] # pour tester sur de nouveaux articles\n",
    "min_score = 0.95\n",
    "n_sig_words = 1\n",
    "\n",
    "pred_eval = list() # Tag each prediction 1:correct, 0:wrong for each article\n",
    "pred_labels = list() # Siren predicted for each article\n",
    "article_eval = list() # Tag each label if 1:predicted, 0:not predicted for each article\n",
    "article_labels = list() # Siren labels for each article\n",
    "pred_labels_flat = list() #list all predicted sirens flattened\n",
    "article_labels_flat = list() # list of all siren labels flattened\n",
    "\n",
    "for document in tqdm(corpus):\n",
    "    plain_text = document[\"corpus\"]\n",
    "    \n",
    "    #pred_labels\n",
    "    pred_sirens = label_text(plain_text,related_words, n_sig_words, min_score)\n",
    "    pred_labels.append(pred_sirens)\n",
    "    #pred_labels_flat\n",
    "    pred_labels_flat += pred_sirens\n",
    "    \n",
    "    #article_labels\n",
    "    true_sirens =document[\"siren\"]\n",
    "    article_labels.append(true_sirens)\n",
    "    #article_labels_flat\n",
    "    article_labels_flat +=true_sirens\n",
    "    \n",
    "    #pred_eval \n",
    "    is_labeled = [0]*len(pred_sirens)\n",
    "    for i in range(len(pred_sirens)):  # For each predicted company\n",
    "        for label in true_sirens: # For each labeled company\n",
    "            if pred_sirens[i]==label:  # Tag if it is a good or bad predictions\n",
    "                is_labeled[i]=1\n",
    "    pred_eval.append(is_labeled) \n",
    "    \n",
    "    #article_eval\n",
    "    is_predicted = [0]*len(true_sirens)\n",
    "    for i in range(len(true_sirens)):  # For each label list\n",
    "        for pred in pred_sirens:       # For each prediction on the articel\n",
    "            if true_sirens[i]==pred:    # Tag the labels that have been predicted\n",
    "                is_predicted[i]=1\n",
    "    article_eval.append(is_predicted) \n",
    "#100%|██████████| 300/300 [02:23<00:00,  2.08it/s] # avec split train test\n",
    "#100%|██████████| 300/300 [01:37<00:00,  3.08it/s] # avec random split"
   ]
  },
  {
   "cell_type": "code",
   "execution_count": 504,
   "metadata": {},
   "outputs": [
    {
     "name": "stdout",
     "output_type": "stream",
     "text": [
      "There are 106 distinct labels predicted out of the 2084 total filtered labels\n",
      "There are 986 distinct labels TO predicted out of the 2084 total filtered labels\n"
     ]
    }
   ],
   "source": [
    "print (\"There are\",len(set(pred_labels_flat)),\"distinct labels predicted out of the\",len(siren_filtered),\"total filtered labels\")\n",
    "print (\"There are\",len(set(article_labels_flat)),\"distinct labels TO predicted out of the\",len(siren_filtered),\"total filtered labels\")\n",
    "#set(article_labels_flat)"
   ]
  },
  {
   "cell_type": "markdown",
   "metadata": {},
   "source": [
    "# EVALUATING MODEL"
   ]
  },
  {
   "cell_type": "code",
   "execution_count": 505,
   "metadata": {},
   "outputs": [],
   "source": [
    "import matplotlib.pyplot as plt"
   ]
  },
  {
   "cell_type": "code",
   "execution_count": 506,
   "metadata": {},
   "outputs": [
    {
     "name": "stdout",
     "output_type": "stream",
     "text": [
      "There are 1000 texts evaluated\n",
      "Score 1: 0.086 (with at least ONE label predicted)\n",
      "Score 2: 0.073 (with ALL labels predicted)\n",
      "Score 3: 0.068 (with ALL labels predicted in the FIRST predictions)\n",
      "Score 4: 0.664 (Number of correct predictions over total number of predictions overall)\n",
      "Average number of predictions 0.131 vs average number of labels : 1.33\n",
      "The siren that is predicted the most is: 542107651 ( 11 times)\n",
      "######################### For Each company #########################\n",
      "AVG ACCURACY : 0.063 True_pos/Pos -> average for each siren\n",
      "AVG PRECISION: 0.083 True_pos/(True_Pos + False_Pos) -> average for each siren\n",
      "AVG RECALL   : 0.063 True_pos/(True_Pos + False_Neg) -> average for each siren\n",
      "AVG F1 score : 0.068 combination of precision and recall -> average for each siren\n",
      "AVG ACCURACY : 0.063\n",
      "AVG PRECISION: 0.083\n",
      "AVG RECALL   : 0.063\n",
      "AVG F1 score : 0.068\n",
      "\n",
      "######################### For Each article #########################\n",
      "AVG PRECISION: 0.08 #correct_predictions/#predictions-> average for each article\n",
      "AVG RECALL   : 0.079 #predicted_labels/#labels -> average for each article\n",
      "AVG alpha eval: 0.753 prediction score of an article -> average for each article\n",
      "AVG PRECISION: 0.08\n",
      "AVG RECALL   : 0.079\n",
      "AVG alpha eval: 0.753\n",
      "AVG pred: 0.131\n"
     ]
    },
    {
     "data": {
      "text/plain": [
       "Text(0.5, 1.0, 'recall hist (on each article)')"
      ]
     },
     "execution_count": 506,
     "metadata": {},
     "output_type": "execute_result"
    },
    {
     "data": {
      "image/png": "[encoded data removed]",
      "text/plain": [
       "<Figure size 1080x720 with 4 Axes>"
      ]
     },
     "metadata": {
      "needs_background": "light"
     },
     "output_type": "display_data"
    },
    {
     "data": {
      "image/png": "[encoded data removed]",
      "text/plain": [
       "<Figure size 1080x720 with 3 Axes>"
      ]
     },
     "metadata": {
      "needs_background": "light"
     },
     "output_type": "display_data"
    }
   ],
   "source": [
    "print (\"There are\",len(pred_eval),\"texts evaluated\")\n",
    "########## How many times (at least) one of the companies are predicted ##########\n",
    "acc1 = list()\n",
    "for preds in pred_eval:\n",
    "    acc1.append(any(preds))\n",
    "print(\"Score 1:\", round(np.sum(acc1)/len(pred_eval),3),\"(with at least ONE label predicted)\")\n",
    "\n",
    "########## How many times ALL the labels are present in the prediction. ##########\n",
    "acc2 = list()\n",
    "for labels in article_eval:\n",
    "    acc2.append(labels.count(1)== len (labels)) \n",
    "print(\"Score 2:\", round(np.sum(acc2)/len(pred_eval),3),\"(with ALL labels predicted)\")\n",
    "\n",
    "########## How many times ALL labels are predicted in the FIRST predictions. ##########\n",
    "acc3 = list()\n",
    "for i in range(len(pred_eval)):\n",
    "    labels = article_eval[i]\n",
    "    preds = pred_eval[i]\n",
    "    acc3.append(preds[:len(labels)].count(1)== len(labels))\n",
    "print(\"Score 3:\", round(np.sum(acc3)/len(pred_eval),3),\"(with ALL labels predicted in the FIRST predictions)\")\n",
    "\n",
    "########## How many predictions are wrong wrt. how many are right (TRUE, FALSE) ##########\n",
    "true_pred = 0\n",
    "pred = 0\n",
    "for preds in pred_eval:\n",
    "    true_pred += np.sum(preds)\n",
    "    pred += len(preds)\n",
    "print(\"Score 4:\",round(true_pred/pred,3),\"(Number of correct predictions over total number of predictions overall)\")\n",
    "\n",
    "########## Average number of predictions vs average number of labels ##########\n",
    "len_label = list()\n",
    "len_pred = list()\n",
    "for i in range(len(pred_eval)):\n",
    "    len_label.append(len(corpus[i][\"siren\"]))\n",
    "    len_pred.append(len(pred_eval[i]))\n",
    "print(\"Average number of predictions\",round(np.mean(len_pred),3),\"vs average number of labels :\", round(np.mean(len_label),2))\n",
    "\n",
    "########## Most commun labels predicted ##########\n",
    "count_pred = dict()\n",
    "for siren in article_labels_flat:\n",
    "    if siren in count_pred.keys():\n",
    "        count_pred[siren] +=1\n",
    "    else:\n",
    "        count_pred[siren] = 1\n",
    "key_max = list(filter(lambda t: t[1]==max(count_pred.values()), count_pred.items()))[0][0] \n",
    "print(\"The siren that is predicted the most is:\",key_max,\"(\",np.max(list(count_pred.values())),\"times)\")\n",
    "\n",
    "########## Precision & RECALL ########## per siren(Company)\n",
    "company_accuracy_list = list()\n",
    "company_precision_list = list()\n",
    "company_recall_list = list()\n",
    "company_F1score_list = list()\n",
    "#article_labels_set = siren_filtered  \n",
    "article_labels_set = set(article_labels_flat) \n",
    "\n",
    "for siren in article_labels_set: # For each company compute it's TP,FP,TN,FN\n",
    "    true_pos = 0.0  # Siren IS a label and is predicted\n",
    "    false_pos = 0.0 # Siren is NOT a label and is predicted (false prediction)\n",
    "    true_neg = 0.0  # Siren is NOT a label and is not predicted (don't care)\n",
    "    false_neg = 0.0 # Siren IS a label and is NOT predicted\n",
    "    positive = 0.0  # Siren is label\n",
    "    \n",
    "    # true_pos, false_neg\n",
    "    for i in range(len(article_labels)):\n",
    "        for j in range(len(article_labels[i])):\n",
    "            if siren==article_labels[i][j]: # If company in the list of labels -> Check if was predicted\n",
    "                positive +=1\n",
    "                if article_eval[i][j]==1:\n",
    "                    true_pos +=1\n",
    "                else:\n",
    "                    false_neg +=1\n",
    "\n",
    "    # false_pos\n",
    "    for i in range(len(pred_labels)):\n",
    "        for j in range(len(pred_labels[i])):\n",
    "            if siren==pred_labels[i][j]:  # If company in the list of predictions -> Check if was a label (correct prediction)\n",
    "                if pred_eval[i][j]==0: \n",
    "                    false_pos += 1 \n",
    "\n",
    "    if siren in list(set(article_labels_flat)): # Add to stats only if the company was part of the labels to predict\n",
    "        if true_pos ==0:\n",
    "            precision = 0\n",
    "            recall =0\n",
    "            accuracy = 0\n",
    "            F1score = 0\n",
    "        else:\n",
    "            accuracy = true_pos/positive\n",
    "            precision = true_pos/(true_pos+false_pos)\n",
    "            recall = true_pos/(true_pos+false_neg)\n",
    "            F1score = 2*(precision*recall)/(precision+recall)\n",
    "            \n",
    "        company_accuracy_list.append(accuracy)\n",
    "        company_precision_list.append(precision)\n",
    "        company_recall_list.append(recall)\n",
    "        company_F1score_list.append(F1score)\n",
    "          \n",
    "accuracy = np.average(company_accuracy_list)     \n",
    "precison = np.average(company_precision_list)\n",
    "recall = np.average(company_recall_list)\n",
    "F1score = np.average(company_F1score_list)\n",
    "print(\"######################### For Each company #########################\")\n",
    "print(\"AVG ACCURACY :\",round(accuracy,3),\"True_pos/Pos -> average for each siren\")\n",
    "print(\"AVG PRECISION:\",round(precison,3),\"True_pos/(True_Pos + False_Pos) -> average for each siren\")\n",
    "print(\"AVG RECALL   :\",round(recall,3),\"True_pos/(True_Pos + False_Neg) -> average for each siren\")\n",
    "print(\"AVG F1 score :\",round(F1score,3),\"combination of precision and recall -> average for each siren\")\n",
    "print(\"AVG ACCURACY :\",round(accuracy,3))\n",
    "print(\"AVG PRECISION:\",round(precison,3))\n",
    "print(\"AVG RECALL   :\",round(recall,3))\n",
    "print(\"AVG F1 score :\",round(F1score,3))\n",
    "print()\n",
    "########## Precision & RECALL ########## per Article      \n",
    "alpha_eval_list = list()\n",
    "article_recall_list = list()\n",
    "article_precision_list = list()\n",
    "pred_lim = 8\n",
    "alpha = 1   # penalizes errors if >1 hides errors if <1\n",
    "beta = 0.25 # weight for the missed labels (False Negative)\n",
    "gamma = 1   # weight for the wrongly predicted (False positives)\n",
    "#article_labels_set = list(set(article_labels_flat))\n",
    "article_labels_set = siren_filtered\n",
    "\n",
    "#alpha_eval_list\n",
    "for i in range(len(article_labels)):\n",
    "    alpha_eval = pow((1-((beta*article_eval[i].count(0) + gamma*pred_eval[i].count(0))/(len(set(pred_labels[i]+article_labels[i]))))),alpha) \n",
    "    #print(beta*article_eval[i].count(0) + gamma*pred_eval[i].count(0))\n",
    "    #print((len(set(pred_labels[i]+article_labels[i])))) \n",
    "    #print()\n",
    "    alpha_eval_list.append(alpha_eval)\n",
    "#recall_list\n",
    "for label in article_eval:\n",
    "    article_recall_list.append(label.count(1)/(len(label)+0.0001))\n",
    "#precision_list\n",
    "for pred in pred_eval:\n",
    "     article_precision_list.append(pred[:pred_lim].count(1)/(len(pred[:pred_lim])+0.0001))\n",
    "precison = np.average(article_precision_list)     \n",
    "recall = np.average(article_recall_list)\n",
    "alpha_eval = np.average(alpha_eval_list)\n",
    "\n",
    "print(\"######################### For Each article #########################\")\n",
    "print(\"AVG PRECISION:\",round(precison,3),\"#correct_predictions/#predictions-> average for each article\")\n",
    "print(\"AVG RECALL   :\",round(recall,3),\"#predicted_labels/#labels -> average for each article\")\n",
    "print(\"AVG alpha eval:\",round(alpha_eval,3),\"prediction score of an article -> average for each article\")\n",
    "print(\"AVG PRECISION:\",round(precison,3))\n",
    "print(\"AVG RECALL   :\",round(recall,3))\n",
    "print(\"AVG alpha eval:\",round(alpha_eval,3))\n",
    "print(\"AVG pred:\",round(np.mean(len_pred),3))\n",
    "\n",
    "plt.figure(1,figsize=(15,10))\n",
    "plt.subplot(2, 2, 1)\n",
    "plt.hist(company_precision_list, range = (0, 1), bins = 20, color = 'yellow',edgecolor = 'red')\n",
    "plt.xlabel('precision')\n",
    "plt.ylabel('count')\n",
    "plt.title('Company Precision hist')\n",
    "plt.subplot(2, 2, 2)\n",
    "plt.hist(company_recall_list, range = (0, 1), bins = 20, color = 'yellow',edgecolor = 'red')\n",
    "plt.xlabel('recall')\n",
    "plt.ylabel('count')\n",
    "plt.title('Company Recall hist')\n",
    "plt.subplot(2, 2, 3)\n",
    "plt.hist(company_accuracy_list, range = (0, 1), bins = 20, color = 'yellow',edgecolor = 'red')\n",
    "plt.xlabel('accuracy')\n",
    "plt.ylabel('count')\n",
    "plt.title('Company Accuracy hist')\n",
    "plt.subplot(2, 2, 4)\n",
    "plt.hist(company_F1score_list, range = (0, 1), bins = 20, color = 'yellow',edgecolor = 'red')\n",
    "plt.xlabel('F1score')\n",
    "plt.ylabel('count')\n",
    "plt.title('Company F1score hist')\n",
    "plt.figure(2,figsize=(15,10))\n",
    "plt.subplot(2, 2, 1)\n",
    "plt.hist(alpha_eval_list, range = (0, 1), bins = 20, color = 'yellow',edgecolor = 'red')\n",
    "plt.xlabel('alpha_eval')\n",
    "plt.ylabel('count')\n",
    "plt.title('alpha_eval hist (on each article)')\n",
    "plt.subplot(2, 2, 2)\n",
    "plt.hist(article_precision_list, range = (0, 1), bins = 20, color = 'yellow',edgecolor = 'red')\n",
    "plt.xlabel('article precision')\n",
    "plt.ylabel('count')\n",
    "plt.title('precision hist (on each article)')\n",
    "plt.subplot(2, 2, 3)\n",
    "plt.hist(article_recall_list, range = (0, 1), bins = 20, color = 'yellow',edgecolor = 'red')\n",
    "plt.xlabel('article recall')\n",
    "plt.ylabel('count')\n",
    "plt.title('recall hist (on each article)')\n"
   ]
  },
  {
   "cell_type": "code",
   "execution_count": 502,
   "metadata": {},
   "outputs": [
    {
     "data": {
      "text/plain": [
       "[(['582041943'], [0]),\n",
       " (['424264281'], [0]),\n",
       " (['447800475'], [0]),\n",
       " (['384964508', '722045622'], [0, 0]),\n",
       " (['518706890'], [0]),\n",
       " (['347951238'], [1]),\n",
       " (['485182448'], [1]),\n",
       " (['180020026', '400456513', '483279923', '780129987'], [0, 0, 0, 1]),\n",
       " (['367801404'], [0]),\n",
       " (['315387688'], [0])]"
      ]
     },
     "execution_count": 502,
     "metadata": {},
     "output_type": "execute_result"
    }
   ],
   "source": [
    "start,end = 0,10\n",
    "label_evaluation= list(zip(article_labels[start:end],article_eval[start:end]))\n",
    "label_evaluation\n",
    "#REMARQUE: On ne peut pas predire des siren qui n'ont pas plus de 5 articles associé \n",
    "#          car leur relevant words n'ont pas été calculé par le TF/IDF"
   ]
  },
  {
   "cell_type": "code",
   "execution_count": 108,
   "metadata": {},
   "outputs": [
    {
     "data": {
      "text/plain": [
       "[(['582041943'], [1]),\n",
       " (['309044840',\n",
       "   '380223313',\n",
       "   '413388596',\n",
       "   '301763116',\n",
       "   '423507730',\n",
       "   '321502049',\n",
       "   '332376292',\n",
       "   '819896192'],\n",
       "  [0, 0, 0, 0, 0, 0, 0, 0]),\n",
       " (['398248591',\n",
       "   '582074944',\n",
       "   '821143039',\n",
       "   '380867978',\n",
       "   '393430608',\n",
       "   '384407896',\n",
       "   '399146356',\n",
       "   '380373753',\n",
       "   '395062540',\n",
       "   '784364150'],\n",
       "  [0, 0, 0, 0, 0, 0, 0, 0, 0, 0]),\n",
       " (['702028234'], [0]),\n",
       " (['518706890'], [1]),\n",
       " (['347951238', '389191982', '388548091'], [1, 0, 0]),\n",
       " (['485182448', '423127281', '399361468', '508320017', '509835104'],\n",
       "  [1, 0, 0, 0, 0]),\n",
       " (['481480465',\n",
       "   '383703873',\n",
       "   '421090051',\n",
       "   '417810538',\n",
       "   '494605488',\n",
       "   '790969729'],\n",
       "  [0, 0, 0, 0, 0, 0]),\n",
       " (['380656439',\n",
       "   '375580594',\n",
       "   '414713495',\n",
       "   '397729591',\n",
       "   '732030705',\n",
       "   '351745724',\n",
       "   '562123513'],\n",
       "  [0, 0, 0, 0, 0, 0, 0]),\n",
       " ([], []),\n",
       " ([], []),\n",
       " (['349037366',\n",
       "   '487516056',\n",
       "   '414344770',\n",
       "   '345404040',\n",
       "   '332890359',\n",
       "   '410117303'],\n",
       "  [1, 0, 0, 0, 1, 0]),\n",
       " (['408790608', '722045622'], [0, 0]),\n",
       " (['380656439',\n",
       "   '375580594',\n",
       "   '414713495',\n",
       "   '397729591',\n",
       "   '732030705',\n",
       "   '351745724',\n",
       "   '562123513'],\n",
       "  [0, 0, 0, 0, 0, 0, 0]),\n",
       " (['814386520',\n",
       "   '530740562',\n",
       "   '531970051',\n",
       "   '530969781',\n",
       "   '334631868',\n",
       "   '428745020',\n",
       "   '811794601',\n",
       "   '818400145',\n",
       "   '897080289'],\n",
       "  [0, 1, 0, 0, 0, 0, 0, 0, 0]),\n",
       " (['408790608', '722045622'], [0, 0]),\n",
       " (['380656439',\n",
       "   '375580594',\n",
       "   '414713495',\n",
       "   '397729591',\n",
       "   '732030705',\n",
       "   '351745724',\n",
       "   '562123513'],\n",
       "  [0, 0, 0, 0, 0, 0, 0]),\n",
       " (['431882372',\n",
       "   '538663683',\n",
       "   '331408336',\n",
       "   '405149055',\n",
       "   '722065638',\n",
       "   '488601337',\n",
       "   '814905675',\n",
       "   '337621841',\n",
       "   '313966129',\n",
       "   '424982650'],\n",
       "  [0, 0, 0, 0, 0, 0, 0, 0, 0, 1]),\n",
       " (['538811837'], [1]),\n",
       " (['320366446',\n",
       "   '315459016',\n",
       "   '480040880',\n",
       "   '795128248',\n",
       "   '493634711',\n",
       "   '692036924',\n",
       "   '394915581',\n",
       "   '807603626',\n",
       "   '344496252'],\n",
       "  [0, 0, 0, 0, 0, 0, 0, 0, 0])]"
      ]
     },
     "execution_count": 108,
     "metadata": {},
     "output_type": "execute_result"
    }
   ],
   "source": [
    "prediction_evaluation = list(zip(pred_labels[start:end],pred_eval[start:end]))\n",
    "prediction_evaluation"
   ]
  },
  {
   "cell_type": "markdown",
   "metadata": {},
   "source": [
    "# Objective: increasing the precision"
   ]
  },
  {
   "cell_type": "code",
   "execution_count": null,
   "metadata": {},
   "outputs": [],
   "source": []
  }
 ],
 "metadata": {
  "kernelspec": {
   "display_name": "Python 3",
   "language": "python",
   "name": "python3"
  },
  "language_info": {
   "codemirror_mode": {
    "name": "ipython",
    "version": 3
   },
   "file_extension": ".py",
   "mimetype": "text/x-python",
   "name": "python",
   "nbconvert_exporter": "python",
   "pygments_lexer": "ipython3",
   "version": "3.7.9"
  }
 },
 "nbformat": 4,
 "nbformat_minor": 4
}
