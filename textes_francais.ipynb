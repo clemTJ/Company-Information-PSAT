{
 "cells": [
  {
   "cell_type": "markdown",
   "metadata": {},
   "source": [
    "# Classification de textes Francais par entreprise"
   ]
  },
  {
   "cell_type": "markdown",
   "metadata": {},
   "source": [
    "# Recuperation de donnée avec label"
   ]
  },
  {
   "cell_type": "code",
   "execution_count": 1,
   "metadata": {},
   "outputs": [],
   "source": [
    "# imports\n",
    "import pandas as pd\n",
    "import numpy as np\n",
    "import json\n",
    "from tqdm import tqdm\n",
    "from copy import deepcopy\n",
    "import ast\n",
    "from scipy import stats"
   ]
  },
  {
   "cell_type": "code",
   "execution_count": 2,
   "metadata": {},
   "outputs": [],
   "source": [
    "# fetching data\n",
    "PATH = \"./data/ArticleCompany_2020-11-17/\"\n",
    "coprus = \"corpus_check_long_SIREN_UPDATED2\"\n",
    "names = \"siren_name_map_clean\"\n",
    "\n",
    "with open(PATH + names +\".json\") as json_file: \n",
    "    dict_names = json.load(json_file) \n",
    "\n",
    "with open(PATH + coprus +\".json\") as json_file: \n",
    "    corpus_list = json.load(json_file) "
   ]
  },
  {
   "cell_type": "code",
   "execution_count": 3,
   "metadata": {},
   "outputs": [
    {
     "name": "stdout",
     "output_type": "stream",
     "text": [
      "The siren list is: <class 'str'>\n",
      "NOW the type of the siren list is: <class 'list'>\n"
     ]
    }
   ],
   "source": [
    "# Convert string to list of labels\n",
    "print (\"The siren list is:\",type(corpus_list[0][\"siren\"]))\n",
    "for document in corpus_list:\n",
    "    document[\"siren\"] = ast.literal_eval(document[\"siren\"]) # convert list in string format to list\n",
    "    for i in range(len(document[\"siren\"])): # Convert each int siren to string \n",
    "        document[\"siren\"][i] = str(document[\"siren\"][i])\n",
    "print (\"NOW the type of the siren list is:\",type(corpus_list[0][\"siren\"]))"
   ]
  },
  {
   "cell_type": "code",
   "execution_count": 4,
   "metadata": {},
   "outputs": [],
   "source": [
    "for document in corpus_list:\n",
    "    for siren in document['siren']:\n",
    "        if len(siren)>10:\n",
    "            print(siren)\n",
    "            print (document['siren'])\n",
    "            print (\"--------\")"
   ]
  },
  {
   "cell_type": "code",
   "execution_count": 5,
   "metadata": {},
   "outputs": [
    {
     "name": "stdout",
     "output_type": "stream",
     "text": [
      "There are 57540 articles in the corpus\n",
      "There are 30178 companies in the list\n"
     ]
    }
   ],
   "source": [
    "print (\"There are\", len(corpus_list), \"articles in the corpus\")\n",
    "print (\"There are\", len(dict_names), \"companies in the list\")"
   ]
  },
  {
   "cell_type": "markdown",
   "metadata": {},
   "source": [
    "## Compter Nombre d'Entreprises sans Articles"
   ]
  },
  {
   "cell_type": "code",
   "execution_count": 6,
   "metadata": {},
   "outputs": [
    {
     "name": "stdout",
     "output_type": "stream",
     "text": [
      "There are 28690 companies with labels out of the 30178 companies\n",
      "there are 1488 companies with no articles\n",
      "95.07 % of the companies have articles\n",
      "Each article of the corpus has: dict_keys(['id', 'siren', 'corpus', 'url_article'])\n"
     ]
    }
   ],
   "source": [
    "dict_count = dict()\n",
    "#for company in dict_names.keys(): dict_count[company] = 0\n",
    "for document in corpus_list:\n",
    "    sir_list = document[\"siren\"]\n",
    "    for siren in sir_list:\n",
    "        if len(siren)>10: # Should not be triggered\n",
    "            print (\"ALERT:\",siren)\n",
    "        if siren in dict_count.keys():\n",
    "            dict_count[siren] +=1\n",
    "        else:\n",
    "            dict_count[siren] = 1\n",
    "print (\"There are\",len(dict_count.keys()),\"companies with labels out of the\", len(dict_names.keys()), \"companies\")\n",
    "print (\"there are\",len(dict_names.keys())-len(dict_count.keys()),\"companies with no articles\")\n",
    "print (round(len(dict_count)/(len(dict_names))*100,2),\"% of the companies have articles\")\n",
    "print (\"Each article of the corpus has:\",corpus_list[0].keys())\n",
    "#corpus_list[0][\"corpus\"]"
   ]
  },
  {
   "cell_type": "markdown",
   "metadata": {},
   "source": [
    "## Quels sont les entreprises sans articles?"
   ]
  },
  {
   "cell_type": "code",
   "execution_count": 7,
   "metadata": {},
   "outputs": [],
   "source": [
    "dict_no_acticle_companies = dict()\n",
    "for company in dict_names.keys():\n",
    "    if company not in dict_count.keys():\n",
    "        dict_no_acticle_companies[company] = dict_names[company] "
   ]
  },
  {
   "cell_type": "code",
   "execution_count": 8,
   "metadata": {},
   "outputs": [],
   "source": [
    "for key in dict_count.keys():\n",
    "    if len(key)>10:\n",
    "        print (key)"
   ]
  },
  {
   "cell_type": "markdown",
   "metadata": {},
   "source": [
    "## Quels sont les entreprise avec 2 tags ou plus"
   ]
  },
  {
   "cell_type": "code",
   "execution_count": 9,
   "metadata": {},
   "outputs": [
    {
     "name": "stdout",
     "output_type": "stream",
     "text": [
      "DescribeResult(nobs=57540, minmax=(1, 29), mean=1.2476190476190476, variance=0.6042149465497106, skewness=8.134111908500053, kurtosis=136.5727450895893)\n",
      "There are 9362 arcticles with more that one tag out of the 57540 articles\n"
     ]
    }
   ],
   "source": [
    "multiple_siren = 0\n",
    "multiple_siren_list = list()\n",
    "for document in corpus_list:\n",
    "    if len(document[\"siren\"])==0:\n",
    "        print (\"ALERT article sans tag, id:\",document[\"id\"])\n",
    "    if len(document[\"siren\"])>1:\n",
    "        multiple_siren +=1\n",
    "    multiple_siren_list.append(len(document[\"siren\"]))\n",
    "    \n",
    "print(stats.describe(multiple_siren_list))   \n",
    "print (\"There are\",multiple_siren,\"arcticles with more that one tag out of the\",len(corpus_list),\"articles\")        "
   ]
  },
  {
   "cell_type": "markdown",
   "metadata": {},
   "source": [
    "## Etudes du nombre d'articles associer a chaque entreprise "
   ]
  },
  {
   "cell_type": "code",
   "execution_count": 10,
   "metadata": {},
   "outputs": [],
   "source": [
    "# imports\n",
    "import matplotlib.pyplot as plt\n",
    "import seaborn as sns\n",
    "from scipy import stats"
   ]
  },
  {
   "cell_type": "code",
   "execution_count": 11,
   "metadata": {},
   "outputs": [
    {
     "name": "stdout",
     "output_type": "stream",
     "text": [
      "DescribeResult(nobs=28690, minmax=(1, 175), mean=2.502195887068665, variance=28.018556298899046, skewness=11.346985559301654, kurtosis=211.55000716780165)\n",
      "There are 63.58 % articles with one associated article\n",
      "There are 90.42 % articles with less than 5 associated article\n"
     ]
    },
    {
     "data": {
      "image/png": "[encoded data removed]",
      "text/plain": [
       "<Figure size 360x360 with 1 Axes>"
      ]
     },
     "metadata": {
      "needs_background": "light"
     },
     "output_type": "display_data"
    }
   ],
   "source": [
    "# On prendre seulement les entreprises avec au moins un articles associer\n",
    "#sns.set(rc={'figure.figsize':(40,5)})\n",
    "values = list(dict_count.values())\n",
    "sns.displot(values, binwidth=1) #bins=20\n",
    "plt.xlim(0, 10)\n",
    "\n",
    "number = 5\n",
    "print(stats.describe(values))\n",
    "print (\"There are\",round(values.count(1)/len(values)*100,2), \"% articles with one associated article\")\n",
    "under_n = [1 for i in values if i < number]\n",
    "print (\"There are\",round(len(under_n)/len(values)*100,2), \"% articles with less than\",number,\"associated article\")"
   ]
  },
  {
   "cell_type": "markdown",
   "metadata": {},
   "source": [
    "# Tokenize et suppression de stop words du corpus"
   ]
  },
  {
   "cell_type": "code",
   "execution_count": 12,
   "metadata": {},
   "outputs": [],
   "source": [
    "#imports\n",
    "import nltk\n",
    "import re\n",
    "from nltk.tokenize import sent_tokenize, word_tokenize \n",
    "from nltk.corpus import stopwords\n",
    "stop_words = stopwords.words('french')"
   ]
  },
  {
   "cell_type": "code",
   "execution_count": 13,
   "metadata": {},
   "outputs": [
    {
     "name": "stdout",
     "output_type": "stream",
     "text": [
      "Number of stop words 157\n",
      "Ex: ['au', 'aux', 'avec', 'ce', 'ces']\n"
     ]
    }
   ],
   "source": [
    "print (\"Number of stop words\",len(stop_words ))\n",
    "print (\"Ex:\",stop_words[:5])"
   ]
  },
  {
   "cell_type": "code",
   "execution_count": 14,
   "metadata": {},
   "outputs": [
    {
     "name": "stderr",
     "output_type": "stream",
     "text": [
      "100%|██████████| 57540/57540 [03:13<00:00, 298.07it/s]\n"
     ]
    }
   ],
   "source": [
    "corpus_cleaned = deepcopy(corpus_list)\n",
    "for document in tqdm(corpus_cleaned):\n",
    "    plain_text = document[\"corpus\"]\n",
    "    plain_text = plain_text.lower()\n",
    "    plain_text= re.sub(r'\\s+', ' ', plain_text)\n",
    "    #plain_text = re.sub(\"[^a-z0-9]\", ' ', plain_text)\n",
    "    plain_text = re.sub(\"[^a-z]\", ' ', plain_text)\n",
    "    plain_text = re.sub(r'\\s+', ' ', plain_text)\n",
    "    #remove one letter words?\n",
    "    #remove numbers?\n",
    "    pt_words = word_tokenize(plain_text)\n",
    "    cleaned_words =list()\n",
    "    for word in pt_words:\n",
    "        if len(word)>1:\n",
    "            if word not in stop_words:\n",
    "                cleaned_words.append(word)\n",
    "    document[\"corpus\"] = cleaned_words\n",
    "# 100%|██████████| 57540/57540 [03:30<00:00, 273.74it/s]"
   ]
  },
  {
   "cell_type": "markdown",
   "metadata": {},
   "source": [
    "# Tokenize en gardant que les Noms "
   ]
  },
  {
   "cell_type": "raw",
   "metadata": {},
   "source": [
    "# \n",
    "corpus_nouns = list()\n",
    "import nltk\n",
    "from nltk.tag.stanford import StanfordPOSTagger\n",
    "root_path=\"/data/StanfordPostagger/\"\n",
    "pos_tagger = StanfordPOSTagger(root_path + \"models/french.tagger\", path_to_jar=root_path + \"stanford-postagger.jar\",encoding='utf8') #instance de la classe StanfordPOSTagger en UTF-8\n",
    "def pos_tag(sentence):\n",
    "    tokens = nltk.word_tokenize(sentence) #je transforme la phrase en tokens => si vous avez un texte avec plusieurs phrases, passez d'abord par nltk pour récupérer les phrases\n",
    "    tags = pos_tagger.tag(tokens) #lance le tagging\n",
    "    return tags\n",
    "sentence = \"Bonjour, je m'appelle Pierre Petrella.\"\n",
    "pos_tag(sentence)"
   ]
  },
  {
   "cell_type": "markdown",
   "metadata": {},
   "source": [
    "# Extraction d'entreprise avec plus de n articles sur elles"
   ]
  },
  {
   "cell_type": "code",
   "execution_count": 15,
   "metadata": {},
   "outputs": [
    {
     "name": "stdout",
     "output_type": "stream",
     "text": [
      "['419838529', '813883964', '572060333', '542104245', '399258755']\n",
      "SPIE OPERATIONS\n",
      "322120916 APPLE FRANCE\n",
      "APPLE FRANCE a 7 articles dans le corpus\n"
     ]
    }
   ],
   "source": [
    "print(list(dict_names.keys())[0:5])\n",
    "print (dict_names['399258755'])\n",
    "name_search = \"APPLE FRANCE\"\n",
    "for siren, name in dict_names.items():  # for name, age in dictionary.iteritems():  (for Python 2.x)\n",
    "    if name_search in name:\n",
    "        print(siren, name)\n",
    "print(\"APPLE FRANCE a\",dict_count[\"322120916\"],\"articles dans le corpus\")"
   ]
  },
  {
   "cell_type": "code",
   "execution_count": 16,
   "metadata": {},
   "outputs": [
    {
     "name": "stdout",
     "output_type": "stream",
     "text": [
      "There are 2084 companies with MORE than 5 associated articles\n"
     ]
    }
   ],
   "source": [
    "number = 5 # Number of articles a company must have to be kept in the list\n",
    "siren_filtered =[key for key in dict_count if dict_count[key] > number]\n",
    "print (\"There are\",len(siren_filtered),\"companies with MORE than\",number,\"associated articles\")"
   ]
  },
  {
   "cell_type": "code",
   "execution_count": 17,
   "metadata": {},
   "outputs": [],
   "source": [
    "for key in siren_filtered:\n",
    "    if len(key)>10:\n",
    "        print (key)\n",
    "#find out why label_dict"
   ]
  },
  {
   "cell_type": "markdown",
   "metadata": {},
   "source": [
    "# Creation de Train et Test set pour l'entrainement de Tf.Idf"
   ]
  },
  {
   "cell_type": "code",
   "execution_count": 18,
   "metadata": {},
   "outputs": [],
   "source": [
    "#from sklearn.model_selection import train_test_split\n",
    "import random"
   ]
  },
  {
   "cell_type": "code",
   "execution_count": 19,
   "metadata": {},
   "outputs": [
    {
     "name": "stdout",
     "output_type": "stream",
     "text": [
      "Removing unwanted articles\n",
      "We removed: 29189 articles and we have 28351 left\n",
      "Splitting data\n",
      "We have 19845 documents in the training corpus\n",
      "We have 8506 documents in the testing corpus\n"
     ]
    }
   ],
   "source": [
    "# Remove all of the articles that dont talk about our selected companies (in siren filtered)\n",
    "# Split corpus train/test\n",
    "corpus = corpus_cleaned\n",
    "train_size = 0.7\n",
    "X_train_corpus = list()\n",
    "X_test_corpus = list()\n",
    "\n",
    "#Removing unwanted articles\n",
    "print(\"Removing unwanted articles\")\n",
    "corpus_temp = list()\n",
    "for document in corpus:\n",
    "    keep = False\n",
    "    for document_sirens in document[\"siren\"]:\n",
    "        for sirens in siren_filtered:\n",
    "            if document_sirens == sirens:\n",
    "                keep = True\n",
    "    if keep:\n",
    "        corpus_temp.append(document)\n",
    "print (\"We removed:\",len(corpus)-len(corpus_temp),\"articles and we have\",len(corpus_temp),\"left\")\n",
    "corpus = corpus_temp\n",
    " \n",
    "#Splitting data\n",
    "print(\"Splitting data\") \n",
    "for document in corpus:\n",
    "    if (random.uniform(0, 1)<train_size):\n",
    "        X_train_corpus.append(document)\n",
    "    else:\n",
    "        X_test_corpus.append(document)\n",
    "print (\"We have\",len(X_train_corpus),\"documents in the training corpus\")\n",
    "print (\"We have\",len(X_test_corpus),\"documents in the testing corpus\")"
   ]
  },
  {
   "cell_type": "markdown",
   "metadata": {},
   "source": [
    "# Tf.Idf pour une liste d'entreprise sur le training data"
   ]
  },
  {
   "cell_type": "code",
   "execution_count": 20,
   "metadata": {},
   "outputs": [],
   "source": [
    "# imports\n",
    "from sklearn.feature_extraction.text import TfidfVectorizer "
   ]
  },
  {
   "cell_type": "code",
   "execution_count": 24,
   "metadata": {},
   "outputs": [
    {
     "name": "stderr",
     "output_type": "stream",
     "text": [
      "100%|██████████| 2084/2084 [1:50:00<00:00,  3.17s/it]\n"
     ]
    }
   ],
   "source": [
    "# Tf.Idf on Companies that have Associated Articles \n",
    "\n",
    "relevant_words_tfidf = {}\n",
    "corpus = X_train_corpus # corpus\n",
    "\n",
    "list_siren = siren_filtered\n",
    "\n",
    "def identity_tokenizer(text):\n",
    "    return text\n",
    "for siren in tqdm(list_siren):\n",
    "    #siren = \"322120916\" #APPLE FRANCE\n",
    "    plain_text_list = list()\n",
    "    company_article = list()\n",
    "    #binary = True\n",
    "    #sublinear_tf=False\n",
    "    tfidf_vectorizer = TfidfVectorizer(tokenizer=identity_tokenizer, ngram_range = (1,1), lowercase=False, sublinear_tf=True)\n",
    "    for document in corpus:\n",
    "        if siren in document[\"siren\"]:\n",
    "            company_article = company_article+document[\"corpus\"]  # add article to company BIG article\n",
    "        else:\n",
    "            plain_text_list.append(document[\"corpus\"]) # otherwise add to corpus\n",
    "\n",
    "    plain_text_list.insert(0,company_article) # add company article to begging of corpus\n",
    "    tfidf_vectorizer_vectors=tfidf_vectorizer.fit_transform(plain_text_list)\n",
    "\n",
    "    #Get the tf-idf scores for the words in the company article complication.\n",
    "    first_vector_tfidfvectorizer=tfidf_vectorizer_vectors[0] # discard tf.idf scores for the other texts\n",
    "\n",
    "    # place tf-idf values in a pandas data frame \n",
    "    df = pd.DataFrame(first_vector_tfidfvectorizer.T.todense(), index=tfidf_vectorizer.get_feature_names(), columns=[\"tfidf\"]) \n",
    "    df = df.sort_values(by=[\"tfidf\"],ascending=False).head(40) # Take top 40 words\n",
    "\n",
    "    relevant_words_tfidf[siren] = list(zip(list(df.index),list(df[\"tfidf\"])))\n",
    "    #print (relevant_words_tfidf[company])\n",
    "\n",
    "#100%|██████████| 100/100 [22:35<00:00, 13.55s/it]\n",
    "#100%|██████████| 2084/2084 [2:19:42<00:00,  4.02s/it] \n",
    "#100%|██████████| 2084/2084 [2:03:31<00:00,  3.56s/it] # binary\n",
    "#100%|██████████| 2084/2084 [1:50:00<00:00,  3.17s/it] # sublinear_tf"
   ]
  },
  {
   "cell_type": "code",
   "execution_count": null,
   "metadata": {},
   "outputs": [],
   "source": [
    "relevant_words_tfidf"
   ]
  },
  {
   "cell_type": "raw",
   "metadata": {},
   "source": [
    "# save dictionary\n",
    "PATH = \"./relevant_words/francais/\"\n",
    "file = \"relevant_words_tfidf_5articles_\"\n",
    "a_file = open(PATH + file + \".json\", \"w\")\n",
    "json.dump(relevant_words_tfidf, a_file)\n",
    "a_file.close()\n",
    "print (file,\"is saved successfully\")"
   ]
  },
  {
   "cell_type": "code",
   "execution_count": 108,
   "metadata": {},
   "outputs": [
    {
     "name": "stdout",
     "output_type": "stream",
     "text": [
      "relevant_words_tfidf_5articles_sublinear_tf is loaded successfully\n"
     ]
    }
   ],
   "source": [
    "# load dictionary \n",
    "PATH = \"./relevant_words/francais/\"\n",
    "file = \"relevant_words_tfidf_5articles_sublinear_tf\"\n",
    "a_file = open(PATH + file + \".json\", \"r\")\n",
    "relevant_words_tfidf = json.load(a_file)\n",
    "#relevant_words_tfidf = dict(relevant_words_tfidf)\n",
    "# check if well loaded\n",
    "print (file,\"is loaded successfully\") "
   ]
  },
  {
   "cell_type": "code",
   "execution_count": 18,
   "metadata": {},
   "outputs": [],
   "source": [
    "#relevant_words_tfidf.keys()\n",
    "#relevant_words_tfidf['419838529']\n",
    "#type(relevant_words_tfidf)"
   ]
  },
  {
   "cell_type": "markdown",
   "metadata": {},
   "source": [
    "# Fetching Relevant Words from ES"
   ]
  },
  {
   "cell_type": "raw",
   "metadata": {},
   "source": [
    "# load dictionary \n",
    "PATH = \"./relevant_words/francais/\"\n",
    "file = \"relevant_words_ES\"\n",
    "a_file = open(PATH + file + \".json\", \"r\")\n",
    "relevant_words_es = json.load(a_file)\n",
    "#relevant_words_tfidf = dict(relevant_words_tfidf)\n",
    "\n",
    "\n",
    "# check if well loaded\n",
    "print (file,\"is loaded successfully\") "
   ]
  },
  {
   "cell_type": "markdown",
   "metadata": {},
   "source": [
    "# Text Classifier"
   ]
  },
  {
   "cell_type": "code",
   "execution_count": 110,
   "metadata": {},
   "outputs": [],
   "source": [
    "# imports\n",
    "import operator"
   ]
  },
  {
   "cell_type": "code",
   "execution_count": 111,
   "metadata": {},
   "outputs": [],
   "source": [
    "#################################################################\n",
    "# CLEANING PLAIN TEXT\n",
    "#Input  : Plain text - String\n",
    "#Output : Text removing all punctuation and lowercased\n",
    "#################################################################\n",
    "def clean_plain_text(text):\n",
    "    text = text.lower()\n",
    "    text = re.sub(r'\\s+', ' ', text)\n",
    "    text = re.sub(\"[^a-z0-9]\", ' ', text)\n",
    "    text = re.sub(r'\\s+', ' ', text)\n",
    "    return text"
   ]
  },
  {
   "cell_type": "code",
   "execution_count": 125,
   "metadata": {},
   "outputs": [],
   "source": [
    "#################################################################\n",
    "# Gives a companies \"related score\" wrt an article (using it's significant words)\n",
    "#INPUT :plain_text- String/ word_list - list of significant words\n",
    "#OUTPUT: Score the chances the company is related to the article\n",
    "#################################################################\n",
    "def score_company(plain_text, word_list): \n",
    "    epsilon = 0.0001\n",
    "    avg_word_length =6+1 #+1 counting the spaces\n",
    "    n_words = len(word_list)\n",
    "    words_in_text = 0\n",
    "    #print (word_list)\n",
    "    for word in word_list:\n",
    "        words_in_text +=plain_text.count(word)\n",
    "    #return words_in_text\n",
    "    return words_in_text/(len(plain_text)/avg_word_length + epsilon)"
   ]
  },
  {
   "cell_type": "code",
   "execution_count": 113,
   "metadata": {},
   "outputs": [],
   "source": [
    "#################################################################\n",
    "# For an Article, gives the \"related scores\" for all companies\n",
    "#INPUT :plain_text- String/company related words - dict/ params\n",
    "#OUTPUT: dict of companies and their \"related scores\"\n",
    "#################################################################\n",
    "def text_label_scores(plain_text,related_words,n_sig_words=10, min_score = 0.01):\n",
    "    label_dict = {}\n",
    "    #print (sig_words_list)\n",
    "    for siren in related_words.keys():\n",
    "        #print(\"Company\", company)\n",
    "        sig_words_list = np.array(relevant_words_tfidf[siren])[:n_sig_words,0] # Build significant word list (with no scores)\n",
    "        #print (\"sig_words_list\")\n",
    "        score = score_company(plain_text, sig_words_list)\n",
    "        #print (score)\n",
    "        if score>=min_score:\n",
    "            label_dict[siren]= score\n",
    "    ### Soft_max ###\n",
    "    #sum_exp = sum([np.exp(v) for v in label_dict.values()])\n",
    "    #label_dict = {k: np.exp(v)/sum_exp for k, v in sorted(label_dict.items(), key=lambda item: -item[1])}\n",
    "    ### normalizing score ###\n",
    "    #max_val = max(label_dict.values())\n",
    "    #label_dict = {k: v/max_val for k, v in sorted(label_dict.items(), key=lambda item: -item[1])}\n",
    "    ### Plain score ###\n",
    "    label_dict = {k: v for k, v in sorted(label_dict.items(), key=lambda item: -item[1])}\n",
    "    return label_dict"
   ]
  },
  {
   "cell_type": "code",
   "execution_count": 120,
   "metadata": {},
   "outputs": [
    {
     "name": "stdout",
     "output_type": "stream",
     "text": [
      "{'510302953': 0.13433858807402332, '500034574': 0.1199451679232351, '802798975': 0.1199451679232351, '515151447': 0.1199451679232351, '412460354': 0.1151473612063057, '502240625': 0.1151473612063057, '450804364': 0.1151473612063057, '323159715': 0.1151473612063057, '489869321': 0.1151473612063057, '532501848': 0.10555174777244689, '320050859': 0.10555174777244689}\n"
     ]
    }
   ],
   "source": [
    "# testing text_label_scores\n",
    "plain_text = \"\"\"\n",
    "The New York Times said on Monday that it was exiting its partnership with Apple News, as news organizations struggle to compete with large tech companies for readers’ attention and dollars.\n",
    "\n",
    "Starting on Monday, Times articles were no longer appearing alongside those from other publications in the curated Apple News feed available on Apple devices.\n",
    "\n",
    "The Times is one of the first media organizations to pull out of Apple News. The Times, which has made adding new subscribers a key business goal, said Apple had given it little in the way of direct relationships with readers and little control over the business. It said it hoped to instead drive readers directly to its own website and mobile app so that it could “fund quality journalism.”\n",
    "\n",
    "“Core to a healthy model between The Times and the platforms is a direct path for sending those readers back into our environments, where we control the presentation of our report, the relationships with our readers and the nature of our business rules,” Meredith Kopit Levien, chief operating officer, wrote in a memo to employees. “Our relationship with Apple News does not fit within these parameters.”\n",
    "\n",
    "An Apple spokesman said that The Times “only offered Apple News a few stories a day,” and that the company would continue to provide readers with trusted information from thousands of publishers.\n",
    "\n",
    "“We are also committed to supporting quality journalism through the proven business models of advertising, subscriptions and commerce,” he said.\"\n",
    "\"\"\"\n",
    "plain_text = clean_plain_text(plain_text)\n",
    "\n",
    "related_words = relevant_words_tfidf\n",
    "n_sig_words= 10\n",
    "min_score = 0.1 # nbr of sig words in text\n",
    "#print (plain_text)\n",
    "label_dict = text_label_scores(plain_text,related_words, n_sig_words, min_score)\n",
    "print(label_dict)\n",
    "for key in label_dict.keys(): # Should not trigger\n",
    "    if len(key)>10:\n",
    "        print (key)\n",
    "#find out why label_dict"
   ]
  },
  {
   "cell_type": "markdown",
   "metadata": {},
   "source": [
    "# Function to return predicted text labels"
   ]
  },
  {
   "cell_type": "code",
   "execution_count": 121,
   "metadata": {},
   "outputs": [],
   "source": [
    "#################################################################\n",
    "# For an Article, predicts the labels (sirens)\n",
    "#INPUT : plain_text- String/company related words - dict/ params\n",
    "#OUTPUT: dict of companies and their \"related scores\"\n",
    "#################################################################\n",
    "def label_text(plain_text,related_words, n_sig_words= 10, min_score = 0.1):\n",
    "    label_dict = text_label_scores(plain_text,related_words, n_sig_words, min_score)\n",
    "    #print(\"best score\",label_dict[list(label_dict.keys())[0]])\n",
    "    sirens = list(label_dict.keys())\n",
    "    return sirens[:8] # limiting the number of predictions to 8"
   ]
  },
  {
   "cell_type": "markdown",
   "metadata": {},
   "source": [
    "# Testing accuracy of the model"
   ]
  },
  {
   "cell_type": "code",
   "execution_count": 126,
   "metadata": {},
   "outputs": [
    {
     "name": "stderr",
     "output_type": "stream",
     "text": [
      "100%|██████████| 100/100 [00:34<00:00,  2.92it/s]\n"
     ]
    }
   ],
   "source": [
    "# Convert the list in the sirens to actual list!\n",
    "\n",
    "related_words = relevant_words_tfidf #model related words\n",
    "corpus = X_train_corpus[:100] # pour verifier que on peut sur entrainer\n",
    "#corpus = X_test_corpus[:] # pour tester sur de nouveaux articles\n",
    "model_eval = list()\n",
    "pred_stats = list()\n",
    "for document in tqdm(corpus):\n",
    "    plain_text = document[\"corpus\"]\n",
    "    pred_siren = label_text(plain_text,related_words, n_sig_words= 10, min_score = 0.1)\n",
    "    pred_stats += pred_siren\n",
    "    #print (plain_text)\n",
    "    true_label =document[\"siren\"]\n",
    "    #print (\"true_label\",true_label)\n",
    "    #print(\"pred_siren\",pred_siren)\n",
    "    is_labeled = [0]*len(pred_siren)\n",
    "    for i in range(len(pred_siren)):  # For each prediction list tag the good and bad predictions\n",
    "        for label in true_label:\n",
    "            if pred_siren[i]==label:\n",
    "                is_labeled[i]=1\n",
    "    model_eval.append(is_labeled) \n",
    "    #print (is_labeled)\n",
    "#print (res)"
   ]
  },
  {
   "cell_type": "markdown",
   "metadata": {},
   "source": [
    "# EVALUATING MODEL"
   ]
  },
  {
   "cell_type": "code",
   "execution_count": 117,
   "metadata": {},
   "outputs": [],
   "source": [
    "import matplotlib.pylab as plt"
   ]
  },
  {
   "cell_type": "code",
   "execution_count": 124,
   "metadata": {},
   "outputs": [
    {
     "name": "stdout",
     "output_type": "stream",
     "text": [
      "There are 10 texts evaluated\n",
      "Accuracy1: 1.0 (with at least ONE label predicted)\n",
      "Accuracy2: 0.9 (with ALL labels predicted)\n",
      "Accuracy3: 0.9 (with ALL labels predicted in the FIRST predictions)\n",
      "Accuracy4: 0.35714285714285715 (Number of correct predictions over total number of predictions overall)\n",
      "Average number of predictions 2.8 vs average number of labels : 1.1\n",
      "The siren that is predicted the most is: 419838529 ( 10 times)\n"
     ]
    }
   ],
   "source": [
    "# How many times (at least) one of the companies are predicted\n",
    "print (\"There are\",len(model_eval),\"texts evaluated\")\n",
    "acc1 = list()\n",
    "for preds in model_eval:\n",
    "    acc1.append(any(preds))\n",
    "print(\"Accuracy1:\", np.sum(acc1)/len(model_eval),\"(with at least ONE label predicted)\")\n",
    "\n",
    "# How many times ALL the labels are present in the prediction. \n",
    "acc2 = list()\n",
    "for i in range(len(model_eval)):\n",
    "    len_label = len(corpus[i][\"siren\"])\n",
    "    n_correct_pred = np.sum(model_eval[i])\n",
    "    if len_label==n_correct_pred:\n",
    "        acc2.append(True)\n",
    "    else:\n",
    "        acc2.append(False)\n",
    "    if len(corpus[i][\"siren\"])<np.sum(model_eval[i]): # Should never trigger\n",
    "        print(\"Error to many good predictions\")   \n",
    "print(\"Accuracy2:\", np.sum(acc2)/len(model_eval),\"(with ALL labels predicted)\")\n",
    "\n",
    "# How many times ALL the labels are present in the prediction and are . \n",
    "acc3 = list()\n",
    "for i in range(len(model_eval)):\n",
    "    len_label = len(corpus[i][\"siren\"])\n",
    "    n_first_correct_pred = np.sum(model_eval[i][:len_label])# Keeping only the len_label first predictions\n",
    "    if len_label==n_first_correct_pred:\n",
    "        acc3.append(True)\n",
    "    else:\n",
    "        acc3.append(False)\n",
    "    if len(corpus[i][\"siren\"])<np.sum(model_eval[i]): # Should never trigger\n",
    "        print(\"Error to many good predictions\") \n",
    "print(\"Accuracy3:\", np.sum(acc3)/len(model_eval),\"(with ALL labels predicted in the FIRST predictions)\")\n",
    "\n",
    "# How many predictions are wrong wrt. how many are right (TRUE, FALSE)\n",
    "true_pred = 0\n",
    "pred = 0\n",
    "for preds in model_eval:\n",
    "    true_pred += np.sum(preds)\n",
    "    pred += len(preds)\n",
    "print(\"Accuracy4:\",true_pred/pred,\"(Number of correct predictions over total number of predictions overall)\")\n",
    "\n",
    "# Average number of predictions vs average number of labels\n",
    "len_label = list()\n",
    "len_pred = list()\n",
    "for i in range(len(model_eval)):\n",
    "    len_label.append(len(corpus[i][\"siren\"]))\n",
    "    len_pred.append(len(model_eval[i]))\n",
    "print(\"Average number of predictions\",np.mean(len_pred),\"vs average number of labels :\", np.mean(len_label))\n",
    "\n",
    "# Most commun labels predicted\n",
    "count_pred = dict()\n",
    "for siren in pred_stats:\n",
    "    if siren in count_pred.keys():\n",
    "        count_pred[siren] +=1\n",
    "    else:\n",
    "        count_pred[siren] = 1\n",
    "key_max = list(filter(lambda t: t[1]==max(count_pred.values()), count_pred.items()))[0][0] \n",
    "print(\"The siren that is predicted the most is:\",key_max,\"(\",np.max(list(count_pred.values())),\"times)\")\n",
    "#sns.catplot(x=\"deck\", kind=\"count\", palette=\"ch:.25\", data=pred_stats)\n",
    "# Influence of the min_score/ n_sig_words on the prediction.\n",
    "\n",
    "# Influence on the prediction protocol influence.\n"
   ]
  },
  {
   "cell_type": "code",
   "execution_count": null,
   "metadata": {},
   "outputs": [],
   "source": []
  },
  {
   "cell_type": "code",
   "execution_count": null,
   "metadata": {},
   "outputs": [],
   "source": []
  }
 ],
 "metadata": {
  "kernelspec": {
   "display_name": "Python 3",
   "language": "python",
   "name": "python3"
  },
  "language_info": {
   "codemirror_mode": {
    "name": "ipython",
    "version": 3
   },
   "file_extension": ".py",
   "mimetype": "text/x-python",
   "name": "python",
   "nbconvert_exporter": "python",
   "pygments_lexer": "ipython3",
   "version": "3.7.9"
  }
 },
 "nbformat": 4,
 "nbformat_minor": 4
}
